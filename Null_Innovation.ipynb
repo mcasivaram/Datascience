{
  "cells": [
    {
      "cell_type": "markdown",
      "metadata": {
        "id": "view-in-github",
        "colab_type": "text"
      },
      "source": [
        "<a href=\"https://colab.research.google.com/github/mcasivaram/Datascience/blob/main/Null_Innovation.ipynb\" target=\"_parent\"><img src=\"https://colab.research.google.com/assets/colab-badge.svg\" alt=\"Open In Colab\"/></a>"
      ]
    },
    {
      "cell_type": "markdown",
      "source": [
        "# **NULL Innovation Private Limited**"
      ],
      "metadata": {
        "id": "V8F7SmjkQc_T"
      }
    },
    {
      "cell_type": "markdown",
      "source": [
        "# **Task:**\n",
        "# 1. Identify the intent of tweet using ML models."
      ],
      "metadata": {
        "id": "_Ap8buZWRPLN"
      }
    },
    {
      "cell_type": "code",
      "execution_count": 1,
      "metadata": {
        "id": "5uIMiHU6vIJ9"
      },
      "outputs": [],
      "source": [
        "import pandas as pd\n",
        "import numpy as np"
      ]
    },
    {
      "cell_type": "code",
      "execution_count": 2,
      "metadata": {
        "id": "4smLVXrkwcn3"
      },
      "outputs": [],
      "source": [
        "data=pd.read_csv(\"/content/drive/MyDrive/Tweet_NFT.xlsx - Sheet1.csv\")"
      ]
    },
    {
      "cell_type": "markdown",
      "source": [
        "# Importing the dataset :"
      ],
      "metadata": {
        "id": "divXpEWMRgUF"
      }
    },
    {
      "cell_type": "code",
      "execution_count": 3,
      "metadata": {
        "id": "6zinKIkXxynO"
      },
      "outputs": [],
      "source": [
        "df1=pd.DataFrame(data)"
      ]
    },
    {
      "cell_type": "code",
      "execution_count": 4,
      "metadata": {
        "colab": {
          "base_uri": "https://localhost:8080/"
        },
        "id": "Oyoq6l1R5PhF",
        "outputId": "35789681-05a1-4da2-e3aa-571347061d79"
      },
      "outputs": [
        {
          "output_type": "execute_result",
          "data": {
            "text/plain": [
              "96364"
            ]
          },
          "metadata": {},
          "execution_count": 4
        }
      ],
      "source": [
        "df1['tweet_intent'].count()"
      ]
    },
    {
      "cell_type": "code",
      "execution_count": 5,
      "metadata": {
        "colab": {
          "base_uri": "https://localhost:8080/"
        },
        "id": "P6VsMmYUysfq",
        "outputId": "a274d8c9-dadb-4422-dede-e2c77fded0e4"
      },
      "outputs": [
        {
          "output_type": "execute_result",
          "data": {
            "text/plain": [
              "31089"
            ]
          },
          "metadata": {},
          "execution_count": 5
        }
      ],
      "source": [
        "df1['tweet_intent'].isnull().sum()"
      ]
    },
    {
      "cell_type": "code",
      "source": [
        "df1.head()"
      ],
      "metadata": {
        "colab": {
          "base_uri": "https://localhost:8080/",
          "height": 206
        },
        "id": "rRI5z_sQLpEC",
        "outputId": "ed42a434-21f1-4bf5-925d-6a09e1251ed9"
      },
      "execution_count": 6,
      "outputs": [
        {
          "output_type": "execute_result",
          "data": {
            "text/plain": [
              "        id                                         tweet_text  \\\n",
              "0  1212762  @crypto_brody @eCoLoGy1990 @MoonrunnersNFT @It...   \n",
              "1  1212763  Need Sick Character artâ“#art #artist #Artist...   \n",
              "2  1212765  @The_Hulk_NFT @INagotchiNFT @Tesla @killabears...   \n",
              "3  1212766  @CryptoBatzNFT @DarekBTW The first project in ...   \n",
              "4  1212767  @sashadysonn The first project in crypto with ...   \n",
              "\n",
              "           tweet_created_at  tweet_intent  \n",
              "0  2022-08-06T16:56:36.000Z     Community  \n",
              "1  2022-08-06T16:56:36.000Z      Giveaway  \n",
              "2  2022-08-06T16:56:35.000Z  Appreciation  \n",
              "3  2022-08-06T16:56:35.000Z     Community  \n",
              "4  2022-08-06T16:56:34.000Z     Community  "
            ],
            "text/html": [
              "\n",
              "  <div id=\"df-f967f560-9a64-40bd-ba5a-e7e50a7941b2\">\n",
              "    <div class=\"colab-df-container\">\n",
              "      <div>\n",
              "<style scoped>\n",
              "    .dataframe tbody tr th:only-of-type {\n",
              "        vertical-align: middle;\n",
              "    }\n",
              "\n",
              "    .dataframe tbody tr th {\n",
              "        vertical-align: top;\n",
              "    }\n",
              "\n",
              "    .dataframe thead th {\n",
              "        text-align: right;\n",
              "    }\n",
              "</style>\n",
              "<table border=\"1\" class=\"dataframe\">\n",
              "  <thead>\n",
              "    <tr style=\"text-align: right;\">\n",
              "      <th></th>\n",
              "      <th>id</th>\n",
              "      <th>tweet_text</th>\n",
              "      <th>tweet_created_at</th>\n",
              "      <th>tweet_intent</th>\n",
              "    </tr>\n",
              "  </thead>\n",
              "  <tbody>\n",
              "    <tr>\n",
              "      <th>0</th>\n",
              "      <td>1212762</td>\n",
              "      <td>@crypto_brody @eCoLoGy1990 @MoonrunnersNFT @It...</td>\n",
              "      <td>2022-08-06T16:56:36.000Z</td>\n",
              "      <td>Community</td>\n",
              "    </tr>\n",
              "    <tr>\n",
              "      <th>1</th>\n",
              "      <td>1212763</td>\n",
              "      <td>Need Sick Character artâ“#art #artist #Artist...</td>\n",
              "      <td>2022-08-06T16:56:36.000Z</td>\n",
              "      <td>Giveaway</td>\n",
              "    </tr>\n",
              "    <tr>\n",
              "      <th>2</th>\n",
              "      <td>1212765</td>\n",
              "      <td>@The_Hulk_NFT @INagotchiNFT @Tesla @killabears...</td>\n",
              "      <td>2022-08-06T16:56:35.000Z</td>\n",
              "      <td>Appreciation</td>\n",
              "    </tr>\n",
              "    <tr>\n",
              "      <th>3</th>\n",
              "      <td>1212766</td>\n",
              "      <td>@CryptoBatzNFT @DarekBTW The first project in ...</td>\n",
              "      <td>2022-08-06T16:56:35.000Z</td>\n",
              "      <td>Community</td>\n",
              "    </tr>\n",
              "    <tr>\n",
              "      <th>4</th>\n",
              "      <td>1212767</td>\n",
              "      <td>@sashadysonn The first project in crypto with ...</td>\n",
              "      <td>2022-08-06T16:56:34.000Z</td>\n",
              "      <td>Community</td>\n",
              "    </tr>\n",
              "  </tbody>\n",
              "</table>\n",
              "</div>\n",
              "      <button class=\"colab-df-convert\" onclick=\"convertToInteractive('df-f967f560-9a64-40bd-ba5a-e7e50a7941b2')\"\n",
              "              title=\"Convert this dataframe to an interactive table.\"\n",
              "              style=\"display:none;\">\n",
              "        \n",
              "  <svg xmlns=\"http://www.w3.org/2000/svg\" height=\"24px\"viewBox=\"0 0 24 24\"\n",
              "       width=\"24px\">\n",
              "    <path d=\"M0 0h24v24H0V0z\" fill=\"none\"/>\n",
              "    <path d=\"M18.56 5.44l.94 2.06.94-2.06 2.06-.94-2.06-.94-.94-2.06-.94 2.06-2.06.94zm-11 1L8.5 8.5l.94-2.06 2.06-.94-2.06-.94L8.5 2.5l-.94 2.06-2.06.94zm10 10l.94 2.06.94-2.06 2.06-.94-2.06-.94-.94-2.06-.94 2.06-2.06.94z\"/><path d=\"M17.41 7.96l-1.37-1.37c-.4-.4-.92-.59-1.43-.59-.52 0-1.04.2-1.43.59L10.3 9.45l-7.72 7.72c-.78.78-.78 2.05 0 2.83L4 21.41c.39.39.9.59 1.41.59.51 0 1.02-.2 1.41-.59l7.78-7.78 2.81-2.81c.8-.78.8-2.07 0-2.86zM5.41 20L4 18.59l7.72-7.72 1.47 1.35L5.41 20z\"/>\n",
              "  </svg>\n",
              "      </button>\n",
              "      \n",
              "  <style>\n",
              "    .colab-df-container {\n",
              "      display:flex;\n",
              "      flex-wrap:wrap;\n",
              "      gap: 12px;\n",
              "    }\n",
              "\n",
              "    .colab-df-convert {\n",
              "      background-color: #E8F0FE;\n",
              "      border: none;\n",
              "      border-radius: 50%;\n",
              "      cursor: pointer;\n",
              "      display: none;\n",
              "      fill: #1967D2;\n",
              "      height: 32px;\n",
              "      padding: 0 0 0 0;\n",
              "      width: 32px;\n",
              "    }\n",
              "\n",
              "    .colab-df-convert:hover {\n",
              "      background-color: #E2EBFA;\n",
              "      box-shadow: 0px 1px 2px rgba(60, 64, 67, 0.3), 0px 1px 3px 1px rgba(60, 64, 67, 0.15);\n",
              "      fill: #174EA6;\n",
              "    }\n",
              "\n",
              "    [theme=dark] .colab-df-convert {\n",
              "      background-color: #3B4455;\n",
              "      fill: #D2E3FC;\n",
              "    }\n",
              "\n",
              "    [theme=dark] .colab-df-convert:hover {\n",
              "      background-color: #434B5C;\n",
              "      box-shadow: 0px 1px 3px 1px rgba(0, 0, 0, 0.15);\n",
              "      filter: drop-shadow(0px 1px 2px rgba(0, 0, 0, 0.3));\n",
              "      fill: #FFFFFF;\n",
              "    }\n",
              "  </style>\n",
              "\n",
              "      <script>\n",
              "        const buttonEl =\n",
              "          document.querySelector('#df-f967f560-9a64-40bd-ba5a-e7e50a7941b2 button.colab-df-convert');\n",
              "        buttonEl.style.display =\n",
              "          google.colab.kernel.accessAllowed ? 'block' : 'none';\n",
              "\n",
              "        async function convertToInteractive(key) {\n",
              "          const element = document.querySelector('#df-f967f560-9a64-40bd-ba5a-e7e50a7941b2');\n",
              "          const dataTable =\n",
              "            await google.colab.kernel.invokeFunction('convertToInteractive',\n",
              "                                                     [key], {});\n",
              "          if (!dataTable) return;\n",
              "\n",
              "          const docLinkHtml = 'Like what you see? Visit the ' +\n",
              "            '<a target=\"_blank\" href=https://colab.research.google.com/notebooks/data_table.ipynb>data table notebook</a>'\n",
              "            + ' to learn more about interactive tables.';\n",
              "          element.innerHTML = '';\n",
              "          dataTable['output_type'] = 'display_data';\n",
              "          await google.colab.output.renderOutput(dataTable, element);\n",
              "          const docLink = document.createElement('div');\n",
              "          docLink.innerHTML = docLinkHtml;\n",
              "          element.appendChild(docLink);\n",
              "        }\n",
              "      </script>\n",
              "    </div>\n",
              "  </div>\n",
              "  "
            ]
          },
          "metadata": {},
          "execution_count": 6
        }
      ]
    },
    {
      "cell_type": "markdown",
      "source": [
        "# Droping unwanted columns :"
      ],
      "metadata": {
        "id": "FdYypigGRwfz"
      }
    },
    {
      "cell_type": "code",
      "execution_count": 7,
      "metadata": {
        "id": "hIfKHhiB1cjJ"
      },
      "outputs": [],
      "source": [
        "df1=df1.dropna()  "
      ]
    },
    {
      "cell_type": "code",
      "execution_count": 8,
      "metadata": {
        "id": "TpkqNpWKzRWu"
      },
      "outputs": [],
      "source": [
        "df1=df1.drop(['id','tweet_created_at'],axis=1)"
      ]
    },
    {
      "cell_type": "code",
      "source": [],
      "metadata": {
        "id": "q5GqfZ6kLjGY"
      },
      "execution_count": 8,
      "outputs": []
    },
    {
      "cell_type": "code",
      "execution_count": 9,
      "metadata": {
        "colab": {
          "base_uri": "https://localhost:8080/"
        },
        "id": "nYHXdARPWagi",
        "outputId": "dba9a610-f4bd-4bab-8ccb-a991f588e3b5"
      },
      "outputs": [
        {
          "output_type": "execute_result",
          "data": {
            "text/plain": [
              "0        @crypto_brody @eCoLoGy1990 @MoonrunnersNFT @It...\n",
              "1        Need Sick Character artâ“#art #artist #Artist...\n",
              "2        @The_Hulk_NFT @INagotchiNFT @Tesla @killabears...\n",
              "3        @CryptoBatzNFT @DarekBTW The first project in ...\n",
              "4        @sashadysonn The first project in crypto with ...\n",
              "                               ...                        \n",
              "96359    @nft_cryptogang @liuyan93721534 0x9fE808D8a9E2...\n",
              "96360    Just registered to win @cryptopunksnfts #1859 ...\n",
              "96361    @SolSniffer Dyor on the nft collection \"Dictat...\n",
              "96362    #NFT #NFTCommmunity #DeltaFlare\\nJoin me on Di...\n",
              "96363    @DuckBathing @diozoth @elonmusk @richerd @John...\n",
              "Name: tweet_text, Length: 96364, dtype: object"
            ]
          },
          "metadata": {},
          "execution_count": 9
        }
      ],
      "source": [
        "df1['tweet_text']"
      ]
    },
    {
      "cell_type": "markdown",
      "source": [
        "# Starts cleaning the data :"
      ],
      "metadata": {
        "id": "QcNRiIlQR5MP"
      }
    },
    {
      "cell_type": "code",
      "execution_count": 10,
      "metadata": {
        "colab": {
          "base_uri": "https://localhost:8080/"
        },
        "id": "V5wFkiWEBwAH",
        "outputId": "d77176f0-00f8-44fd-ad72-147c9b6d4bfa"
      },
      "outputs": [
        {
          "output_type": "stream",
          "name": "stderr",
          "text": [
            "/usr/local/lib/python3.7/dist-packages/ipykernel_launcher.py:1: FutureWarning: The default value of regex will change from True to False in a future version.\n",
            "  \"\"\"Entry point for launching an IPython kernel.\n"
          ]
        }
      ],
      "source": [
        "df1['tweet_processed'] = df1['tweet_text'].str.replace(\"[^a-zA-Z]\", \" \")"
      ]
    },
    {
      "cell_type": "code",
      "execution_count": 11,
      "metadata": {
        "id": "IE3tpipB0Nak"
      },
      "outputs": [],
      "source": [
        "df1['tweet_processed'] = df1['tweet_processed'].apply(lambda row: ' '.join([word for word in row.split() if len(word)>2]))"
      ]
    },
    {
      "cell_type": "code",
      "execution_count": 12,
      "metadata": {
        "colab": {
          "base_uri": "https://localhost:8080/"
        },
        "id": "WdUi3699WVco",
        "outputId": "6d4c9977-5564-48e9-ebfa-17efe122c954"
      },
      "outputs": [
        {
          "output_type": "execute_result",
          "data": {
            "text/plain": [
              "0        crypto brody eCoLoGy MoonrunnersNFT ItsukiNFT ...\n",
              "1        Need Sick Character art art artist Artists ani...\n",
              "2        The Hulk NFT INagotchiNFT Tesla killabearsnft ...\n",
              "3        CryptoBatzNFT DarekBTW The first project crypt...\n",
              "4        sashadysonn The first project crypto with move...\n",
              "                               ...                        \n",
              "96359                     nft cryptogang liuyan Thanks lot\n",
              "96360    Just registered win cryptopunksnfts with blokp...\n",
              "96361    SolSniffer Dyor the nft collection Dictators t...\n",
              "96362    NFT NFTCommmunity DeltaFlare Join Discord http...\n",
              "96363    DuckBathing diozoth elonmusk richerd John NFT ...\n",
              "Name: tweet_processed, Length: 96364, dtype: object"
            ]
          },
          "metadata": {},
          "execution_count": 12
        }
      ],
      "source": [
        "df1['tweet_processed']"
      ]
    },
    {
      "cell_type": "code",
      "execution_count": 13,
      "metadata": {
        "id": "lurdqOaYWwSP"
      },
      "outputs": [],
      "source": [
        "df1['tweet_processed'] = [tweet.lower() for tweet in df1['tweet_processed']]"
      ]
    },
    {
      "cell_type": "code",
      "execution_count": 14,
      "metadata": {
        "colab": {
          "base_uri": "https://localhost:8080/"
        },
        "id": "jlz_suv2W98l",
        "outputId": "6008103a-5137-4ff6-cdcb-fc09f698b889"
      },
      "outputs": [
        {
          "output_type": "execute_result",
          "data": {
            "text/plain": [
              "0        crypto brody ecology moonrunnersnft itsukinft ...\n",
              "1        need sick character art art artist artists ani...\n",
              "2        the hulk nft inagotchinft tesla killabearsnft ...\n",
              "3        cryptobatznft darekbtw the first project crypt...\n",
              "4        sashadysonn the first project crypto with move...\n",
              "                               ...                        \n",
              "96359                     nft cryptogang liuyan thanks lot\n",
              "96360    just registered win cryptopunksnfts with blokp...\n",
              "96361    solsniffer dyor the nft collection dictators t...\n",
              "96362    nft nftcommmunity deltaflare join discord http...\n",
              "96363    duckbathing diozoth elonmusk richerd john nft ...\n",
              "Name: tweet_processed, Length: 96364, dtype: object"
            ]
          },
          "metadata": {},
          "execution_count": 14
        }
      ],
      "source": [
        "df1['tweet_processed']"
      ]
    },
    {
      "cell_type": "markdown",
      "source": [
        "# Using Word Tokenize and StopWords Removal : "
      ],
      "metadata": {
        "id": "0zPKzWnySJAr"
      }
    },
    {
      "cell_type": "code",
      "execution_count": 15,
      "metadata": {
        "colab": {
          "base_uri": "https://localhost:8080/"
        },
        "id": "tkDBgasQXQiy",
        "outputId": "cb8e8b4a-79c3-463c-9302-25aaca1ed25b"
      },
      "outputs": [
        {
          "output_type": "stream",
          "name": "stderr",
          "text": [
            "[nltk_data] Downloading package punkt to /root/nltk_data...\n",
            "[nltk_data]   Package punkt is already up-to-date!\n",
            "[nltk_data] Downloading package stopwords to /root/nltk_data...\n",
            "[nltk_data]   Package stopwords is already up-to-date!\n"
          ]
        }
      ],
      "source": [
        "import nltk\n",
        "nltk.download('punkt')\n",
        "nltk.download('stopwords')\n",
        "from nltk.corpus import stopwords\n",
        "from nltk import word_tokenize\n",
        "stop_words = stopwords.words('english')\n",
        "# Function to remove stop words \n",
        "def remove_stopwords(tweet):\n",
        "    # iNPUT : IT WILL TAKE ROW/REVIEW AS AN INPUT\n",
        "    # take the paragraph, break into words, check if the word is a stop word, remove if stop word, combine the words into a para again\n",
        "    tweet_tokenized = word_tokenize(tweet)\n",
        "    tweet_new = \" \".join([i for i in tweet_tokenized  if i not in stop_words])\n",
        "    return tweet_new\n",
        "df1['tweet_processed'] = [remove_stopwords(tweet) for tweet in df1['tweet_processed']]\n"
      ]
    },
    {
      "cell_type": "code",
      "execution_count": 16,
      "metadata": {
        "colab": {
          "base_uri": "https://localhost:8080/"
        },
        "id": "6l1buDTrDA-D",
        "outputId": "5ffd8191-3aad-408d-82c5-9c4265c9390b"
      },
      "outputs": [
        {
          "output_type": "execute_result",
          "data": {
            "text/plain": [
              "0        crypto brody ecology moonrunnersnft itsukinft ...\n",
              "1        need sick character art art artist artists ani...\n",
              "2        hulk nft inagotchinft tesla killabearsnft elon...\n",
              "3        cryptobatznft darekbtw first project crypto mo...\n",
              "4        sashadysonn first project crypto move earn ast...\n",
              "                               ...                        \n",
              "96359                     nft cryptogang liuyan thanks lot\n",
              "96360    registered win cryptopunksnfts blokpax let fre...\n",
              "96361    solsniffer dyor nft collection dictators build...\n",
              "96362    nft nftcommmunity deltaflare join discord http...\n",
              "96363    duckbathing diozoth elonmusk richerd john nft ...\n",
              "Name: tweet_processed, Length: 96364, dtype: object"
            ]
          },
          "metadata": {},
          "execution_count": 16
        }
      ],
      "source": [
        "df1['tweet_processed']"
      ]
    },
    {
      "cell_type": "markdown",
      "source": [
        "# Using Lemmatizer Function :"
      ],
      "metadata": {
        "id": "GISYMuemSY8w"
      }
    },
    {
      "cell_type": "code",
      "execution_count": 18,
      "metadata": {
        "colab": {
          "base_uri": "https://localhost:8080/"
        },
        "id": "lebVgkEulBFs",
        "outputId": "391f2f9b-b6f5-4c0a-f643-88684f24f9d7"
      },
      "outputs": [
        {
          "output_type": "stream",
          "name": "stderr",
          "text": [
            "[nltk_data] Downloading package wordnet to /root/nltk_data...\n",
            "[nltk_data]   Package wordnet is already up-to-date!\n",
            "[nltk_data] Downloading package omw-1.4 to /root/nltk_data...\n",
            "[nltk_data]   Package omw-1.4 is already up-to-date!\n",
            "[nltk_data] Downloading package averaged_perceptron_tagger to\n",
            "[nltk_data]     /root/nltk_data...\n",
            "[nltk_data]   Package averaged_perceptron_tagger is already up-to-\n",
            "[nltk_data]       date!\n"
          ]
        }
      ],
      "source": [
        "nltk.download('wordnet')\n",
        "nltk.download('omw-1.4')\n",
        "nltk.download('averaged_perceptron_tagger')\n",
        "from nltk.stem import WordNetLemmatizer\n",
        "from nltk.corpus import wordnet\n",
        "\n",
        "# function to convert nltk tag to wordnet tag\n",
        "lemmatizer = WordNetLemmatizer()\n",
        "\n",
        "# Finds the part of speech tag\n",
        "# Convert the detailed POS tag into a shallow information\n",
        "def nltk_tag_to_wordnet_tag(nltk_tag):\n",
        "    if nltk_tag.startswith('J'):\n",
        "        return wordnet.ADJ\n",
        "    elif nltk_tag.startswith('V'):\n",
        "        return wordnet.VERB\n",
        "    elif nltk_tag.startswith('N'):\n",
        "        return wordnet.NOUN\n",
        "    elif nltk_tag.startswith('R'):\n",
        "        return wordnet.ADV\n",
        "    else:          \n",
        "        return None\n",
        "\n",
        "# lemmatize sentence using pos tag\n",
        "def lemmatize_sentence(sentence):\n",
        "  # word tokenize -> pos tag (detailed) -> wordnet tag (shallow pos) -> lemmatizer -> root word\n",
        "    #tokenize the sentence and find the POS tag for each token\n",
        "    nltk_tagged = nltk.pos_tag(nltk.word_tokenize(sentence))  \n",
        "    #tuple of (token, wordnet_tag)\n",
        "    wordnet_tagged = map(lambda x: (x[0], nltk_tag_to_wordnet_tag(x[1])), nltk_tagged)\n",
        "    lemmatized_sentence = []\n",
        "    for word, tag in wordnet_tagged:\n",
        "        if tag is None:\n",
        "            #if there is no available tag, append the token as is\n",
        "            lemmatized_sentence.append(word)\n",
        "        else:        \n",
        "            #else use the tag to lemmatize the token\n",
        "            lemmatized_sentence.append(lemmatizer.lemmatize(word, tag))\n",
        "    return \" \".join(lemmatized_sentence)\n",
        "\n",
        "\n",
        "df1['tweet_processed'] = df1['tweet_processed'].apply(lambda x: lemmatize_sentence(x))"
      ]
    },
    {
      "cell_type": "code",
      "execution_count": 19,
      "metadata": {
        "colab": {
          "base_uri": "https://localhost:8080/"
        },
        "id": "DwvTcMpOEGLo",
        "outputId": "af3b3e3f-17f1-4623-d625-af3cab30c6e1"
      },
      "outputs": [
        {
          "output_type": "execute_result",
          "data": {
            "text/plain": [
              "array(['Community', 'Giveaway', 'Appreciation', 'Presale', 'Whitelist',\n",
              "       'pinksale', 'Done', 'Interested', 'Launching Soon'], dtype=object)"
            ]
          },
          "metadata": {},
          "execution_count": 19
        }
      ],
      "source": [
        "df1['tweet_intent'].unique()"
      ]
    },
    {
      "cell_type": "markdown",
      "source": [
        "# Using TF-IDF Function :\n",
        "# Encoding and Splitting the Data."
      ],
      "metadata": {
        "id": "IM_ZrFDySgsU"
      }
    },
    {
      "cell_type": "code",
      "execution_count": 20,
      "metadata": {
        "colab": {
          "base_uri": "https://localhost:8080/"
        },
        "id": "v9LXsaS66nNk",
        "outputId": "59037998-ddea-4afc-e5a7-fb1ffc960ed4"
      },
      "outputs": [
        {
          "output_type": "stream",
          "name": "stderr",
          "text": [
            "/usr/local/lib/python3.7/dist-packages/sklearn/utils/deprecation.py:87: FutureWarning: Function get_feature_names is deprecated; get_feature_names is deprecated in 1.0 and will be removed in 1.2. Please use get_feature_names_out instead.\n",
            "  warnings.warn(msg, category=FutureWarning)\n"
          ]
        }
      ],
      "source": [
        "# Importing module\n",
        "from sklearn.feature_extraction.text import TfidfVectorizer\n",
        "import sklearn\n",
        "# Creating matrix of top 2500 tokens\n",
        "tfidf = TfidfVectorizer(max_features=2500)\n",
        " \n",
        "\n",
        "X = tfidf.fit_transform(df1.tweet_processed).toarray()\n",
        "from sklearn import preprocessing\n",
        "\n",
        "\n",
        "y = df1['tweet_intent'].map({'Community':0,'Giveaway':1, 'Appreciation':2, 'Presale':3, 'Whitelist':4,'pinksale':5, 'Done':6, 'Interested':7, 'Launching Soon':8})\n",
        "featureNames = tfidf.get_feature_names()\n",
        "\n",
        "\n",
        "X, y\n",
        "\n",
        "\n",
        "# Splitting the dataset into train and test\n",
        "from sklearn.model_selection import train_test_split\n",
        "X_train, X_test, y_train, y_test = train_test_split(X, y, test_size = 0.20)\n"
      ]
    },
    {
      "cell_type": "code",
      "execution_count": 21,
      "metadata": {
        "colab": {
          "base_uri": "https://localhost:8080/"
        },
        "id": "vRz3Yju_GaJQ",
        "outputId": "95b08f6e-ae9a-41db-912f-db5bc244a78e"
      },
      "outputs": [
        {
          "output_type": "execute_result",
          "data": {
            "text/plain": [
              "array([[0., 0., 0., ..., 0., 0., 0.],\n",
              "       [0., 0., 0., ..., 0., 0., 0.],\n",
              "       [0., 0., 0., ..., 0., 0., 0.],\n",
              "       ...,\n",
              "       [0., 0., 0., ..., 0., 0., 0.],\n",
              "       [0., 0., 0., ..., 0., 0., 0.],\n",
              "       [0., 0., 0., ..., 0., 0., 0.]])"
            ]
          },
          "metadata": {},
          "execution_count": 21
        }
      ],
      "source": [
        "X"
      ]
    },
    {
      "cell_type": "code",
      "execution_count": 22,
      "metadata": {
        "colab": {
          "base_uri": "https://localhost:8080/"
        },
        "id": "0W59PxiJGcCq",
        "outputId": "8ff35fc3-290d-4405-89ee-e6f7dc0f03c0"
      },
      "outputs": [
        {
          "output_type": "execute_result",
          "data": {
            "text/plain": [
              "array([0, 1, 2, 3, 4, 5, 6, 7, 8])"
            ]
          },
          "metadata": {},
          "execution_count": 22
        }
      ],
      "source": [
        "y.unique()"
      ]
    },
    {
      "cell_type": "code",
      "execution_count": 23,
      "metadata": {
        "colab": {
          "base_uri": "https://localhost:8080/"
        },
        "id": "mHIVlZhgGpZ0",
        "outputId": "2413fd7d-e6de-446c-a348-4b41b757bdf1"
      },
      "outputs": [
        {
          "output_type": "execute_result",
          "data": {
            "text/plain": [
              "((77091, 2500), (19273, 2500))"
            ]
          },
          "metadata": {},
          "execution_count": 23
        }
      ],
      "source": [
        "X_train.shape, X_test.shape"
      ]
    },
    {
      "cell_type": "markdown",
      "source": [
        "# Implementing Gaussian Naive Bayes model :"
      ],
      "metadata": {
        "id": "z-Dnl_C5SqYG"
      }
    },
    {
      "cell_type": "code",
      "source": [
        "# training the model on training set\n",
        "from sklearn.naive_bayes import GaussianNB\n",
        "gnb = GaussianNB()\n",
        "gnb.fit(X_train, y_train)"
      ],
      "metadata": {
        "id": "UFXnDmFLxbyO",
        "colab": {
          "base_uri": "https://localhost:8080/"
        },
        "outputId": "ab6935c9-28cc-41c3-ec41-a5ba7ed0b048"
      },
      "execution_count": 24,
      "outputs": [
        {
          "output_type": "execute_result",
          "data": {
            "text/plain": [
              "GaussianNB()"
            ]
          },
          "metadata": {},
          "execution_count": 24
        }
      ]
    },
    {
      "cell_type": "code",
      "source": [
        "# making predictions on the testing set\n",
        "y_pred = gnb.predict(X_test)"
      ],
      "metadata": {
        "id": "PlXOJSE8xcv1"
      },
      "execution_count": 25,
      "outputs": []
    },
    {
      "cell_type": "code",
      "source": [
        "# comparing actual response values (y_test) with predicted response values (y_pred)\n",
        "from sklearn import metrics\n",
        "print(\"Gaussian Naive Bayes model accuracy(in %):\", metrics.accuracy_score(y_test, y_pred)*100)"
      ],
      "metadata": {
        "id": "bZHwKd2cxf1d",
        "colab": {
          "base_uri": "https://localhost:8080/"
        },
        "outputId": "942711dd-b17d-43dd-c098-0652c0f2bf9b"
      },
      "execution_count": 26,
      "outputs": [
        {
          "output_type": "stream",
          "name": "stdout",
          "text": [
            "Gaussian Naive Bayes model accuracy(in %): 64.39578685207285\n"
          ]
        }
      ]
    },
    {
      "cell_type": "markdown",
      "source": [
        "# **OUTPUT :**\n",
        "# Gaussian Naive Bayes model accuracy(in %): **65.6306750376174**"
      ],
      "metadata": {
        "id": "AdMtjxudTDsX"
      }
    },
    {
      "cell_type": "markdown",
      "source": [
        "# Implementing Logistic Regression Model :"
      ],
      "metadata": {
        "id": "nauHhO8HS5Us"
      }
    },
    {
      "cell_type": "code",
      "source": [
        "from sklearn.linear_model import LogisticRegression\n",
        "log_reg = LogisticRegression(random_state = 0)\n",
        "log_reg.fit(X_train, y_train)"
      ],
      "metadata": {
        "id": "IjlZiFFgxjFT",
        "colab": {
          "base_uri": "https://localhost:8080/"
        },
        "outputId": "43c8c66c-dcdf-42fa-ccc3-907cfe501619"
      },
      "execution_count": 27,
      "outputs": [
        {
          "output_type": "stream",
          "name": "stderr",
          "text": [
            "/usr/local/lib/python3.7/dist-packages/sklearn/linear_model/_logistic.py:818: ConvergenceWarning: lbfgs failed to converge (status=1):\n",
            "STOP: TOTAL NO. of ITERATIONS REACHED LIMIT.\n",
            "\n",
            "Increase the number of iterations (max_iter) or scale the data as shown in:\n",
            "    https://scikit-learn.org/stable/modules/preprocessing.html\n",
            "Please also refer to the documentation for alternative solver options:\n",
            "    https://scikit-learn.org/stable/modules/linear_model.html#logistic-regression\n",
            "  extra_warning_msg=_LOGISTIC_SOLVER_CONVERGENCE_MSG,\n"
          ]
        },
        {
          "output_type": "execute_result",
          "data": {
            "text/plain": [
              "LogisticRegression(random_state=0)"
            ]
          },
          "metadata": {},
          "execution_count": 27
        }
      ]
    },
    {
      "cell_type": "code",
      "source": [
        "y_pred = log_reg.predict(X_test)"
      ],
      "metadata": {
        "id": "yluJpuCYxpAM"
      },
      "execution_count": 28,
      "outputs": []
    },
    {
      "cell_type": "code",
      "source": [
        "accuracy_test_set = log_reg.score(X_test, y_test)\n",
        "accuracy_test_set"
      ],
      "metadata": {
        "id": "dFySJc5xyQgK",
        "colab": {
          "base_uri": "https://localhost:8080/"
        },
        "outputId": "d4417363-3d1f-490c-dd66-d656dd20b679"
      },
      "execution_count": 29,
      "outputs": [
        {
          "output_type": "execute_result",
          "data": {
            "text/plain": [
              "0.9668966948580916"
            ]
          },
          "metadata": {},
          "execution_count": 29
        }
      ]
    },
    {
      "cell_type": "code",
      "source": [
        "print(\"{0:.2f}\".format(round(accuracy_test_set, 2)))"
      ],
      "metadata": {
        "id": "fGNVQ0ivySV6",
        "colab": {
          "base_uri": "https://localhost:8080/"
        },
        "outputId": "6855e1cd-e2fb-4694-e5f7-9323e4fa4f01"
      },
      "execution_count": 30,
      "outputs": [
        {
          "output_type": "stream",
          "name": "stdout",
          "text": [
            "0.97\n"
          ]
        }
      ]
    },
    {
      "cell_type": "code",
      "source": [
        "from sklearn.metrics import roc_auc_score"
      ],
      "metadata": {
        "id": "5v-PcFLX9DQ9"
      },
      "execution_count": 31,
      "outputs": []
    },
    {
      "cell_type": "code",
      "source": [
        "roc_auc_score(y_test, log_reg.predict_proba(X_test),multi_class=\"ovr\")"
      ],
      "metadata": {
        "id": "qDHVabXxyqlM",
        "colab": {
          "base_uri": "https://localhost:8080/"
        },
        "outputId": "bfd02d2a-cfe9-4e28-d042-e478258d02ee"
      },
      "execution_count": 32,
      "outputs": [
        {
          "output_type": "execute_result",
          "data": {
            "text/plain": [
              "0.9961294811773109"
            ]
          },
          "metadata": {},
          "execution_count": 32
        }
      ]
    },
    {
      "cell_type": "code",
      "source": [
        "\n",
        "from sklearn.metrics import confusion_matrix\n",
        "cm = confusion_matrix(y_test, y_pred)\n",
        "  \n",
        "print (\"Confusion Matrix : \\n\", cm)"
      ],
      "metadata": {
        "id": "3aH1VZNzxreP",
        "colab": {
          "base_uri": "https://localhost:8080/"
        },
        "outputId": "bd039add-2046-4eb1-88ba-144cbf9ca1ec"
      },
      "execution_count": 33,
      "outputs": [
        {
          "output_type": "stream",
          "name": "stdout",
          "text": [
            "Confusion Matrix : \n",
            " [[8217    4   45    1   20    0    0    1    0]\n",
            " [  53 4083   55    1   15    1    4    1    0]\n",
            " [  20    7 3196    3   41    0   12    2    0]\n",
            " [   5    2    2  985    6    0    0    1    0]\n",
            " [ 128   21  115   13 1402    0    2    1    1]\n",
            " [   1    0    0    0    2  100    0    0    0]\n",
            " [  16    1   15    0    9    0  582    0    0]\n",
            " [   2    1    5    0    3    0    0   44    0]\n",
            " [   0    0    0    0    0    0    0    0   26]]\n"
          ]
        }
      ]
    },
    {
      "cell_type": "markdown",
      "source": [
        "# **OUTPUT :**\n",
        "# Logistic Regression model accuracy: **0.9959990208680227**\n",
        "# **Conclusion :**\n",
        "# Logistic Regression model will gives higher accuracy so we select this model for final predictions."
      ],
      "metadata": {
        "id": "FnhsXOoeTd_-"
      }
    },
    {
      "cell_type": "markdown",
      "source": [
        "# Applying Test Dataset to filling the missed Intents :"
      ],
      "metadata": {
        "id": "VCHJu2W_T1gf"
      }
    },
    {
      "cell_type": "markdown",
      "source": [
        "# Loading the Dataset :"
      ],
      "metadata": {
        "id": "_BJlKyChUpJV"
      }
    },
    {
      "cell_type": "code",
      "execution_count": 34,
      "metadata": {
        "id": "rupenVe7-6Vb"
      },
      "outputs": [],
      "source": [
        "data=pd.read_csv(\"/content/drive/MyDrive/Tweet_NFT.xlsx - Sheet1.csv\")"
      ]
    },
    {
      "cell_type": "code",
      "execution_count": 35,
      "metadata": {
        "id": "u-LG9aEI-6Vd"
      },
      "outputs": [],
      "source": [
        "df2=pd.DataFrame(data)"
      ]
    },
    {
      "cell_type": "code",
      "source": [
        "df2.head()"
      ],
      "metadata": {
        "colab": {
          "base_uri": "https://localhost:8080/",
          "height": 206
        },
        "id": "41wbGfIL_NtS",
        "outputId": "4cc9ff59-1ed9-4db8-9d24-a29d4b11e5a1"
      },
      "execution_count": 36,
      "outputs": [
        {
          "output_type": "execute_result",
          "data": {
            "text/plain": [
              "        id                                         tweet_text  \\\n",
              "0  1212762  @crypto_brody @eCoLoGy1990 @MoonrunnersNFT @It...   \n",
              "1  1212763  Need Sick Character artâ“#art #artist #Artist...   \n",
              "2  1212765  @The_Hulk_NFT @INagotchiNFT @Tesla @killabears...   \n",
              "3  1212766  @CryptoBatzNFT @DarekBTW The first project in ...   \n",
              "4  1212767  @sashadysonn The first project in crypto with ...   \n",
              "\n",
              "           tweet_created_at  tweet_intent  \n",
              "0  2022-08-06T16:56:36.000Z     Community  \n",
              "1  2022-08-06T16:56:36.000Z      Giveaway  \n",
              "2  2022-08-06T16:56:35.000Z  Appreciation  \n",
              "3  2022-08-06T16:56:35.000Z     Community  \n",
              "4  2022-08-06T16:56:34.000Z     Community  "
            ],
            "text/html": [
              "\n",
              "  <div id=\"df-c33dfa41-fc4e-4c21-b490-165c7f60a024\">\n",
              "    <div class=\"colab-df-container\">\n",
              "      <div>\n",
              "<style scoped>\n",
              "    .dataframe tbody tr th:only-of-type {\n",
              "        vertical-align: middle;\n",
              "    }\n",
              "\n",
              "    .dataframe tbody tr th {\n",
              "        vertical-align: top;\n",
              "    }\n",
              "\n",
              "    .dataframe thead th {\n",
              "        text-align: right;\n",
              "    }\n",
              "</style>\n",
              "<table border=\"1\" class=\"dataframe\">\n",
              "  <thead>\n",
              "    <tr style=\"text-align: right;\">\n",
              "      <th></th>\n",
              "      <th>id</th>\n",
              "      <th>tweet_text</th>\n",
              "      <th>tweet_created_at</th>\n",
              "      <th>tweet_intent</th>\n",
              "    </tr>\n",
              "  </thead>\n",
              "  <tbody>\n",
              "    <tr>\n",
              "      <th>0</th>\n",
              "      <td>1212762</td>\n",
              "      <td>@crypto_brody @eCoLoGy1990 @MoonrunnersNFT @It...</td>\n",
              "      <td>2022-08-06T16:56:36.000Z</td>\n",
              "      <td>Community</td>\n",
              "    </tr>\n",
              "    <tr>\n",
              "      <th>1</th>\n",
              "      <td>1212763</td>\n",
              "      <td>Need Sick Character artâ“#art #artist #Artist...</td>\n",
              "      <td>2022-08-06T16:56:36.000Z</td>\n",
              "      <td>Giveaway</td>\n",
              "    </tr>\n",
              "    <tr>\n",
              "      <th>2</th>\n",
              "      <td>1212765</td>\n",
              "      <td>@The_Hulk_NFT @INagotchiNFT @Tesla @killabears...</td>\n",
              "      <td>2022-08-06T16:56:35.000Z</td>\n",
              "      <td>Appreciation</td>\n",
              "    </tr>\n",
              "    <tr>\n",
              "      <th>3</th>\n",
              "      <td>1212766</td>\n",
              "      <td>@CryptoBatzNFT @DarekBTW The first project in ...</td>\n",
              "      <td>2022-08-06T16:56:35.000Z</td>\n",
              "      <td>Community</td>\n",
              "    </tr>\n",
              "    <tr>\n",
              "      <th>4</th>\n",
              "      <td>1212767</td>\n",
              "      <td>@sashadysonn The first project in crypto with ...</td>\n",
              "      <td>2022-08-06T16:56:34.000Z</td>\n",
              "      <td>Community</td>\n",
              "    </tr>\n",
              "  </tbody>\n",
              "</table>\n",
              "</div>\n",
              "      <button class=\"colab-df-convert\" onclick=\"convertToInteractive('df-c33dfa41-fc4e-4c21-b490-165c7f60a024')\"\n",
              "              title=\"Convert this dataframe to an interactive table.\"\n",
              "              style=\"display:none;\">\n",
              "        \n",
              "  <svg xmlns=\"http://www.w3.org/2000/svg\" height=\"24px\"viewBox=\"0 0 24 24\"\n",
              "       width=\"24px\">\n",
              "    <path d=\"M0 0h24v24H0V0z\" fill=\"none\"/>\n",
              "    <path d=\"M18.56 5.44l.94 2.06.94-2.06 2.06-.94-2.06-.94-.94-2.06-.94 2.06-2.06.94zm-11 1L8.5 8.5l.94-2.06 2.06-.94-2.06-.94L8.5 2.5l-.94 2.06-2.06.94zm10 10l.94 2.06.94-2.06 2.06-.94-2.06-.94-.94-2.06-.94 2.06-2.06.94z\"/><path d=\"M17.41 7.96l-1.37-1.37c-.4-.4-.92-.59-1.43-.59-.52 0-1.04.2-1.43.59L10.3 9.45l-7.72 7.72c-.78.78-.78 2.05 0 2.83L4 21.41c.39.39.9.59 1.41.59.51 0 1.02-.2 1.41-.59l7.78-7.78 2.81-2.81c.8-.78.8-2.07 0-2.86zM5.41 20L4 18.59l7.72-7.72 1.47 1.35L5.41 20z\"/>\n",
              "  </svg>\n",
              "      </button>\n",
              "      \n",
              "  <style>\n",
              "    .colab-df-container {\n",
              "      display:flex;\n",
              "      flex-wrap:wrap;\n",
              "      gap: 12px;\n",
              "    }\n",
              "\n",
              "    .colab-df-convert {\n",
              "      background-color: #E8F0FE;\n",
              "      border: none;\n",
              "      border-radius: 50%;\n",
              "      cursor: pointer;\n",
              "      display: none;\n",
              "      fill: #1967D2;\n",
              "      height: 32px;\n",
              "      padding: 0 0 0 0;\n",
              "      width: 32px;\n",
              "    }\n",
              "\n",
              "    .colab-df-convert:hover {\n",
              "      background-color: #E2EBFA;\n",
              "      box-shadow: 0px 1px 2px rgba(60, 64, 67, 0.3), 0px 1px 3px 1px rgba(60, 64, 67, 0.15);\n",
              "      fill: #174EA6;\n",
              "    }\n",
              "\n",
              "    [theme=dark] .colab-df-convert {\n",
              "      background-color: #3B4455;\n",
              "      fill: #D2E3FC;\n",
              "    }\n",
              "\n",
              "    [theme=dark] .colab-df-convert:hover {\n",
              "      background-color: #434B5C;\n",
              "      box-shadow: 0px 1px 3px 1px rgba(0, 0, 0, 0.15);\n",
              "      filter: drop-shadow(0px 1px 2px rgba(0, 0, 0, 0.3));\n",
              "      fill: #FFFFFF;\n",
              "    }\n",
              "  </style>\n",
              "\n",
              "      <script>\n",
              "        const buttonEl =\n",
              "          document.querySelector('#df-c33dfa41-fc4e-4c21-b490-165c7f60a024 button.colab-df-convert');\n",
              "        buttonEl.style.display =\n",
              "          google.colab.kernel.accessAllowed ? 'block' : 'none';\n",
              "\n",
              "        async function convertToInteractive(key) {\n",
              "          const element = document.querySelector('#df-c33dfa41-fc4e-4c21-b490-165c7f60a024');\n",
              "          const dataTable =\n",
              "            await google.colab.kernel.invokeFunction('convertToInteractive',\n",
              "                                                     [key], {});\n",
              "          if (!dataTable) return;\n",
              "\n",
              "          const docLinkHtml = 'Like what you see? Visit the ' +\n",
              "            '<a target=\"_blank\" href=https://colab.research.google.com/notebooks/data_table.ipynb>data table notebook</a>'\n",
              "            + ' to learn more about interactive tables.';\n",
              "          element.innerHTML = '';\n",
              "          dataTable['output_type'] = 'display_data';\n",
              "          await google.colab.output.renderOutput(dataTable, element);\n",
              "          const docLink = document.createElement('div');\n",
              "          docLink.innerHTML = docLinkHtml;\n",
              "          element.appendChild(docLink);\n",
              "        }\n",
              "      </script>\n",
              "    </div>\n",
              "  </div>\n",
              "  "
            ]
          },
          "metadata": {},
          "execution_count": 36
        }
      ]
    },
    {
      "cell_type": "code",
      "source": [
        "df2=df2.iloc[96365:,[1,3]]"
      ],
      "metadata": {
        "id": "scFao93Y_KLF"
      },
      "execution_count": 37,
      "outputs": []
    },
    {
      "cell_type": "code",
      "source": [
        "df2.head()"
      ],
      "metadata": {
        "colab": {
          "base_uri": "https://localhost:8080/",
          "height": 206
        },
        "id": "S4rS90gZ_fD6",
        "outputId": "11b750a5-1846-49f0-d6d2-894885ab52dd"
      },
      "execution_count": 38,
      "outputs": [
        {
          "output_type": "execute_result",
          "data": {
            "text/plain": [
              "                                              tweet_text tweet_intent\n",
              "96365  @asksabir007 @dao_lm Don't miss the chance to ...          NaN\n",
              "96366  This zesty faucet from @_bitcoiner is making m...          NaN\n",
              "96367  15% off ðŸ§™â€â™‚ï¸ #Wizardia NFTs - it's a ...          NaN\n",
              "96368  @Kavaboy_NFT @tanya_4d Message me, letâ€™s tal...          NaN\n",
              "96369  @berylbilici glad you stayed. The NFT world ke...          NaN"
            ],
            "text/html": [
              "\n",
              "  <div id=\"df-1eafed9e-5e3a-4ad2-a980-a1f1b1fcde30\">\n",
              "    <div class=\"colab-df-container\">\n",
              "      <div>\n",
              "<style scoped>\n",
              "    .dataframe tbody tr th:only-of-type {\n",
              "        vertical-align: middle;\n",
              "    }\n",
              "\n",
              "    .dataframe tbody tr th {\n",
              "        vertical-align: top;\n",
              "    }\n",
              "\n",
              "    .dataframe thead th {\n",
              "        text-align: right;\n",
              "    }\n",
              "</style>\n",
              "<table border=\"1\" class=\"dataframe\">\n",
              "  <thead>\n",
              "    <tr style=\"text-align: right;\">\n",
              "      <th></th>\n",
              "      <th>tweet_text</th>\n",
              "      <th>tweet_intent</th>\n",
              "    </tr>\n",
              "  </thead>\n",
              "  <tbody>\n",
              "    <tr>\n",
              "      <th>96365</th>\n",
              "      <td>@asksabir007 @dao_lm Don't miss the chance to ...</td>\n",
              "      <td>NaN</td>\n",
              "    </tr>\n",
              "    <tr>\n",
              "      <th>96366</th>\n",
              "      <td>This zesty faucet from @_bitcoiner is making m...</td>\n",
              "      <td>NaN</td>\n",
              "    </tr>\n",
              "    <tr>\n",
              "      <th>96367</th>\n",
              "      <td>15% off ðŸ§™â€â™‚ï¸ #Wizardia NFTs - it's a ...</td>\n",
              "      <td>NaN</td>\n",
              "    </tr>\n",
              "    <tr>\n",
              "      <th>96368</th>\n",
              "      <td>@Kavaboy_NFT @tanya_4d Message me, letâ€™s tal...</td>\n",
              "      <td>NaN</td>\n",
              "    </tr>\n",
              "    <tr>\n",
              "      <th>96369</th>\n",
              "      <td>@berylbilici glad you stayed. The NFT world ke...</td>\n",
              "      <td>NaN</td>\n",
              "    </tr>\n",
              "  </tbody>\n",
              "</table>\n",
              "</div>\n",
              "      <button class=\"colab-df-convert\" onclick=\"convertToInteractive('df-1eafed9e-5e3a-4ad2-a980-a1f1b1fcde30')\"\n",
              "              title=\"Convert this dataframe to an interactive table.\"\n",
              "              style=\"display:none;\">\n",
              "        \n",
              "  <svg xmlns=\"http://www.w3.org/2000/svg\" height=\"24px\"viewBox=\"0 0 24 24\"\n",
              "       width=\"24px\">\n",
              "    <path d=\"M0 0h24v24H0V0z\" fill=\"none\"/>\n",
              "    <path d=\"M18.56 5.44l.94 2.06.94-2.06 2.06-.94-2.06-.94-.94-2.06-.94 2.06-2.06.94zm-11 1L8.5 8.5l.94-2.06 2.06-.94-2.06-.94L8.5 2.5l-.94 2.06-2.06.94zm10 10l.94 2.06.94-2.06 2.06-.94-2.06-.94-.94-2.06-.94 2.06-2.06.94z\"/><path d=\"M17.41 7.96l-1.37-1.37c-.4-.4-.92-.59-1.43-.59-.52 0-1.04.2-1.43.59L10.3 9.45l-7.72 7.72c-.78.78-.78 2.05 0 2.83L4 21.41c.39.39.9.59 1.41.59.51 0 1.02-.2 1.41-.59l7.78-7.78 2.81-2.81c.8-.78.8-2.07 0-2.86zM5.41 20L4 18.59l7.72-7.72 1.47 1.35L5.41 20z\"/>\n",
              "  </svg>\n",
              "      </button>\n",
              "      \n",
              "  <style>\n",
              "    .colab-df-container {\n",
              "      display:flex;\n",
              "      flex-wrap:wrap;\n",
              "      gap: 12px;\n",
              "    }\n",
              "\n",
              "    .colab-df-convert {\n",
              "      background-color: #E8F0FE;\n",
              "      border: none;\n",
              "      border-radius: 50%;\n",
              "      cursor: pointer;\n",
              "      display: none;\n",
              "      fill: #1967D2;\n",
              "      height: 32px;\n",
              "      padding: 0 0 0 0;\n",
              "      width: 32px;\n",
              "    }\n",
              "\n",
              "    .colab-df-convert:hover {\n",
              "      background-color: #E2EBFA;\n",
              "      box-shadow: 0px 1px 2px rgba(60, 64, 67, 0.3), 0px 1px 3px 1px rgba(60, 64, 67, 0.15);\n",
              "      fill: #174EA6;\n",
              "    }\n",
              "\n",
              "    [theme=dark] .colab-df-convert {\n",
              "      background-color: #3B4455;\n",
              "      fill: #D2E3FC;\n",
              "    }\n",
              "\n",
              "    [theme=dark] .colab-df-convert:hover {\n",
              "      background-color: #434B5C;\n",
              "      box-shadow: 0px 1px 3px 1px rgba(0, 0, 0, 0.15);\n",
              "      filter: drop-shadow(0px 1px 2px rgba(0, 0, 0, 0.3));\n",
              "      fill: #FFFFFF;\n",
              "    }\n",
              "  </style>\n",
              "\n",
              "      <script>\n",
              "        const buttonEl =\n",
              "          document.querySelector('#df-1eafed9e-5e3a-4ad2-a980-a1f1b1fcde30 button.colab-df-convert');\n",
              "        buttonEl.style.display =\n",
              "          google.colab.kernel.accessAllowed ? 'block' : 'none';\n",
              "\n",
              "        async function convertToInteractive(key) {\n",
              "          const element = document.querySelector('#df-1eafed9e-5e3a-4ad2-a980-a1f1b1fcde30');\n",
              "          const dataTable =\n",
              "            await google.colab.kernel.invokeFunction('convertToInteractive',\n",
              "                                                     [key], {});\n",
              "          if (!dataTable) return;\n",
              "\n",
              "          const docLinkHtml = 'Like what you see? Visit the ' +\n",
              "            '<a target=\"_blank\" href=https://colab.research.google.com/notebooks/data_table.ipynb>data table notebook</a>'\n",
              "            + ' to learn more about interactive tables.';\n",
              "          element.innerHTML = '';\n",
              "          dataTable['output_type'] = 'display_data';\n",
              "          await google.colab.output.renderOutput(dataTable, element);\n",
              "          const docLink = document.createElement('div');\n",
              "          docLink.innerHTML = docLinkHtml;\n",
              "          element.appendChild(docLink);\n",
              "        }\n",
              "      </script>\n",
              "    </div>\n",
              "  </div>\n",
              "  "
            ]
          },
          "metadata": {},
          "execution_count": 38
        }
      ]
    },
    {
      "cell_type": "code",
      "execution_count": 39,
      "metadata": {
        "colab": {
          "base_uri": "https://localhost:8080/"
        },
        "outputId": "d31995f3-05d6-4def-c0ff-632f99334ca2",
        "id": "Zkf6rez--6Vd"
      },
      "outputs": [
        {
          "output_type": "execute_result",
          "data": {
            "text/plain": [
              "0"
            ]
          },
          "metadata": {},
          "execution_count": 39
        }
      ],
      "source": [
        "df2['tweet_intent'].count()"
      ]
    },
    {
      "cell_type": "markdown",
      "source": [
        "# Starts Cleaning :"
      ],
      "metadata": {
        "id": "wasonyf0Uu4s"
      }
    },
    {
      "cell_type": "code",
      "execution_count": 40,
      "metadata": {
        "colab": {
          "base_uri": "https://localhost:8080/"
        },
        "outputId": "9c156d8e-31f9-4c98-e288-7d8887852868",
        "id": "ovrzVG7J-6Ve"
      },
      "outputs": [
        {
          "output_type": "stream",
          "name": "stderr",
          "text": [
            "/usr/local/lib/python3.7/dist-packages/ipykernel_launcher.py:1: FutureWarning: The default value of regex will change from True to False in a future version.\n",
            "  \"\"\"Entry point for launching an IPython kernel.\n"
          ]
        }
      ],
      "source": [
        "df2['tweet_processed'] = df2['tweet_text'].str.replace(\"[^a-zA-Z]\", \" \")"
      ]
    },
    {
      "cell_type": "code",
      "execution_count": 41,
      "metadata": {
        "id": "q2nVN1Kd-6Ve"
      },
      "outputs": [],
      "source": [
        "df2['tweet_processed'] = df2['tweet_processed'].apply(lambda row: ' '.join([word for word in row.split() if len(word)>2]))"
      ]
    },
    {
      "cell_type": "code",
      "execution_count": 42,
      "metadata": {
        "colab": {
          "base_uri": "https://localhost:8080/"
        },
        "outputId": "3320d0ac-690a-4c13-e490-6811e9453b9d",
        "id": "_BdNR4Ie-6Ve"
      },
      "outputs": [
        {
          "output_type": "execute_result",
          "data": {
            "text/plain": [
              "96365     asksabir dao Don miss the chance win NFT worth...\n",
              "96366     This zesty faucet from bitcoiner making tweet ...\n",
              "96367     off Wizardia NFTs game magic filled metaverse ...\n",
              "96368     Kavaboy NFT tanya Message let talk about some ...\n",
              "96369     berylbilici glad you stayed The NFT world keep...\n",
              "                                ...                        \n",
              "127448    Jason company Universe solving this and got th...\n",
              "127449                BosoTokyo Many will get rekt this NFT\n",
              "127450    leeneedham KibaInuWorld HODL OFFICIAL KoaComba...\n",
              "127451                          UNLEASHED NFT love this job\n",
              "127452                Shill Ronin UNLEASHED NFT proof https\n",
              "Name: tweet_processed, Length: 31088, dtype: object"
            ]
          },
          "metadata": {},
          "execution_count": 42
        }
      ],
      "source": [
        "df2['tweet_processed']"
      ]
    },
    {
      "cell_type": "code",
      "execution_count": 43,
      "metadata": {
        "id": "R6llY4y1-6Ve"
      },
      "outputs": [],
      "source": [
        "df2['tweet_processed'] = [tweet.lower() for tweet in df2['tweet_processed']]"
      ]
    },
    {
      "cell_type": "code",
      "execution_count": 44,
      "metadata": {
        "colab": {
          "base_uri": "https://localhost:8080/"
        },
        "outputId": "691ef73b-366b-4b1d-e66c-4269850ac625",
        "id": "mnaunGoH-6Ve"
      },
      "outputs": [
        {
          "output_type": "execute_result",
          "data": {
            "text/plain": [
              "96365     asksabir dao don miss the chance win nft worth...\n",
              "96366     this zesty faucet from bitcoiner making tweet ...\n",
              "96367     off wizardia nfts game magic filled metaverse ...\n",
              "96368     kavaboy nft tanya message let talk about some ...\n",
              "96369     berylbilici glad you stayed the nft world keep...\n",
              "                                ...                        \n",
              "127448    jason company universe solving this and got th...\n",
              "127449                bosotokyo many will get rekt this nft\n",
              "127450    leeneedham kibainuworld hodl official koacomba...\n",
              "127451                          unleashed nft love this job\n",
              "127452                shill ronin unleashed nft proof https\n",
              "Name: tweet_processed, Length: 31088, dtype: object"
            ]
          },
          "metadata": {},
          "execution_count": 44
        }
      ],
      "source": [
        "df2['tweet_processed']"
      ]
    },
    {
      "cell_type": "markdown",
      "source": [
        "# Applying Word Tokenizer and StopWords Removal Function :"
      ],
      "metadata": {
        "id": "fZ90aFkSVFPG"
      }
    },
    {
      "cell_type": "code",
      "execution_count": 45,
      "metadata": {
        "colab": {
          "base_uri": "https://localhost:8080/"
        },
        "outputId": "5f34e75e-fed7-4091-97fd-f3ff85df3ef1",
        "id": "CKrVHUQf-6Vf"
      },
      "outputs": [
        {
          "output_type": "stream",
          "name": "stderr",
          "text": [
            "[nltk_data] Downloading package punkt to /root/nltk_data...\n",
            "[nltk_data]   Package punkt is already up-to-date!\n",
            "[nltk_data] Downloading package stopwords to /root/nltk_data...\n",
            "[nltk_data]   Package stopwords is already up-to-date!\n"
          ]
        }
      ],
      "source": [
        "import nltk\n",
        "nltk.download('punkt')\n",
        "nltk.download('stopwords')\n",
        "from nltk.corpus import stopwords\n",
        "from nltk import word_tokenize\n",
        "stop_words = stopwords.words('english')\n",
        "# Function to remove stop words \n",
        "def remove_stopwords(tweet):\n",
        "    # iNPUT : IT WILL TAKE ROW/REVIEW AS AN INPUT\n",
        "    # take the paragraph, break into words, check if the word is a stop word, remove if stop word, combine the words into a para again\n",
        "    tweet_tokenized = word_tokenize(tweet)\n",
        "    tweet_new = \" \".join([i for i in tweet_tokenized  if i not in stop_words])\n",
        "    return tweet_new\n",
        "df2['tweet_processed'] = [remove_stopwords(tweet) for tweet in df2['tweet_processed']]\n"
      ]
    },
    {
      "cell_type": "code",
      "execution_count": 46,
      "metadata": {
        "colab": {
          "base_uri": "https://localhost:8080/"
        },
        "outputId": "ce647aca-a93f-444d-8de6-5b207db78252",
        "id": "YQRizZzC-6Vf"
      },
      "outputs": [
        {
          "output_type": "execute_result",
          "data": {
            "text/plain": [
              "96365     asksabir dao miss chance win nft worth simple ...\n",
              "96366     zesty faucet bitcoiner making tweet claim free...\n",
              "96367     wizardia nfts game magic filled metaverse aren...\n",
              "96368     kavaboy nft tanya message let talk marketing p...\n",
              "96369     berylbilici glad stayed nft world keeps growin...\n",
              "                                ...                        \n",
              "127448    jason company universe solving got columbia st...\n",
              "127449                          bosotokyo many get rekt nft\n",
              "127450    leeneedham kibainuworld hodl official koacomba...\n",
              "127451                               unleashed nft love job\n",
              "127452                shill ronin unleashed nft proof https\n",
              "Name: tweet_processed, Length: 31088, dtype: object"
            ]
          },
          "metadata": {},
          "execution_count": 46
        }
      ],
      "source": [
        "df2['tweet_processed']"
      ]
    },
    {
      "cell_type": "markdown",
      "source": [
        "# Applying Lemmatizer Function :"
      ],
      "metadata": {
        "id": "4AzoFMW6VIqc"
      }
    },
    {
      "cell_type": "code",
      "execution_count": 47,
      "metadata": {
        "colab": {
          "base_uri": "https://localhost:8080/"
        },
        "outputId": "d59587de-9421-4580-857b-0603337917a1",
        "id": "wKJ_H_li-6Vf"
      },
      "outputs": [
        {
          "output_type": "stream",
          "name": "stderr",
          "text": [
            "[nltk_data] Downloading package wordnet to /root/nltk_data...\n",
            "[nltk_data]   Package wordnet is already up-to-date!\n",
            "[nltk_data] Downloading package omw-1.4 to /root/nltk_data...\n",
            "[nltk_data]   Package omw-1.4 is already up-to-date!\n",
            "[nltk_data] Downloading package averaged_perceptron_tagger to\n",
            "[nltk_data]     /root/nltk_data...\n",
            "[nltk_data]   Package averaged_perceptron_tagger is already up-to-\n",
            "[nltk_data]       date!\n"
          ]
        }
      ],
      "source": [
        "nltk.download('wordnet')\n",
        "nltk.download('omw-1.4')\n",
        "nltk.download('averaged_perceptron_tagger')\n",
        "from nltk.stem import WordNetLemmatizer\n",
        "from nltk.corpus import wordnet\n",
        "\n",
        "# function to convert nltk tag to wordnet tag\n",
        "lemmatizer = WordNetLemmatizer()\n",
        "\n",
        "# Finds the part of speech tag\n",
        "# Convert the detailed POS tag into a shallow information\n",
        "def nltk_tag_to_wordnet_tag(nltk_tag):\n",
        "    if nltk_tag.startswith('J'):\n",
        "        return wordnet.ADJ\n",
        "    elif nltk_tag.startswith('V'):\n",
        "        return wordnet.VERB\n",
        "    elif nltk_tag.startswith('N'):\n",
        "        return wordnet.NOUN\n",
        "    elif nltk_tag.startswith('R'):\n",
        "        return wordnet.ADV\n",
        "    else:          \n",
        "        return None\n",
        "\n",
        "# lemmatize sentence using pos tag\n",
        "def lemmatize_sentence(sentence):\n",
        "  # word tokenize -> pos tag (detailed) -> wordnet tag (shallow pos) -> lemmatizer -> root word\n",
        "    #tokenize the sentence and find the POS tag for each token\n",
        "    nltk_tagged = nltk.pos_tag(nltk.word_tokenize(sentence))  \n",
        "    #tuple of (token, wordnet_tag)\n",
        "    wordnet_tagged = map(lambda x: (x[0], nltk_tag_to_wordnet_tag(x[1])), nltk_tagged)\n",
        "    lemmatized_sentence = []\n",
        "    for word, tag in wordnet_tagged:\n",
        "        if tag is None:\n",
        "            #if there is no available tag, append the token as is\n",
        "            lemmatized_sentence.append(word)\n",
        "        else:        \n",
        "            #else use the tag to lemmatize the token\n",
        "            lemmatized_sentence.append(lemmatizer.lemmatize(word, tag))\n",
        "    return \" \".join(lemmatized_sentence)\n",
        "\n",
        "\n",
        "df2['tweet_processed'] = df2['tweet_processed'].apply(lambda x: lemmatize_sentence(x))"
      ]
    },
    {
      "cell_type": "code",
      "execution_count": 48,
      "metadata": {
        "colab": {
          "base_uri": "https://localhost:8080/"
        },
        "outputId": "fb3b1089-ee78-40ae-f76e-d80c0815577f",
        "id": "_d5-zEtK-6Vg"
      },
      "outputs": [
        {
          "output_type": "execute_result",
          "data": {
            "text/plain": [
              "array([nan], dtype=object)"
            ]
          },
          "metadata": {},
          "execution_count": 48
        }
      ],
      "source": [
        "df2['tweet_intent'].unique()"
      ]
    },
    {
      "cell_type": "code",
      "source": [
        "x_test1=df2.drop(\"tweet_intent\",axis=1)"
      ],
      "metadata": {
        "id": "x9FSWd-4eo4K"
      },
      "execution_count": 49,
      "outputs": []
    },
    {
      "cell_type": "code",
      "source": [
        "from sklearn.linear_model import LogisticRegression\n",
        "log_reg = LogisticRegression(random_state = 0)\n",
        "log_reg.fit(X_train,y_train)"
      ],
      "metadata": {
        "colab": {
          "base_uri": "https://localhost:8080/"
        },
        "id": "vbc69OD8fF37",
        "outputId": "daf0df64-863a-4abb-8c4b-a40b3b4cef6c"
      },
      "execution_count": 50,
      "outputs": [
        {
          "output_type": "stream",
          "name": "stderr",
          "text": [
            "/usr/local/lib/python3.7/dist-packages/sklearn/linear_model/_logistic.py:818: ConvergenceWarning: lbfgs failed to converge (status=1):\n",
            "STOP: TOTAL NO. of ITERATIONS REACHED LIMIT.\n",
            "\n",
            "Increase the number of iterations (max_iter) or scale the data as shown in:\n",
            "    https://scikit-learn.org/stable/modules/preprocessing.html\n",
            "Please also refer to the documentation for alternative solver options:\n",
            "    https://scikit-learn.org/stable/modules/linear_model.html#logistic-regression\n",
            "  extra_warning_msg=_LOGISTIC_SOLVER_CONVERGENCE_MSG,\n"
          ]
        },
        {
          "output_type": "execute_result",
          "data": {
            "text/plain": [
              "LogisticRegression(random_state=0)"
            ]
          },
          "metadata": {},
          "execution_count": 50
        }
      ]
    },
    {
      "cell_type": "markdown",
      "source": [
        "# Applying TF_IDF Function :"
      ],
      "metadata": {
        "id": "tGQzMk3mVRgz"
      }
    },
    {
      "cell_type": "code",
      "execution_count": 51,
      "metadata": {
        "colab": {
          "base_uri": "https://localhost:8080/"
        },
        "outputId": "21172197-34ae-48e0-8fc3-8401905eabaa",
        "id": "VhBEafj8-6Vg"
      },
      "outputs": [
        {
          "output_type": "stream",
          "name": "stderr",
          "text": [
            "/usr/local/lib/python3.7/dist-packages/sklearn/utils/deprecation.py:87: FutureWarning: Function get_feature_names is deprecated; get_feature_names is deprecated in 1.0 and will be removed in 1.2. Please use get_feature_names_out instead.\n",
            "  warnings.warn(msg, category=FutureWarning)\n"
          ]
        }
      ],
      "source": [
        "# Importing module\n",
        "from sklearn.feature_extraction.text import TfidfVectorizer\n",
        "import sklearn\n",
        "# Creating matrix of top 2500 tokens\n",
        "tfidf = TfidfVectorizer(max_features=2500)\n",
        " \n",
        "x_test1 = tfidf.fit_transform(df2.tweet_processed).toarray()\n",
        "\n",
        "featureNames = tfidf.get_feature_names()\n"
      ]
    },
    {
      "cell_type": "markdown",
      "source": [
        "# Predicting the Test Data :"
      ],
      "metadata": {
        "id": "LE_T7DJjq-JL"
      }
    },
    {
      "cell_type": "code",
      "execution_count": 52,
      "metadata": {
        "colab": {
          "base_uri": "https://localhost:8080/"
        },
        "outputId": "5ba3c122-9d23-46db-bc2c-cb7205b5081d",
        "id": "oHG2LeZn-6Vh"
      },
      "outputs": [
        {
          "output_type": "execute_result",
          "data": {
            "text/plain": [
              "((77091, 2500), (31088, 2500))"
            ]
          },
          "metadata": {},
          "execution_count": 52
        }
      ],
      "source": [
        "X_train.shape, x_test1.shape"
      ]
    },
    {
      "cell_type": "code",
      "source": [
        "y_pred = log_reg.predict(x_test1)\n",
        "y_pred"
      ],
      "metadata": {
        "colab": {
          "base_uri": "https://localhost:8080/"
        },
        "id": "1lRMWMo1-6Vh",
        "outputId": "de488655-4289-4653-dcfb-e316b4d14534"
      },
      "execution_count": 53,
      "outputs": [
        {
          "output_type": "execute_result",
          "data": {
            "text/plain": [
              "array([2, 0, 1, ..., 0, 4, 2])"
            ]
          },
          "metadata": {},
          "execution_count": 53
        }
      ]
    },
    {
      "cell_type": "code",
      "source": [
        "y_pred.shape"
      ],
      "metadata": {
        "colab": {
          "base_uri": "https://localhost:8080/"
        },
        "id": "L75-ynYHjuzV",
        "outputId": "9d17c52f-454b-4cfd-9fe5-8b5f537db31f"
      },
      "execution_count": 54,
      "outputs": [
        {
          "output_type": "execute_result",
          "data": {
            "text/plain": [
              "(31088,)"
            ]
          },
          "metadata": {},
          "execution_count": 54
        }
      ]
    },
    {
      "cell_type": "code",
      "source": [
        "df2.drop(\"tweet_intent\",axis=1)"
      ],
      "metadata": {
        "colab": {
          "base_uri": "https://localhost:8080/",
          "height": 424
        },
        "id": "Z7vP6C53o7Rb",
        "outputId": "586c4354-f563-465d-bc9f-6a80a98426b0"
      },
      "execution_count": 55,
      "outputs": [
        {
          "output_type": "execute_result",
          "data": {
            "text/plain": [
              "                                               tweet_text  \\\n",
              "96365   @asksabir007 @dao_lm Don't miss the chance to ...   \n",
              "96366   This zesty faucet from @_bitcoiner is making m...   \n",
              "96367   15% off ðŸ§™â€â™‚ï¸ #Wizardia NFTs - it's a ...   \n",
              "96368   @Kavaboy_NFT @tanya_4d Message me, letâ€™s tal...   \n",
              "96369   @berylbilici glad you stayed. The NFT world ke...   \n",
              "...                                                   ...   \n",
              "127448  @Jason My company Universe is solving this, an...   \n",
              "127449          @BosoTokyo Many will get rekt in this NFT   \n",
              "127450  @leeneedham81 @KibaInuWorld @HODL_OFFICIAL @Ko...   \n",
              "127451             @1kz3ro @UNLEASHED_NFT I love this job   \n",
              "127452  @Shill_Ronin @UNLEASHED_NFT my proof https://t...   \n",
              "\n",
              "                                          tweet_processed  \n",
              "96365   asksabir dao miss chance win nft worth simple ...  \n",
              "96366   zesty faucet bitcoiner make tweet claim free n...  \n",
              "96367   wizardia nfts game magic fill metaverse arena ...  \n",
              "96368   kavaboy nft tanya message let talk marketing p...  \n",
              "96369       berylbilici glad stay nft world keep grow day  \n",
              "...                                                   ...  \n",
              "127448  jason company universe solve get columbia star...  \n",
              "127449                        bosotokyo many get rekt nft  \n",
              "127450  leeneedham kibainuworld hodl official koacomba...  \n",
              "127451                             unleashed nft love job  \n",
              "127452               shill ronin unleashed nft proof http  \n",
              "\n",
              "[31088 rows x 2 columns]"
            ],
            "text/html": [
              "\n",
              "  <div id=\"df-5e3a07a7-64a0-4b7c-84c7-5519cb3aa2ce\">\n",
              "    <div class=\"colab-df-container\">\n",
              "      <div>\n",
              "<style scoped>\n",
              "    .dataframe tbody tr th:only-of-type {\n",
              "        vertical-align: middle;\n",
              "    }\n",
              "\n",
              "    .dataframe tbody tr th {\n",
              "        vertical-align: top;\n",
              "    }\n",
              "\n",
              "    .dataframe thead th {\n",
              "        text-align: right;\n",
              "    }\n",
              "</style>\n",
              "<table border=\"1\" class=\"dataframe\">\n",
              "  <thead>\n",
              "    <tr style=\"text-align: right;\">\n",
              "      <th></th>\n",
              "      <th>tweet_text</th>\n",
              "      <th>tweet_processed</th>\n",
              "    </tr>\n",
              "  </thead>\n",
              "  <tbody>\n",
              "    <tr>\n",
              "      <th>96365</th>\n",
              "      <td>@asksabir007 @dao_lm Don't miss the chance to ...</td>\n",
              "      <td>asksabir dao miss chance win nft worth simple ...</td>\n",
              "    </tr>\n",
              "    <tr>\n",
              "      <th>96366</th>\n",
              "      <td>This zesty faucet from @_bitcoiner is making m...</td>\n",
              "      <td>zesty faucet bitcoiner make tweet claim free n...</td>\n",
              "    </tr>\n",
              "    <tr>\n",
              "      <th>96367</th>\n",
              "      <td>15% off ðŸ§™â€â™‚ï¸ #Wizardia NFTs - it's a ...</td>\n",
              "      <td>wizardia nfts game magic fill metaverse arena ...</td>\n",
              "    </tr>\n",
              "    <tr>\n",
              "      <th>96368</th>\n",
              "      <td>@Kavaboy_NFT @tanya_4d Message me, letâ€™s tal...</td>\n",
              "      <td>kavaboy nft tanya message let talk marketing p...</td>\n",
              "    </tr>\n",
              "    <tr>\n",
              "      <th>96369</th>\n",
              "      <td>@berylbilici glad you stayed. The NFT world ke...</td>\n",
              "      <td>berylbilici glad stay nft world keep grow day</td>\n",
              "    </tr>\n",
              "    <tr>\n",
              "      <th>...</th>\n",
              "      <td>...</td>\n",
              "      <td>...</td>\n",
              "    </tr>\n",
              "    <tr>\n",
              "      <th>127448</th>\n",
              "      <td>@Jason My company Universe is solving this, an...</td>\n",
              "      <td>jason company universe solve get columbia star...</td>\n",
              "    </tr>\n",
              "    <tr>\n",
              "      <th>127449</th>\n",
              "      <td>@BosoTokyo Many will get rekt in this NFT</td>\n",
              "      <td>bosotokyo many get rekt nft</td>\n",
              "    </tr>\n",
              "    <tr>\n",
              "      <th>127450</th>\n",
              "      <td>@leeneedham81 @KibaInuWorld @HODL_OFFICIAL @Ko...</td>\n",
              "      <td>leeneedham kibainuworld hodl official koacomba...</td>\n",
              "    </tr>\n",
              "    <tr>\n",
              "      <th>127451</th>\n",
              "      <td>@1kz3ro @UNLEASHED_NFT I love this job</td>\n",
              "      <td>unleashed nft love job</td>\n",
              "    </tr>\n",
              "    <tr>\n",
              "      <th>127452</th>\n",
              "      <td>@Shill_Ronin @UNLEASHED_NFT my proof https://t...</td>\n",
              "      <td>shill ronin unleashed nft proof http</td>\n",
              "    </tr>\n",
              "  </tbody>\n",
              "</table>\n",
              "<p>31088 rows × 2 columns</p>\n",
              "</div>\n",
              "      <button class=\"colab-df-convert\" onclick=\"convertToInteractive('df-5e3a07a7-64a0-4b7c-84c7-5519cb3aa2ce')\"\n",
              "              title=\"Convert this dataframe to an interactive table.\"\n",
              "              style=\"display:none;\">\n",
              "        \n",
              "  <svg xmlns=\"http://www.w3.org/2000/svg\" height=\"24px\"viewBox=\"0 0 24 24\"\n",
              "       width=\"24px\">\n",
              "    <path d=\"M0 0h24v24H0V0z\" fill=\"none\"/>\n",
              "    <path d=\"M18.56 5.44l.94 2.06.94-2.06 2.06-.94-2.06-.94-.94-2.06-.94 2.06-2.06.94zm-11 1L8.5 8.5l.94-2.06 2.06-.94-2.06-.94L8.5 2.5l-.94 2.06-2.06.94zm10 10l.94 2.06.94-2.06 2.06-.94-2.06-.94-.94-2.06-.94 2.06-2.06.94z\"/><path d=\"M17.41 7.96l-1.37-1.37c-.4-.4-.92-.59-1.43-.59-.52 0-1.04.2-1.43.59L10.3 9.45l-7.72 7.72c-.78.78-.78 2.05 0 2.83L4 21.41c.39.39.9.59 1.41.59.51 0 1.02-.2 1.41-.59l7.78-7.78 2.81-2.81c.8-.78.8-2.07 0-2.86zM5.41 20L4 18.59l7.72-7.72 1.47 1.35L5.41 20z\"/>\n",
              "  </svg>\n",
              "      </button>\n",
              "      \n",
              "  <style>\n",
              "    .colab-df-container {\n",
              "      display:flex;\n",
              "      flex-wrap:wrap;\n",
              "      gap: 12px;\n",
              "    }\n",
              "\n",
              "    .colab-df-convert {\n",
              "      background-color: #E8F0FE;\n",
              "      border: none;\n",
              "      border-radius: 50%;\n",
              "      cursor: pointer;\n",
              "      display: none;\n",
              "      fill: #1967D2;\n",
              "      height: 32px;\n",
              "      padding: 0 0 0 0;\n",
              "      width: 32px;\n",
              "    }\n",
              "\n",
              "    .colab-df-convert:hover {\n",
              "      background-color: #E2EBFA;\n",
              "      box-shadow: 0px 1px 2px rgba(60, 64, 67, 0.3), 0px 1px 3px 1px rgba(60, 64, 67, 0.15);\n",
              "      fill: #174EA6;\n",
              "    }\n",
              "\n",
              "    [theme=dark] .colab-df-convert {\n",
              "      background-color: #3B4455;\n",
              "      fill: #D2E3FC;\n",
              "    }\n",
              "\n",
              "    [theme=dark] .colab-df-convert:hover {\n",
              "      background-color: #434B5C;\n",
              "      box-shadow: 0px 1px 3px 1px rgba(0, 0, 0, 0.15);\n",
              "      filter: drop-shadow(0px 1px 2px rgba(0, 0, 0, 0.3));\n",
              "      fill: #FFFFFF;\n",
              "    }\n",
              "  </style>\n",
              "\n",
              "      <script>\n",
              "        const buttonEl =\n",
              "          document.querySelector('#df-5e3a07a7-64a0-4b7c-84c7-5519cb3aa2ce button.colab-df-convert');\n",
              "        buttonEl.style.display =\n",
              "          google.colab.kernel.accessAllowed ? 'block' : 'none';\n",
              "\n",
              "        async function convertToInteractive(key) {\n",
              "          const element = document.querySelector('#df-5e3a07a7-64a0-4b7c-84c7-5519cb3aa2ce');\n",
              "          const dataTable =\n",
              "            await google.colab.kernel.invokeFunction('convertToInteractive',\n",
              "                                                     [key], {});\n",
              "          if (!dataTable) return;\n",
              "\n",
              "          const docLinkHtml = 'Like what you see? Visit the ' +\n",
              "            '<a target=\"_blank\" href=https://colab.research.google.com/notebooks/data_table.ipynb>data table notebook</a>'\n",
              "            + ' to learn more about interactive tables.';\n",
              "          element.innerHTML = '';\n",
              "          dataTable['output_type'] = 'display_data';\n",
              "          await google.colab.output.renderOutput(dataTable, element);\n",
              "          const docLink = document.createElement('div');\n",
              "          docLink.innerHTML = docLinkHtml;\n",
              "          element.appendChild(docLink);\n",
              "        }\n",
              "      </script>\n",
              "    </div>\n",
              "  </div>\n",
              "  "
            ]
          },
          "metadata": {},
          "execution_count": 55
        }
      ]
    },
    {
      "cell_type": "code",
      "source": [
        "df2['tweet_intent']=y_pred"
      ],
      "metadata": {
        "id": "cMWbqNfvkIDa"
      },
      "execution_count": 56,
      "outputs": []
    },
    {
      "cell_type": "code",
      "source": [
        "df2['tweet_intent'].unique()"
      ],
      "metadata": {
        "colab": {
          "base_uri": "https://localhost:8080/"
        },
        "id": "BN1t_UILkPWT",
        "outputId": "9316f744-fd66-4b88-c074-b0dc0f055601"
      },
      "execution_count": 57,
      "outputs": [
        {
          "output_type": "execute_result",
          "data": {
            "text/plain": [
              "array([2, 0, 1, 4, 3, 6, 5, 7])"
            ]
          },
          "metadata": {},
          "execution_count": 57
        }
      ]
    },
    {
      "cell_type": "markdown",
      "source": [
        "# Reversing the Encoded Data :"
      ],
      "metadata": {
        "id": "1U43As0oqFta"
      }
    },
    {
      "cell_type": "code",
      "source": [
        "df2['tweet_intent']=df2['tweet_intent'].map({0:'Community',1:'Giveaway',2:'Appreciation',3:'Presale',4:'Whitelist',5:'pinksale', 6:'Done', 7:'Interested', 8:'Launching Soon'})"
      ],
      "metadata": {
        "id": "5WbXorO-ZI0n"
      },
      "execution_count": 58,
      "outputs": []
    },
    {
      "cell_type": "code",
      "source": [
        "df2['tweet_intent'].unique()"
      ],
      "metadata": {
        "colab": {
          "base_uri": "https://localhost:8080/"
        },
        "id": "qmIYXiASVkja",
        "outputId": "1047d3db-10bc-488d-ba91-ad2532e1b0eb"
      },
      "execution_count": 59,
      "outputs": [
        {
          "output_type": "execute_result",
          "data": {
            "text/plain": [
              "array(['Appreciation', 'Community', 'Giveaway', 'Whitelist', 'Presale',\n",
              "       'Done', 'pinksale', 'Interested'], dtype=object)"
            ]
          },
          "metadata": {},
          "execution_count": 59
        }
      ]
    },
    {
      "cell_type": "code",
      "source": [
        "df2"
      ],
      "metadata": {
        "colab": {
          "base_uri": "https://localhost:8080/",
          "height": 424
        },
        "id": "zzxkWkGpoftQ",
        "outputId": "99676987-4bbd-43f2-dcbd-4c3950fcad22"
      },
      "execution_count": 60,
      "outputs": [
        {
          "output_type": "execute_result",
          "data": {
            "text/plain": [
              "                                               tweet_text  tweet_intent  \\\n",
              "96365   @asksabir007 @dao_lm Don't miss the chance to ...  Appreciation   \n",
              "96366   This zesty faucet from @_bitcoiner is making m...     Community   \n",
              "96367   15% off ðŸ§™â€â™‚ï¸ #Wizardia NFTs - it's a ...      Giveaway   \n",
              "96368   @Kavaboy_NFT @tanya_4d Message me, letâ€™s tal...     Community   \n",
              "96369   @berylbilici glad you stayed. The NFT world ke...     Community   \n",
              "...                                                   ...           ...   \n",
              "127448  @Jason My company Universe is solving this, an...     Whitelist   \n",
              "127449          @BosoTokyo Many will get rekt in this NFT     Community   \n",
              "127450  @leeneedham81 @KibaInuWorld @HODL_OFFICIAL @Ko...     Community   \n",
              "127451             @1kz3ro @UNLEASHED_NFT I love this job     Whitelist   \n",
              "127452  @Shill_Ronin @UNLEASHED_NFT my proof https://t...  Appreciation   \n",
              "\n",
              "                                          tweet_processed  \n",
              "96365   asksabir dao miss chance win nft worth simple ...  \n",
              "96366   zesty faucet bitcoiner make tweet claim free n...  \n",
              "96367   wizardia nfts game magic fill metaverse arena ...  \n",
              "96368   kavaboy nft tanya message let talk marketing p...  \n",
              "96369       berylbilici glad stay nft world keep grow day  \n",
              "...                                                   ...  \n",
              "127448  jason company universe solve get columbia star...  \n",
              "127449                        bosotokyo many get rekt nft  \n",
              "127450  leeneedham kibainuworld hodl official koacomba...  \n",
              "127451                             unleashed nft love job  \n",
              "127452               shill ronin unleashed nft proof http  \n",
              "\n",
              "[31088 rows x 3 columns]"
            ],
            "text/html": [
              "\n",
              "  <div id=\"df-26404f3c-c1f1-4bfe-9a00-cb5cc47a6d9d\">\n",
              "    <div class=\"colab-df-container\">\n",
              "      <div>\n",
              "<style scoped>\n",
              "    .dataframe tbody tr th:only-of-type {\n",
              "        vertical-align: middle;\n",
              "    }\n",
              "\n",
              "    .dataframe tbody tr th {\n",
              "        vertical-align: top;\n",
              "    }\n",
              "\n",
              "    .dataframe thead th {\n",
              "        text-align: right;\n",
              "    }\n",
              "</style>\n",
              "<table border=\"1\" class=\"dataframe\">\n",
              "  <thead>\n",
              "    <tr style=\"text-align: right;\">\n",
              "      <th></th>\n",
              "      <th>tweet_text</th>\n",
              "      <th>tweet_intent</th>\n",
              "      <th>tweet_processed</th>\n",
              "    </tr>\n",
              "  </thead>\n",
              "  <tbody>\n",
              "    <tr>\n",
              "      <th>96365</th>\n",
              "      <td>@asksabir007 @dao_lm Don't miss the chance to ...</td>\n",
              "      <td>Appreciation</td>\n",
              "      <td>asksabir dao miss chance win nft worth simple ...</td>\n",
              "    </tr>\n",
              "    <tr>\n",
              "      <th>96366</th>\n",
              "      <td>This zesty faucet from @_bitcoiner is making m...</td>\n",
              "      <td>Community</td>\n",
              "      <td>zesty faucet bitcoiner make tweet claim free n...</td>\n",
              "    </tr>\n",
              "    <tr>\n",
              "      <th>96367</th>\n",
              "      <td>15% off ðŸ§™â€â™‚ï¸ #Wizardia NFTs - it's a ...</td>\n",
              "      <td>Giveaway</td>\n",
              "      <td>wizardia nfts game magic fill metaverse arena ...</td>\n",
              "    </tr>\n",
              "    <tr>\n",
              "      <th>96368</th>\n",
              "      <td>@Kavaboy_NFT @tanya_4d Message me, letâ€™s tal...</td>\n",
              "      <td>Community</td>\n",
              "      <td>kavaboy nft tanya message let talk marketing p...</td>\n",
              "    </tr>\n",
              "    <tr>\n",
              "      <th>96369</th>\n",
              "      <td>@berylbilici glad you stayed. The NFT world ke...</td>\n",
              "      <td>Community</td>\n",
              "      <td>berylbilici glad stay nft world keep grow day</td>\n",
              "    </tr>\n",
              "    <tr>\n",
              "      <th>...</th>\n",
              "      <td>...</td>\n",
              "      <td>...</td>\n",
              "      <td>...</td>\n",
              "    </tr>\n",
              "    <tr>\n",
              "      <th>127448</th>\n",
              "      <td>@Jason My company Universe is solving this, an...</td>\n",
              "      <td>Whitelist</td>\n",
              "      <td>jason company universe solve get columbia star...</td>\n",
              "    </tr>\n",
              "    <tr>\n",
              "      <th>127449</th>\n",
              "      <td>@BosoTokyo Many will get rekt in this NFT</td>\n",
              "      <td>Community</td>\n",
              "      <td>bosotokyo many get rekt nft</td>\n",
              "    </tr>\n",
              "    <tr>\n",
              "      <th>127450</th>\n",
              "      <td>@leeneedham81 @KibaInuWorld @HODL_OFFICIAL @Ko...</td>\n",
              "      <td>Community</td>\n",
              "      <td>leeneedham kibainuworld hodl official koacomba...</td>\n",
              "    </tr>\n",
              "    <tr>\n",
              "      <th>127451</th>\n",
              "      <td>@1kz3ro @UNLEASHED_NFT I love this job</td>\n",
              "      <td>Whitelist</td>\n",
              "      <td>unleashed nft love job</td>\n",
              "    </tr>\n",
              "    <tr>\n",
              "      <th>127452</th>\n",
              "      <td>@Shill_Ronin @UNLEASHED_NFT my proof https://t...</td>\n",
              "      <td>Appreciation</td>\n",
              "      <td>shill ronin unleashed nft proof http</td>\n",
              "    </tr>\n",
              "  </tbody>\n",
              "</table>\n",
              "<p>31088 rows × 3 columns</p>\n",
              "</div>\n",
              "      <button class=\"colab-df-convert\" onclick=\"convertToInteractive('df-26404f3c-c1f1-4bfe-9a00-cb5cc47a6d9d')\"\n",
              "              title=\"Convert this dataframe to an interactive table.\"\n",
              "              style=\"display:none;\">\n",
              "        \n",
              "  <svg xmlns=\"http://www.w3.org/2000/svg\" height=\"24px\"viewBox=\"0 0 24 24\"\n",
              "       width=\"24px\">\n",
              "    <path d=\"M0 0h24v24H0V0z\" fill=\"none\"/>\n",
              "    <path d=\"M18.56 5.44l.94 2.06.94-2.06 2.06-.94-2.06-.94-.94-2.06-.94 2.06-2.06.94zm-11 1L8.5 8.5l.94-2.06 2.06-.94-2.06-.94L8.5 2.5l-.94 2.06-2.06.94zm10 10l.94 2.06.94-2.06 2.06-.94-2.06-.94-.94-2.06-.94 2.06-2.06.94z\"/><path d=\"M17.41 7.96l-1.37-1.37c-.4-.4-.92-.59-1.43-.59-.52 0-1.04.2-1.43.59L10.3 9.45l-7.72 7.72c-.78.78-.78 2.05 0 2.83L4 21.41c.39.39.9.59 1.41.59.51 0 1.02-.2 1.41-.59l7.78-7.78 2.81-2.81c.8-.78.8-2.07 0-2.86zM5.41 20L4 18.59l7.72-7.72 1.47 1.35L5.41 20z\"/>\n",
              "  </svg>\n",
              "      </button>\n",
              "      \n",
              "  <style>\n",
              "    .colab-df-container {\n",
              "      display:flex;\n",
              "      flex-wrap:wrap;\n",
              "      gap: 12px;\n",
              "    }\n",
              "\n",
              "    .colab-df-convert {\n",
              "      background-color: #E8F0FE;\n",
              "      border: none;\n",
              "      border-radius: 50%;\n",
              "      cursor: pointer;\n",
              "      display: none;\n",
              "      fill: #1967D2;\n",
              "      height: 32px;\n",
              "      padding: 0 0 0 0;\n",
              "      width: 32px;\n",
              "    }\n",
              "\n",
              "    .colab-df-convert:hover {\n",
              "      background-color: #E2EBFA;\n",
              "      box-shadow: 0px 1px 2px rgba(60, 64, 67, 0.3), 0px 1px 3px 1px rgba(60, 64, 67, 0.15);\n",
              "      fill: #174EA6;\n",
              "    }\n",
              "\n",
              "    [theme=dark] .colab-df-convert {\n",
              "      background-color: #3B4455;\n",
              "      fill: #D2E3FC;\n",
              "    }\n",
              "\n",
              "    [theme=dark] .colab-df-convert:hover {\n",
              "      background-color: #434B5C;\n",
              "      box-shadow: 0px 1px 3px 1px rgba(0, 0, 0, 0.15);\n",
              "      filter: drop-shadow(0px 1px 2px rgba(0, 0, 0, 0.3));\n",
              "      fill: #FFFFFF;\n",
              "    }\n",
              "  </style>\n",
              "\n",
              "      <script>\n",
              "        const buttonEl =\n",
              "          document.querySelector('#df-26404f3c-c1f1-4bfe-9a00-cb5cc47a6d9d button.colab-df-convert');\n",
              "        buttonEl.style.display =\n",
              "          google.colab.kernel.accessAllowed ? 'block' : 'none';\n",
              "\n",
              "        async function convertToInteractive(key) {\n",
              "          const element = document.querySelector('#df-26404f3c-c1f1-4bfe-9a00-cb5cc47a6d9d');\n",
              "          const dataTable =\n",
              "            await google.colab.kernel.invokeFunction('convertToInteractive',\n",
              "                                                     [key], {});\n",
              "          if (!dataTable) return;\n",
              "\n",
              "          const docLinkHtml = 'Like what you see? Visit the ' +\n",
              "            '<a target=\"_blank\" href=https://colab.research.google.com/notebooks/data_table.ipynb>data table notebook</a>'\n",
              "            + ' to learn more about interactive tables.';\n",
              "          element.innerHTML = '';\n",
              "          dataTable['output_type'] = 'display_data';\n",
              "          await google.colab.output.renderOutput(dataTable, element);\n",
              "          const docLink = document.createElement('div');\n",
              "          docLink.innerHTML = docLinkHtml;\n",
              "          element.appendChild(docLink);\n",
              "        }\n",
              "      </script>\n",
              "    </div>\n",
              "  </div>\n",
              "  "
            ]
          },
          "metadata": {},
          "execution_count": 60
        }
      ]
    },
    {
      "cell_type": "markdown",
      "source": [
        "# **Final Output :**"
      ],
      "metadata": {
        "id": "aGr0qavyrJh6"
      }
    },
    {
      "cell_type": "code",
      "source": [
        "df3=pd.concat([df1,df2])\n",
        "df3"
      ],
      "metadata": {
        "colab": {
          "base_uri": "https://localhost:8080/",
          "height": 424
        },
        "id": "T4kw2X_Gn1GA",
        "outputId": "24a2558c-5d41-4cf8-f29e-5c95c7282d2f"
      },
      "execution_count": 64,
      "outputs": [
        {
          "output_type": "execute_result",
          "data": {
            "text/plain": [
              "                                               tweet_text  tweet_intent  \\\n",
              "0       @crypto_brody @eCoLoGy1990 @MoonrunnersNFT @It...     Community   \n",
              "1       Need Sick Character artâ“#art #artist #Artist...      Giveaway   \n",
              "2       @The_Hulk_NFT @INagotchiNFT @Tesla @killabears...  Appreciation   \n",
              "3       @CryptoBatzNFT @DarekBTW The first project in ...     Community   \n",
              "4       @sashadysonn The first project in crypto with ...     Community   \n",
              "...                                                   ...           ...   \n",
              "127448  @Jason My company Universe is solving this, an...     Whitelist   \n",
              "127449          @BosoTokyo Many will get rekt in this NFT     Community   \n",
              "127450  @leeneedham81 @KibaInuWorld @HODL_OFFICIAL @Ko...     Community   \n",
              "127451             @1kz3ro @UNLEASHED_NFT I love this job     Whitelist   \n",
              "127452  @Shill_Ronin @UNLEASHED_NFT my proof https://t...  Appreciation   \n",
              "\n",
              "                                          tweet_processed  \n",
              "0       crypto brody ecology moonrunnersnft itsukinft ...  \n",
              "1       need sick character art art artist artist anim...  \n",
              "2       hulk nft inagotchinft tesla killabearsnft elon...  \n",
              "3       cryptobatznft darekbtw first project crypto mo...  \n",
              "4       sashadysonn first project crypto move earn ast...  \n",
              "...                                                   ...  \n",
              "127448  jason company universe solve get columbia star...  \n",
              "127449                        bosotokyo many get rekt nft  \n",
              "127450  leeneedham kibainuworld hodl official koacomba...  \n",
              "127451                             unleashed nft love job  \n",
              "127452               shill ronin unleashed nft proof http  \n",
              "\n",
              "[127452 rows x 3 columns]"
            ],
            "text/html": [
              "\n",
              "  <div id=\"df-515dfaa3-fbe4-48b1-8ab4-4bd7479d091e\">\n",
              "    <div class=\"colab-df-container\">\n",
              "      <div>\n",
              "<style scoped>\n",
              "    .dataframe tbody tr th:only-of-type {\n",
              "        vertical-align: middle;\n",
              "    }\n",
              "\n",
              "    .dataframe tbody tr th {\n",
              "        vertical-align: top;\n",
              "    }\n",
              "\n",
              "    .dataframe thead th {\n",
              "        text-align: right;\n",
              "    }\n",
              "</style>\n",
              "<table border=\"1\" class=\"dataframe\">\n",
              "  <thead>\n",
              "    <tr style=\"text-align: right;\">\n",
              "      <th></th>\n",
              "      <th>tweet_text</th>\n",
              "      <th>tweet_intent</th>\n",
              "      <th>tweet_processed</th>\n",
              "    </tr>\n",
              "  </thead>\n",
              "  <tbody>\n",
              "    <tr>\n",
              "      <th>0</th>\n",
              "      <td>@crypto_brody @eCoLoGy1990 @MoonrunnersNFT @It...</td>\n",
              "      <td>Community</td>\n",
              "      <td>crypto brody ecology moonrunnersnft itsukinft ...</td>\n",
              "    </tr>\n",
              "    <tr>\n",
              "      <th>1</th>\n",
              "      <td>Need Sick Character artâ“#art #artist #Artist...</td>\n",
              "      <td>Giveaway</td>\n",
              "      <td>need sick character art art artist artist anim...</td>\n",
              "    </tr>\n",
              "    <tr>\n",
              "      <th>2</th>\n",
              "      <td>@The_Hulk_NFT @INagotchiNFT @Tesla @killabears...</td>\n",
              "      <td>Appreciation</td>\n",
              "      <td>hulk nft inagotchinft tesla killabearsnft elon...</td>\n",
              "    </tr>\n",
              "    <tr>\n",
              "      <th>3</th>\n",
              "      <td>@CryptoBatzNFT @DarekBTW The first project in ...</td>\n",
              "      <td>Community</td>\n",
              "      <td>cryptobatznft darekbtw first project crypto mo...</td>\n",
              "    </tr>\n",
              "    <tr>\n",
              "      <th>4</th>\n",
              "      <td>@sashadysonn The first project in crypto with ...</td>\n",
              "      <td>Community</td>\n",
              "      <td>sashadysonn first project crypto move earn ast...</td>\n",
              "    </tr>\n",
              "    <tr>\n",
              "      <th>...</th>\n",
              "      <td>...</td>\n",
              "      <td>...</td>\n",
              "      <td>...</td>\n",
              "    </tr>\n",
              "    <tr>\n",
              "      <th>127448</th>\n",
              "      <td>@Jason My company Universe is solving this, an...</td>\n",
              "      <td>Whitelist</td>\n",
              "      <td>jason company universe solve get columbia star...</td>\n",
              "    </tr>\n",
              "    <tr>\n",
              "      <th>127449</th>\n",
              "      <td>@BosoTokyo Many will get rekt in this NFT</td>\n",
              "      <td>Community</td>\n",
              "      <td>bosotokyo many get rekt nft</td>\n",
              "    </tr>\n",
              "    <tr>\n",
              "      <th>127450</th>\n",
              "      <td>@leeneedham81 @KibaInuWorld @HODL_OFFICIAL @Ko...</td>\n",
              "      <td>Community</td>\n",
              "      <td>leeneedham kibainuworld hodl official koacomba...</td>\n",
              "    </tr>\n",
              "    <tr>\n",
              "      <th>127451</th>\n",
              "      <td>@1kz3ro @UNLEASHED_NFT I love this job</td>\n",
              "      <td>Whitelist</td>\n",
              "      <td>unleashed nft love job</td>\n",
              "    </tr>\n",
              "    <tr>\n",
              "      <th>127452</th>\n",
              "      <td>@Shill_Ronin @UNLEASHED_NFT my proof https://t...</td>\n",
              "      <td>Appreciation</td>\n",
              "      <td>shill ronin unleashed nft proof http</td>\n",
              "    </tr>\n",
              "  </tbody>\n",
              "</table>\n",
              "<p>127452 rows × 3 columns</p>\n",
              "</div>\n",
              "      <button class=\"colab-df-convert\" onclick=\"convertToInteractive('df-515dfaa3-fbe4-48b1-8ab4-4bd7479d091e')\"\n",
              "              title=\"Convert this dataframe to an interactive table.\"\n",
              "              style=\"display:none;\">\n",
              "        \n",
              "  <svg xmlns=\"http://www.w3.org/2000/svg\" height=\"24px\"viewBox=\"0 0 24 24\"\n",
              "       width=\"24px\">\n",
              "    <path d=\"M0 0h24v24H0V0z\" fill=\"none\"/>\n",
              "    <path d=\"M18.56 5.44l.94 2.06.94-2.06 2.06-.94-2.06-.94-.94-2.06-.94 2.06-2.06.94zm-11 1L8.5 8.5l.94-2.06 2.06-.94-2.06-.94L8.5 2.5l-.94 2.06-2.06.94zm10 10l.94 2.06.94-2.06 2.06-.94-2.06-.94-.94-2.06-.94 2.06-2.06.94z\"/><path d=\"M17.41 7.96l-1.37-1.37c-.4-.4-.92-.59-1.43-.59-.52 0-1.04.2-1.43.59L10.3 9.45l-7.72 7.72c-.78.78-.78 2.05 0 2.83L4 21.41c.39.39.9.59 1.41.59.51 0 1.02-.2 1.41-.59l7.78-7.78 2.81-2.81c.8-.78.8-2.07 0-2.86zM5.41 20L4 18.59l7.72-7.72 1.47 1.35L5.41 20z\"/>\n",
              "  </svg>\n",
              "      </button>\n",
              "      \n",
              "  <style>\n",
              "    .colab-df-container {\n",
              "      display:flex;\n",
              "      flex-wrap:wrap;\n",
              "      gap: 12px;\n",
              "    }\n",
              "\n",
              "    .colab-df-convert {\n",
              "      background-color: #E8F0FE;\n",
              "      border: none;\n",
              "      border-radius: 50%;\n",
              "      cursor: pointer;\n",
              "      display: none;\n",
              "      fill: #1967D2;\n",
              "      height: 32px;\n",
              "      padding: 0 0 0 0;\n",
              "      width: 32px;\n",
              "    }\n",
              "\n",
              "    .colab-df-convert:hover {\n",
              "      background-color: #E2EBFA;\n",
              "      box-shadow: 0px 1px 2px rgba(60, 64, 67, 0.3), 0px 1px 3px 1px rgba(60, 64, 67, 0.15);\n",
              "      fill: #174EA6;\n",
              "    }\n",
              "\n",
              "    [theme=dark] .colab-df-convert {\n",
              "      background-color: #3B4455;\n",
              "      fill: #D2E3FC;\n",
              "    }\n",
              "\n",
              "    [theme=dark] .colab-df-convert:hover {\n",
              "      background-color: #434B5C;\n",
              "      box-shadow: 0px 1px 3px 1px rgba(0, 0, 0, 0.15);\n",
              "      filter: drop-shadow(0px 1px 2px rgba(0, 0, 0, 0.3));\n",
              "      fill: #FFFFFF;\n",
              "    }\n",
              "  </style>\n",
              "\n",
              "      <script>\n",
              "        const buttonEl =\n",
              "          document.querySelector('#df-515dfaa3-fbe4-48b1-8ab4-4bd7479d091e button.colab-df-convert');\n",
              "        buttonEl.style.display =\n",
              "          google.colab.kernel.accessAllowed ? 'block' : 'none';\n",
              "\n",
              "        async function convertToInteractive(key) {\n",
              "          const element = document.querySelector('#df-515dfaa3-fbe4-48b1-8ab4-4bd7479d091e');\n",
              "          const dataTable =\n",
              "            await google.colab.kernel.invokeFunction('convertToInteractive',\n",
              "                                                     [key], {});\n",
              "          if (!dataTable) return;\n",
              "\n",
              "          const docLinkHtml = 'Like what you see? Visit the ' +\n",
              "            '<a target=\"_blank\" href=https://colab.research.google.com/notebooks/data_table.ipynb>data table notebook</a>'\n",
              "            + ' to learn more about interactive tables.';\n",
              "          element.innerHTML = '';\n",
              "          dataTable['output_type'] = 'display_data';\n",
              "          await google.colab.output.renderOutput(dataTable, element);\n",
              "          const docLink = document.createElement('div');\n",
              "          docLink.innerHTML = docLinkHtml;\n",
              "          element.appendChild(docLink);\n",
              "        }\n",
              "      </script>\n",
              "    </div>\n",
              "  </div>\n",
              "  "
            ]
          },
          "metadata": {},
          "execution_count": 64
        }
      ]
    },
    {
      "cell_type": "code",
      "source": [
        "# Re ordering columns\n",
        "df3 = df3[['tweet_text','tweet_processed','tweet_intent']]\n",
        "df3"
      ],
      "metadata": {
        "id": "B1ooRQbIyHBn",
        "outputId": "0c19fbb6-60de-4deb-ee52-cfdf5f36d7ba",
        "colab": {
          "base_uri": "https://localhost:8080/",
          "height": 424
        }
      },
      "execution_count": 65,
      "outputs": [
        {
          "output_type": "execute_result",
          "data": {
            "text/plain": [
              "                                               tweet_text  \\\n",
              "0       @crypto_brody @eCoLoGy1990 @MoonrunnersNFT @It...   \n",
              "1       Need Sick Character artâ“#art #artist #Artist...   \n",
              "2       @The_Hulk_NFT @INagotchiNFT @Tesla @killabears...   \n",
              "3       @CryptoBatzNFT @DarekBTW The first project in ...   \n",
              "4       @sashadysonn The first project in crypto with ...   \n",
              "...                                                   ...   \n",
              "127448  @Jason My company Universe is solving this, an...   \n",
              "127449          @BosoTokyo Many will get rekt in this NFT   \n",
              "127450  @leeneedham81 @KibaInuWorld @HODL_OFFICIAL @Ko...   \n",
              "127451             @1kz3ro @UNLEASHED_NFT I love this job   \n",
              "127452  @Shill_Ronin @UNLEASHED_NFT my proof https://t...   \n",
              "\n",
              "                                          tweet_processed  tweet_intent  \n",
              "0       crypto brody ecology moonrunnersnft itsukinft ...     Community  \n",
              "1       need sick character art art artist artist anim...      Giveaway  \n",
              "2       hulk nft inagotchinft tesla killabearsnft elon...  Appreciation  \n",
              "3       cryptobatznft darekbtw first project crypto mo...     Community  \n",
              "4       sashadysonn first project crypto move earn ast...     Community  \n",
              "...                                                   ...           ...  \n",
              "127448  jason company universe solve get columbia star...     Whitelist  \n",
              "127449                        bosotokyo many get rekt nft     Community  \n",
              "127450  leeneedham kibainuworld hodl official koacomba...     Community  \n",
              "127451                             unleashed nft love job     Whitelist  \n",
              "127452               shill ronin unleashed nft proof http  Appreciation  \n",
              "\n",
              "[127452 rows x 3 columns]"
            ],
            "text/html": [
              "\n",
              "  <div id=\"df-42d107a8-6074-410c-b6d2-888dcd1686be\">\n",
              "    <div class=\"colab-df-container\">\n",
              "      <div>\n",
              "<style scoped>\n",
              "    .dataframe tbody tr th:only-of-type {\n",
              "        vertical-align: middle;\n",
              "    }\n",
              "\n",
              "    .dataframe tbody tr th {\n",
              "        vertical-align: top;\n",
              "    }\n",
              "\n",
              "    .dataframe thead th {\n",
              "        text-align: right;\n",
              "    }\n",
              "</style>\n",
              "<table border=\"1\" class=\"dataframe\">\n",
              "  <thead>\n",
              "    <tr style=\"text-align: right;\">\n",
              "      <th></th>\n",
              "      <th>tweet_text</th>\n",
              "      <th>tweet_processed</th>\n",
              "      <th>tweet_intent</th>\n",
              "    </tr>\n",
              "  </thead>\n",
              "  <tbody>\n",
              "    <tr>\n",
              "      <th>0</th>\n",
              "      <td>@crypto_brody @eCoLoGy1990 @MoonrunnersNFT @It...</td>\n",
              "      <td>crypto brody ecology moonrunnersnft itsukinft ...</td>\n",
              "      <td>Community</td>\n",
              "    </tr>\n",
              "    <tr>\n",
              "      <th>1</th>\n",
              "      <td>Need Sick Character artâ“#art #artist #Artist...</td>\n",
              "      <td>need sick character art art artist artist anim...</td>\n",
              "      <td>Giveaway</td>\n",
              "    </tr>\n",
              "    <tr>\n",
              "      <th>2</th>\n",
              "      <td>@The_Hulk_NFT @INagotchiNFT @Tesla @killabears...</td>\n",
              "      <td>hulk nft inagotchinft tesla killabearsnft elon...</td>\n",
              "      <td>Appreciation</td>\n",
              "    </tr>\n",
              "    <tr>\n",
              "      <th>3</th>\n",
              "      <td>@CryptoBatzNFT @DarekBTW The first project in ...</td>\n",
              "      <td>cryptobatznft darekbtw first project crypto mo...</td>\n",
              "      <td>Community</td>\n",
              "    </tr>\n",
              "    <tr>\n",
              "      <th>4</th>\n",
              "      <td>@sashadysonn The first project in crypto with ...</td>\n",
              "      <td>sashadysonn first project crypto move earn ast...</td>\n",
              "      <td>Community</td>\n",
              "    </tr>\n",
              "    <tr>\n",
              "      <th>...</th>\n",
              "      <td>...</td>\n",
              "      <td>...</td>\n",
              "      <td>...</td>\n",
              "    </tr>\n",
              "    <tr>\n",
              "      <th>127448</th>\n",
              "      <td>@Jason My company Universe is solving this, an...</td>\n",
              "      <td>jason company universe solve get columbia star...</td>\n",
              "      <td>Whitelist</td>\n",
              "    </tr>\n",
              "    <tr>\n",
              "      <th>127449</th>\n",
              "      <td>@BosoTokyo Many will get rekt in this NFT</td>\n",
              "      <td>bosotokyo many get rekt nft</td>\n",
              "      <td>Community</td>\n",
              "    </tr>\n",
              "    <tr>\n",
              "      <th>127450</th>\n",
              "      <td>@leeneedham81 @KibaInuWorld @HODL_OFFICIAL @Ko...</td>\n",
              "      <td>leeneedham kibainuworld hodl official koacomba...</td>\n",
              "      <td>Community</td>\n",
              "    </tr>\n",
              "    <tr>\n",
              "      <th>127451</th>\n",
              "      <td>@1kz3ro @UNLEASHED_NFT I love this job</td>\n",
              "      <td>unleashed nft love job</td>\n",
              "      <td>Whitelist</td>\n",
              "    </tr>\n",
              "    <tr>\n",
              "      <th>127452</th>\n",
              "      <td>@Shill_Ronin @UNLEASHED_NFT my proof https://t...</td>\n",
              "      <td>shill ronin unleashed nft proof http</td>\n",
              "      <td>Appreciation</td>\n",
              "    </tr>\n",
              "  </tbody>\n",
              "</table>\n",
              "<p>127452 rows × 3 columns</p>\n",
              "</div>\n",
              "      <button class=\"colab-df-convert\" onclick=\"convertToInteractive('df-42d107a8-6074-410c-b6d2-888dcd1686be')\"\n",
              "              title=\"Convert this dataframe to an interactive table.\"\n",
              "              style=\"display:none;\">\n",
              "        \n",
              "  <svg xmlns=\"http://www.w3.org/2000/svg\" height=\"24px\"viewBox=\"0 0 24 24\"\n",
              "       width=\"24px\">\n",
              "    <path d=\"M0 0h24v24H0V0z\" fill=\"none\"/>\n",
              "    <path d=\"M18.56 5.44l.94 2.06.94-2.06 2.06-.94-2.06-.94-.94-2.06-.94 2.06-2.06.94zm-11 1L8.5 8.5l.94-2.06 2.06-.94-2.06-.94L8.5 2.5l-.94 2.06-2.06.94zm10 10l.94 2.06.94-2.06 2.06-.94-2.06-.94-.94-2.06-.94 2.06-2.06.94z\"/><path d=\"M17.41 7.96l-1.37-1.37c-.4-.4-.92-.59-1.43-.59-.52 0-1.04.2-1.43.59L10.3 9.45l-7.72 7.72c-.78.78-.78 2.05 0 2.83L4 21.41c.39.39.9.59 1.41.59.51 0 1.02-.2 1.41-.59l7.78-7.78 2.81-2.81c.8-.78.8-2.07 0-2.86zM5.41 20L4 18.59l7.72-7.72 1.47 1.35L5.41 20z\"/>\n",
              "  </svg>\n",
              "      </button>\n",
              "      \n",
              "  <style>\n",
              "    .colab-df-container {\n",
              "      display:flex;\n",
              "      flex-wrap:wrap;\n",
              "      gap: 12px;\n",
              "    }\n",
              "\n",
              "    .colab-df-convert {\n",
              "      background-color: #E8F0FE;\n",
              "      border: none;\n",
              "      border-radius: 50%;\n",
              "      cursor: pointer;\n",
              "      display: none;\n",
              "      fill: #1967D2;\n",
              "      height: 32px;\n",
              "      padding: 0 0 0 0;\n",
              "      width: 32px;\n",
              "    }\n",
              "\n",
              "    .colab-df-convert:hover {\n",
              "      background-color: #E2EBFA;\n",
              "      box-shadow: 0px 1px 2px rgba(60, 64, 67, 0.3), 0px 1px 3px 1px rgba(60, 64, 67, 0.15);\n",
              "      fill: #174EA6;\n",
              "    }\n",
              "\n",
              "    [theme=dark] .colab-df-convert {\n",
              "      background-color: #3B4455;\n",
              "      fill: #D2E3FC;\n",
              "    }\n",
              "\n",
              "    [theme=dark] .colab-df-convert:hover {\n",
              "      background-color: #434B5C;\n",
              "      box-shadow: 0px 1px 3px 1px rgba(0, 0, 0, 0.15);\n",
              "      filter: drop-shadow(0px 1px 2px rgba(0, 0, 0, 0.3));\n",
              "      fill: #FFFFFF;\n",
              "    }\n",
              "  </style>\n",
              "\n",
              "      <script>\n",
              "        const buttonEl =\n",
              "          document.querySelector('#df-42d107a8-6074-410c-b6d2-888dcd1686be button.colab-df-convert');\n",
              "        buttonEl.style.display =\n",
              "          google.colab.kernel.accessAllowed ? 'block' : 'none';\n",
              "\n",
              "        async function convertToInteractive(key) {\n",
              "          const element = document.querySelector('#df-42d107a8-6074-410c-b6d2-888dcd1686be');\n",
              "          const dataTable =\n",
              "            await google.colab.kernel.invokeFunction('convertToInteractive',\n",
              "                                                     [key], {});\n",
              "          if (!dataTable) return;\n",
              "\n",
              "          const docLinkHtml = 'Like what you see? Visit the ' +\n",
              "            '<a target=\"_blank\" href=https://colab.research.google.com/notebooks/data_table.ipynb>data table notebook</a>'\n",
              "            + ' to learn more about interactive tables.';\n",
              "          element.innerHTML = '';\n",
              "          dataTable['output_type'] = 'display_data';\n",
              "          await google.colab.output.renderOutput(dataTable, element);\n",
              "          const docLink = document.createElement('div');\n",
              "          docLink.innerHTML = docLinkHtml;\n",
              "          element.appendChild(docLink);\n",
              "        }\n",
              "      </script>\n",
              "    </div>\n",
              "  </div>\n",
              "  "
            ]
          },
          "metadata": {},
          "execution_count": 65
        }
      ]
    },
    {
      "cell_type": "markdown",
      "source": [
        "# **Saving the updated Intents :**"
      ],
      "metadata": {
        "id": "sk6mTCYxrU0z"
      }
    },
    {
      "cell_type": "code",
      "source": [
        "df3.to_csv(\"Tweet_NFT_Updated.csv\",index=False) "
      ],
      "metadata": {
        "id": "0facRzH6Jeqd"
      },
      "execution_count": 66,
      "outputs": []
    }
  ],
  "metadata": {
    "colab": {
      "collapsed_sections": [],
      "provenance": [],
      "mount_file_id": "1dp130704PmyFtDu8TdvsVCFAE0qLd7uL",
      "authorship_tag": "ABX9TyM+9N1sqeLx/VyBO9R8Uhxi",
      "include_colab_link": true
    },
    "kernelspec": {
      "display_name": "Python 3",
      "name": "python3"
    },
    "language_info": {
      "name": "python"
    }
  },
  "nbformat": 4,
  "nbformat_minor": 0
}