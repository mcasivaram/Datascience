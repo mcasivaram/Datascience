{
  "cells": [
    {
      "cell_type": "markdown",
      "metadata": {
        "id": "view-in-github",
        "colab_type": "text"
      },
      "source": [
        "<a href=\"https://colab.research.google.com/github/mcasivaram/Datascience/blob/main/Numpy_tasks.ipynb\" target=\"_parent\"><img src=\"https://colab.research.google.com/assets/colab-badge.svg\" alt=\"Open In Colab\"/></a>"
      ]
    },
    {
      "cell_type": "markdown",
      "metadata": {
        "id": "b25akg-l8aKj"
      },
      "source": [
        "# Numpy\n",
        "\n"
      ]
    },
    {
      "cell_type": "markdown",
      "metadata": {
        "id": "RJq6bBU78aKn"
      },
      "source": [
        "#### 1. Import the numpy package under the name `np` (★☆☆) \n",
        "(**hint**: import … as …)"
      ]
    },
    {
      "cell_type": "code",
      "execution_count": 34,
      "metadata": {
        "collapsed": true,
        "id": "Oc_-Fo8s8aKo"
      },
      "outputs": [],
      "source": [
        "import numpy as np"
      ]
    },
    {
      "cell_type": "markdown",
      "metadata": {
        "id": "niRbz6-I8aKo"
      },
      "source": [
        "#### 2. Print the numpy version and the configuration (★☆☆) \n",
        "(**hint**: np.\\_\\_version\\_\\_, np.show\\_config)"
      ]
    },
    {
      "cell_type": "code",
      "execution_count": null,
      "metadata": {
        "colab": {
          "base_uri": "https://localhost:8080/"
        },
        "id": "4PXGXZox8aKp",
        "outputId": "07024d68-099a-4353-a15d-db521bcbabb4"
      },
      "outputs": [
        {
          "output_type": "stream",
          "name": "stdout",
          "text": [
            "1.21.6\n",
            "blas_mkl_info:\n",
            "  NOT AVAILABLE\n",
            "blis_info:\n",
            "  NOT AVAILABLE\n",
            "openblas_info:\n",
            "    libraries = ['openblas', 'openblas']\n",
            "    library_dirs = ['/usr/local/lib']\n",
            "    language = c\n",
            "    define_macros = [('HAVE_CBLAS', None)]\n",
            "    runtime_library_dirs = ['/usr/local/lib']\n",
            "blas_opt_info:\n",
            "    libraries = ['openblas', 'openblas']\n",
            "    library_dirs = ['/usr/local/lib']\n",
            "    language = c\n",
            "    define_macros = [('HAVE_CBLAS', None)]\n",
            "    runtime_library_dirs = ['/usr/local/lib']\n",
            "lapack_mkl_info:\n",
            "  NOT AVAILABLE\n",
            "openblas_lapack_info:\n",
            "    libraries = ['openblas', 'openblas']\n",
            "    library_dirs = ['/usr/local/lib']\n",
            "    language = c\n",
            "    define_macros = [('HAVE_CBLAS', None)]\n",
            "    runtime_library_dirs = ['/usr/local/lib']\n",
            "lapack_opt_info:\n",
            "    libraries = ['openblas', 'openblas']\n",
            "    library_dirs = ['/usr/local/lib']\n",
            "    language = c\n",
            "    define_macros = [('HAVE_CBLAS', None)]\n",
            "    runtime_library_dirs = ['/usr/local/lib']\n",
            "Supported SIMD extensions in this NumPy install:\n",
            "    baseline = SSE,SSE2,SSE3\n",
            "    found = SSSE3,SSE41,POPCNT,SSE42,AVX,F16C,FMA3,AVX2\n",
            "    not found = AVX512F,AVX512CD,AVX512_KNL,AVX512_KNM,AVX512_SKX,AVX512_CLX,AVX512_CNL,AVX512_ICL\n"
          ]
        }
      ],
      "source": [
        "print(np.__version__)\n",
        "np.show_config()"
      ]
    },
    {
      "cell_type": "markdown",
      "metadata": {
        "id": "Z2XcPWBd8aKp"
      },
      "source": [
        "#### 3. Create a null vector of size 10 (★☆☆) \n",
        "(**hint**: np.zeros)"
      ]
    },
    {
      "cell_type": "code",
      "execution_count": null,
      "metadata": {
        "colab": {
          "base_uri": "https://localhost:8080/"
        },
        "id": "Scrv2lO98aKq",
        "outputId": "3bfa1b3c-88ac-4796-9435-49b2feec684e"
      },
      "outputs": [
        {
          "output_type": "execute_result",
          "data": {
            "text/plain": [
              "array([0., 0., 0., 0., 0., 0., 0., 0., 0., 0.])"
            ]
          },
          "metadata": {},
          "execution_count": 11
        }
      ],
      "source": [
        "x=np.zeros(10)\n",
        "x"
      ]
    },
    {
      "cell_type": "markdown",
      "metadata": {
        "id": "dnHAmdlp8aKr"
      },
      "source": [
        "#### 4.  How to find the memory size of any array (★☆☆) \n",
        "(**hint**: size, itemsize)"
      ]
    },
    {
      "cell_type": "code",
      "execution_count": null,
      "metadata": {
        "colab": {
          "base_uri": "https://localhost:8080/"
        },
        "id": "vKFuL-Kj8aKr",
        "outputId": "570511ef-3f1c-492c-effb-2602a6067fe0"
      },
      "outputs": [
        {
          "output_type": "stream",
          "name": "stdout",
          "text": [
            "800\n"
          ]
        }
      ],
      "source": [
        "x=np.zeros((10,10))\n",
        "print(x.size*x.itemsize)"
      ]
    },
    {
      "cell_type": "markdown",
      "metadata": {
        "id": "064GPnxx8aKs"
      },
      "source": [
        "#### 5.  How to get the documentation of the numpy add function from the command line? (★☆☆) \n",
        "(**hint**: np.info)"
      ]
    },
    {
      "cell_type": "code",
      "execution_count": null,
      "metadata": {
        "collapsed": true,
        "colab": {
          "base_uri": "https://localhost:8080/"
        },
        "id": "EYbBrkdX8aKs",
        "outputId": "0b8d74b2-7edf-412c-f35f-2ea0253b71f3"
      },
      "outputs": [
        {
          "output_type": "stream",
          "name": "stdout",
          "text": [
            "add(x1, x2, /, out=None, *, where=True, casting='same_kind', order='K', dtype=None, subok=True[, signature, extobj])\n",
            "\n",
            "Add arguments element-wise.\n",
            "\n",
            "Parameters\n",
            "----------\n",
            "x1, x2 : array_like\n",
            "    The arrays to be added.\n",
            "    If ``x1.shape != x2.shape``, they must be broadcastable to a common\n",
            "    shape (which becomes the shape of the output).\n",
            "out : ndarray, None, or tuple of ndarray and None, optional\n",
            "    A location into which the result is stored. If provided, it must have\n",
            "    a shape that the inputs broadcast to. If not provided or None,\n",
            "    a freshly-allocated array is returned. A tuple (possible only as a\n",
            "    keyword argument) must have length equal to the number of outputs.\n",
            "where : array_like, optional\n",
            "    This condition is broadcast over the input. At locations where the\n",
            "    condition is True, the `out` array will be set to the ufunc result.\n",
            "    Elsewhere, the `out` array will retain its original value.\n",
            "    Note that if an uninitialized `out` array is created via the default\n",
            "    ``out=None``, locations within it where the condition is False will\n",
            "    remain uninitialized.\n",
            "**kwargs\n",
            "    For other keyword-only arguments, see the\n",
            "    :ref:`ufunc docs <ufuncs.kwargs>`.\n",
            "\n",
            "Returns\n",
            "-------\n",
            "add : ndarray or scalar\n",
            "    The sum of `x1` and `x2`, element-wise.\n",
            "    This is a scalar if both `x1` and `x2` are scalars.\n",
            "\n",
            "Notes\n",
            "-----\n",
            "Equivalent to `x1` + `x2` in terms of array broadcasting.\n",
            "\n",
            "Examples\n",
            "--------\n",
            ">>> np.add(1.0, 4.0)\n",
            "5.0\n",
            ">>> x1 = np.arange(9.0).reshape((3, 3))\n",
            ">>> x2 = np.arange(3.0)\n",
            ">>> np.add(x1, x2)\n",
            "array([[  0.,   2.,   4.],\n",
            "       [  3.,   5.,   7.],\n",
            "       [  6.,   8.,  10.]])\n",
            "\n",
            "The ``+`` operator can be used as a shorthand for ``np.add`` on ndarrays.\n",
            "\n",
            ">>> x1 = np.arange(9.0).reshape((3, 3))\n",
            ">>> x2 = np.arange(3.0)\n",
            ">>> x1 + x2\n",
            "array([[ 0.,  2.,  4.],\n",
            "       [ 3.,  5.,  7.],\n",
            "       [ 6.,  8., 10.]])\n"
          ]
        }
      ],
      "source": [
        "np.info(np.add)"
      ]
    },
    {
      "cell_type": "markdown",
      "metadata": {
        "id": "LqxvYQcF8aKt"
      },
      "source": [
        "#### 6.  Create a null vector of size 10 but the fifth value which is 1 (★☆☆) \n",
        "(**hint**: array\\[4\\])"
      ]
    },
    {
      "cell_type": "code",
      "execution_count": null,
      "metadata": {
        "colab": {
          "base_uri": "https://localhost:8080/"
        },
        "id": "SjI8wMDg8aKt",
        "outputId": "5b8fd3f2-d98a-4b00-b99c-242e8507e16e"
      },
      "outputs": [
        {
          "output_type": "execute_result",
          "data": {
            "text/plain": [
              "array([0., 0., 0., 0., 1., 0., 0., 0., 0., 0.])"
            ]
          },
          "metadata": {},
          "execution_count": 22
        }
      ],
      "source": [
        "z=np.zeros(10)\n",
        "z[4]=1\n",
        "z"
      ]
    },
    {
      "cell_type": "markdown",
      "metadata": {
        "id": "ei6jrL8X8aKt"
      },
      "source": [
        "#### 7.  Create a vector with values ranging from 10 to 49 (★☆☆) \n",
        "(**hint**: np.arange)"
      ]
    },
    {
      "cell_type": "code",
      "execution_count": null,
      "metadata": {
        "colab": {
          "base_uri": "https://localhost:8080/"
        },
        "id": "ccrimZNc8aKu",
        "outputId": "fda42d74-4639-4010-dd70-b0770dd7ff52"
      },
      "outputs": [
        {
          "output_type": "execute_result",
          "data": {
            "text/plain": [
              "array([10, 11, 12, 13, 14, 15, 16, 17, 18, 19, 20, 21, 22, 23, 24, 25, 26,\n",
              "       27, 28, 29, 30, 31, 32, 33, 34, 35, 36, 37, 38, 39, 40, 41, 42, 43,\n",
              "       44, 45, 46, 47, 48, 49])"
            ]
          },
          "metadata": {},
          "execution_count": 23
        }
      ],
      "source": [
        "z=np.arange(10,50)\n",
        "z"
      ]
    },
    {
      "cell_type": "markdown",
      "metadata": {
        "id": "i8ls8hRR8aKu"
      },
      "source": [
        "#### 8.  Reverse a vector (first element becomes last) (★☆☆) \n",
        "(**hint**: array\\[::-1\\])"
      ]
    },
    {
      "cell_type": "code",
      "execution_count": null,
      "metadata": {
        "colab": {
          "base_uri": "https://localhost:8080/"
        },
        "id": "J4j3hRh98aKu",
        "outputId": "49075936-8e6e-4045-a781-c53a3434343e"
      },
      "outputs": [
        {
          "output_type": "execute_result",
          "data": {
            "text/plain": [
              "array([49, 48, 47, 46, 45, 44, 43, 42, 41, 40, 39, 38, 37, 36, 35, 34, 33,\n",
              "       32, 31, 30, 29, 28, 27, 26, 25, 24, 23, 22, 21, 20, 19, 18, 17, 16,\n",
              "       15, 14, 13, 12, 11, 10,  9,  8,  7,  6,  5,  4,  3,  2,  1,  0])"
            ]
          },
          "metadata": {},
          "execution_count": 29
        }
      ],
      "source": [
        "z=np.arange(50)\n",
        "z[::-1]\n"
      ]
    },
    {
      "cell_type": "markdown",
      "metadata": {
        "id": "xAnxs4Pg8aKu"
      },
      "source": [
        "#### 9.  Create a 3x3 matrix with values ranging from 0 to 8 (★☆☆) \n",
        "(**hint**: reshape)"
      ]
    },
    {
      "cell_type": "code",
      "execution_count": null,
      "metadata": {
        "colab": {
          "base_uri": "https://localhost:8080/"
        },
        "id": "kL8MZTWo8aKv",
        "outputId": "f4db0395-ea06-47ff-aff4-dd700066d5ce"
      },
      "outputs": [
        {
          "output_type": "execute_result",
          "data": {
            "text/plain": [
              "array([[0, 1, 2],\n",
              "       [3, 4, 5],\n",
              "       [6, 7, 8]])"
            ]
          },
          "metadata": {},
          "execution_count": 36
        }
      ],
      "source": [
        "z=np.arange(9).reshape(3,3)\n",
        "z"
      ]
    },
    {
      "cell_type": "markdown",
      "metadata": {
        "id": "OvzcSkwX8aKv"
      },
      "source": [
        "#### 10. Find indices of non-zero elements from \\[1,2,0,0,4,0\\] (★☆☆) \n",
        "(**hint**: np.nonzero)"
      ]
    },
    {
      "cell_type": "code",
      "execution_count": null,
      "metadata": {
        "colab": {
          "base_uri": "https://localhost:8080/"
        },
        "id": "ChJO3ILy8aKv",
        "outputId": "379790a5-63df-43d3-895a-6d4e7e5bb166"
      },
      "outputs": [
        {
          "output_type": "execute_result",
          "data": {
            "text/plain": [
              "(array([0, 1, 4]),)"
            ]
          },
          "metadata": {},
          "execution_count": 38
        }
      ],
      "source": [
        "z=np.nonzero([1,2,0,0,4,0])\n",
        "z"
      ]
    },
    {
      "cell_type": "markdown",
      "metadata": {
        "id": "wqDggnKI8aKv"
      },
      "source": [
        "#### 11. Create a 3x3 identity matrix (★☆☆) \n",
        "(**hint**: np.eye)"
      ]
    },
    {
      "cell_type": "code",
      "execution_count": null,
      "metadata": {
        "colab": {
          "base_uri": "https://localhost:8080/"
        },
        "id": "eVmY8ELm8aKw",
        "outputId": "84a2f9a5-0b93-4a24-ca7c-3feebb2d84ff"
      },
      "outputs": [
        {
          "output_type": "execute_result",
          "data": {
            "text/plain": [
              "array([[1., 0., 0.],\n",
              "       [0., 1., 0.],\n",
              "       [0., 0., 1.]])"
            ]
          },
          "metadata": {},
          "execution_count": 39
        }
      ],
      "source": [
        "z=np.eye(3,3)\n",
        "z"
      ]
    },
    {
      "cell_type": "markdown",
      "metadata": {
        "id": "1Lmu40Mu8aKw"
      },
      "source": [
        "#### 12. Create a 3x3x3 array with random values (★☆☆) \n",
        "(**hint**: np.random.random)"
      ]
    },
    {
      "cell_type": "code",
      "execution_count": null,
      "metadata": {
        "collapsed": true,
        "colab": {
          "base_uri": "https://localhost:8080/"
        },
        "id": "lzwTHZmF8aKw",
        "outputId": "d4dd3ade-20a6-41fe-fd85-dade42d436dd"
      },
      "outputs": [
        {
          "output_type": "execute_result",
          "data": {
            "text/plain": [
              "array([[[0.17114501, 0.83186492, 0.4712461 ],\n",
              "        [0.60066974, 0.53787702, 0.8530471 ],\n",
              "        [0.26458051, 0.87405901, 0.45411302]],\n",
              "\n",
              "       [[0.92710694, 0.5207889 , 0.90781095],\n",
              "        [0.18486411, 0.25616548, 0.71749258],\n",
              "        [0.08371285, 0.59578505, 0.71322762]],\n",
              "\n",
              "       [[0.85162705, 0.21103353, 0.98599558],\n",
              "        [0.7562385 , 0.12393593, 0.52664359],\n",
              "        [0.66710235, 0.78792963, 0.47845826]]])"
            ]
          },
          "metadata": {},
          "execution_count": 46
        }
      ],
      "source": [
        "z=np.random.random([3,3,3])\n",
        "z"
      ]
    },
    {
      "cell_type": "markdown",
      "metadata": {
        "id": "fyWKJl038aKw"
      },
      "source": [
        "#### 13. Create a 10x10 array with random values and find the minimum and maximum values (★☆☆) \n",
        "(**hint**: min, max)"
      ]
    },
    {
      "cell_type": "code",
      "execution_count": null,
      "metadata": {
        "colab": {
          "base_uri": "https://localhost:8080/"
        },
        "id": "88dtGG7O8aKw",
        "outputId": "1ffc25d1-4d43-443e-cdba-6d56217217b3"
      },
      "outputs": [
        {
          "output_type": "stream",
          "name": "stdout",
          "text": [
            "0.006401744668632858 0.9615213268712374\n"
          ]
        }
      ],
      "source": [
        "z=np.random.random((10,10))\n",
        "print(z.min(),z.max())"
      ]
    },
    {
      "cell_type": "markdown",
      "metadata": {
        "id": "9hU-_ht_8aKw"
      },
      "source": [
        "#### 14. Create a random vector of size 30 and find the mean value (★☆☆) \n",
        "(**hint**: mean)"
      ]
    },
    {
      "cell_type": "code",
      "execution_count": null,
      "metadata": {
        "colab": {
          "base_uri": "https://localhost:8080/"
        },
        "id": "7dIq28Zq8aKw",
        "outputId": "fc099965-82fe-44d2-9ada-89556abf7ae3"
      },
      "outputs": [
        {
          "output_type": "stream",
          "name": "stdout",
          "text": [
            "0.432129366133269\n"
          ]
        }
      ],
      "source": [
        "z=np.random.random(30)\n",
        "print(z.mean())"
      ]
    },
    {
      "cell_type": "markdown",
      "metadata": {
        "id": "AFNXlfV58aKw"
      },
      "source": [
        "#### 15. Create a 2d array with 1 on the border and 0 inside (★☆☆) \n",
        "(**hint**: array\\[1:-1, 1:-1\\])"
      ]
    },
    {
      "cell_type": "code",
      "execution_count": null,
      "metadata": {
        "colab": {
          "base_uri": "https://localhost:8080/"
        },
        "id": "zsGVmwB-8aKw",
        "outputId": "4884e6c6-bed3-4c73-e7a0-130ee52656a3"
      },
      "outputs": [
        {
          "output_type": "execute_result",
          "data": {
            "text/plain": [
              "array([[1., 1., 1., 1., 1., 1., 1., 1., 1., 1.],\n",
              "       [1., 0., 0., 0., 0., 0., 0., 0., 0., 1.],\n",
              "       [1., 0., 0., 0., 0., 0., 0., 0., 0., 1.],\n",
              "       [1., 0., 0., 0., 0., 0., 0., 0., 0., 1.],\n",
              "       [1., 0., 0., 0., 0., 0., 0., 0., 0., 1.],\n",
              "       [1., 0., 0., 0., 0., 0., 0., 0., 0., 1.],\n",
              "       [1., 0., 0., 0., 0., 0., 0., 0., 0., 1.],\n",
              "       [1., 0., 0., 0., 0., 0., 0., 0., 0., 1.],\n",
              "       [1., 0., 0., 0., 0., 0., 0., 0., 0., 1.],\n",
              "       [1., 1., 1., 1., 1., 1., 1., 1., 1., 1.]])"
            ]
          },
          "metadata": {},
          "execution_count": 60
        }
      ],
      "source": [
        "z=np.ones((10,10))\n",
        "z[1:-1,1:-1]=0\n",
        "z"
      ]
    },
    {
      "cell_type": "markdown",
      "metadata": {
        "id": "6FYYGyIy8aKx"
      },
      "source": [
        "#### 16. How to add a border (filled with 0's) around an existing array? (★☆☆) \n",
        "(**hint**: np.pad)"
      ]
    },
    {
      "cell_type": "code",
      "execution_count": null,
      "metadata": {
        "colab": {
          "base_uri": "https://localhost:8080/"
        },
        "id": "Rexq5WzW8aKx",
        "outputId": "6d3c5946-e62e-4920-9510-dd4d6a080764"
      },
      "outputs": [
        {
          "output_type": "execute_result",
          "data": {
            "text/plain": [
              "array([[0., 0., 0., 0., 0., 0., 0., 0., 0., 0., 0., 0.],\n",
              "       [0., 1., 1., 1., 1., 1., 1., 1., 1., 1., 1., 0.],\n",
              "       [0., 1., 1., 1., 1., 1., 1., 1., 1., 1., 1., 0.],\n",
              "       [0., 1., 1., 1., 1., 1., 1., 1., 1., 1., 1., 0.],\n",
              "       [0., 1., 1., 1., 1., 1., 1., 1., 1., 1., 1., 0.],\n",
              "       [0., 1., 1., 1., 1., 1., 1., 1., 1., 1., 1., 0.],\n",
              "       [0., 1., 1., 1., 1., 1., 1., 1., 1., 1., 1., 0.],\n",
              "       [0., 1., 1., 1., 1., 1., 1., 1., 1., 1., 1., 0.],\n",
              "       [0., 1., 1., 1., 1., 1., 1., 1., 1., 1., 1., 0.],\n",
              "       [0., 1., 1., 1., 1., 1., 1., 1., 1., 1., 1., 0.],\n",
              "       [0., 1., 1., 1., 1., 1., 1., 1., 1., 1., 1., 0.],\n",
              "       [0., 0., 0., 0., 0., 0., 0., 0., 0., 0., 0., 0.]])"
            ]
          },
          "metadata": {},
          "execution_count": 86
        }
      ],
      "source": [
        "z=np.ones((10,10))\n",
        "z=np.pad(z,pad_width=1,mode='constant',constant_values=0)\n",
        "z"
      ]
    },
    {
      "cell_type": "markdown",
      "metadata": {
        "id": "WYFwFBDL8aKx"
      },
      "source": [
        "#### 17. What is the result of the following expression? (★☆☆) \n",
        "(**hint**: NaN = not a number, inf = infinity)"
      ]
    },
    {
      "cell_type": "markdown",
      "metadata": {
        "id": "BGVqMlH-8aKx"
      },
      "source": [
        "```python\n",
        "0 * np.nan\n",
        "np.nan == np.nan\n",
        "np.inf > np.nan\n",
        "np.nan - np.nan\n",
        "0.3 == 3 * 0.1\n",
        "```"
      ]
    },
    {
      "cell_type": "code",
      "execution_count": null,
      "metadata": {
        "colab": {
          "base_uri": "https://localhost:8080/"
        },
        "id": "dBhx1Sf88aKx",
        "outputId": "933cc722-3d38-4ae7-cb26-83fcab48e71f"
      },
      "outputs": [
        {
          "output_type": "stream",
          "name": "stdout",
          "text": [
            "nan\n",
            "False\n",
            "False\n",
            "nan\n",
            "False\n"
          ]
        }
      ],
      "source": [
        "print(0 * np.nan)\n",
        "print(np.nan == np.nan)\n",
        "print(np.inf > np.nan)\n",
        "print(np.nan - np.nan)\n",
        "print(0.3 == 3 * 0.1)"
      ]
    },
    {
      "cell_type": "markdown",
      "metadata": {
        "id": "78fpMb0a8aKx"
      },
      "source": [
        "#### 18. Create a 5x5 matrix with values 1,2,3,4 just below the diagonal (★☆☆) \n",
        "(**hint**: np.diag)"
      ]
    },
    {
      "cell_type": "code",
      "execution_count": null,
      "metadata": {
        "colab": {
          "base_uri": "https://localhost:8080/"
        },
        "id": "OdTYSXYF8aKx",
        "outputId": "8bf6dfc9-a1f2-4a87-f893-58cbaeb5b197"
      },
      "outputs": [
        {
          "output_type": "execute_result",
          "data": {
            "text/plain": [
              "array([[0, 0, 0, 0, 0],\n",
              "       [1, 0, 0, 0, 0],\n",
              "       [0, 2, 0, 0, 0],\n",
              "       [0, 0, 3, 0, 0],\n",
              "       [0, 0, 0, 4, 0]])"
            ]
          },
          "metadata": {},
          "execution_count": 108
        }
      ],
      "source": [
        "z=np.diag(1+np.arange(4),k=-1)\n",
        "z"
      ]
    },
    {
      "cell_type": "markdown",
      "metadata": {
        "id": "b2hAVjMi8aKx"
      },
      "source": [
        "#### 19. Create a 8x8 matrix and fill it with a checkerboard pattern (★☆☆) \n",
        "(**hint**: array\\[::2\\])"
      ]
    },
    {
      "cell_type": "code",
      "execution_count": null,
      "metadata": {
        "colab": {
          "base_uri": "https://localhost:8080/"
        },
        "id": "f_D84Ir78aKy",
        "outputId": "813529ad-3b8b-45ab-ae05-9e1042b43681"
      },
      "outputs": [
        {
          "output_type": "execute_result",
          "data": {
            "text/plain": [
              "array([[0., 1., 0., 1., 0., 1., 0., 1.],\n",
              "       [1., 0., 1., 0., 1., 0., 1., 0.],\n",
              "       [0., 1., 0., 1., 0., 1., 0., 1.],\n",
              "       [1., 0., 1., 0., 1., 0., 1., 0.],\n",
              "       [0., 1., 0., 1., 0., 1., 0., 1.],\n",
              "       [1., 0., 1., 0., 1., 0., 1., 0.],\n",
              "       [0., 1., 0., 1., 0., 1., 0., 1.],\n",
              "       [1., 0., 1., 0., 1., 0., 1., 0.]])"
            ]
          },
          "metadata": {},
          "execution_count": 127
        }
      ],
      "source": [
        "z=np.zeros((8,8))\n",
        "z[1::2,::2]=1\n",
        "z[::2,1::2]=1\n",
        "z"
      ]
    },
    {
      "cell_type": "markdown",
      "metadata": {
        "id": "NErleQ1b8aKy"
      },
      "source": [
        "#### 20. Consider a (6,7,8) shape array, what is the index (x,y,z) of the 100th element? \n",
        "(**hint**: np.unravel_index)"
      ]
    },
    {
      "cell_type": "code",
      "execution_count": null,
      "metadata": {
        "colab": {
          "base_uri": "https://localhost:8080/"
        },
        "id": "-xZDk9bQ8aKy",
        "outputId": "21165d67-b8a2-471c-f98c-9ba91b2f32e3"
      },
      "outputs": [
        {
          "output_type": "stream",
          "name": "stdout",
          "text": [
            "(1, 5, 4)\n"
          ]
        }
      ],
      "source": [
        "print(np.unravel_index(100,(6,7,8)))"
      ]
    },
    {
      "cell_type": "markdown",
      "metadata": {
        "id": "nxzqOm9N8aKy"
      },
      "source": [
        "#### 21. Create a checkerboard 8x8 matrix using the tile function (★☆☆) \n",
        "(**hint**: np.tile)"
      ]
    },
    {
      "cell_type": "code",
      "execution_count": null,
      "metadata": {
        "colab": {
          "base_uri": "https://localhost:8080/"
        },
        "id": "xJ3ydxMt8aKy",
        "outputId": "a4179c14-f352-4bfd-e4a0-83208fc35a57"
      },
      "outputs": [
        {
          "output_type": "execute_result",
          "data": {
            "text/plain": [
              "array([[0, 1, 0, 1, 0, 1, 0, 1],\n",
              "       [1, 0, 1, 0, 1, 0, 1, 0],\n",
              "       [0, 1, 0, 1, 0, 1, 0, 1],\n",
              "       [1, 0, 1, 0, 1, 0, 1, 0],\n",
              "       [0, 1, 0, 1, 0, 1, 0, 1],\n",
              "       [1, 0, 1, 0, 1, 0, 1, 0],\n",
              "       [0, 1, 0, 1, 0, 1, 0, 1],\n",
              "       [1, 0, 1, 0, 1, 0, 1, 0]])"
            ]
          },
          "metadata": {},
          "execution_count": 139
        }
      ],
      "source": [
        "\n",
        "z=np.tile(np.array([[0,1],[1,0]]),(4,4))\n",
        "z"
      ]
    },
    {
      "cell_type": "markdown",
      "metadata": {
        "id": "fhOkhfsD8aKy"
      },
      "source": [
        "#### 22. Normalize a 5x5 random matrix (★☆☆) \n",
        "(**hint**: (x - min) / (max - min))"
      ]
    },
    {
      "cell_type": "code",
      "execution_count": null,
      "metadata": {
        "colab": {
          "base_uri": "https://localhost:8080/"
        },
        "id": "3N3O-b6J8aKy",
        "outputId": "018ce81a-5303-424f-d87a-78a2409a547a"
      },
      "outputs": [
        {
          "output_type": "execute_result",
          "data": {
            "text/plain": [
              "array([[0.135163  , 0.3859746 , 0.89641289, 0.37225747, 0.40777702],\n",
              "       [0.        , 0.0494776 , 0.32985975, 0.33969762, 0.45584153],\n",
              "       [0.4888019 , 1.        , 0.50180721, 0.77332936, 0.477794  ],\n",
              "       [0.81993471, 0.76901617, 0.35875799, 0.957791  , 0.53409319],\n",
              "       [0.67957497, 0.61634263, 0.23000558, 0.19063613, 0.95062259]])"
            ]
          },
          "metadata": {},
          "execution_count": 144
        }
      ],
      "source": [
        "z=np.random.random((5,5))\n",
        "zmin=z.min()\n",
        "zmax=z.max()\n",
        "z=((z-zmin)/(zmax-zmin))\n",
        "z"
      ]
    },
    {
      "cell_type": "markdown",
      "metadata": {
        "id": "lkF36Hxc8aKy"
      },
      "source": [
        "#### 23. Create a custom dtype that describes a color as four unsigned bytes (RGBA) (★☆☆) \n",
        "(**hint**: np.dtype)"
      ]
    },
    {
      "cell_type": "code",
      "execution_count": null,
      "metadata": {
        "collapsed": true,
        "colab": {
          "base_uri": "https://localhost:8080/"
        },
        "id": "Dw1EslHP8aKy",
        "outputId": "82f77c98-bc54-4231-9dd4-66630d37d34f"
      },
      "outputs": [
        {
          "output_type": "stream",
          "name": "stderr",
          "text": [
            "/usr/local/lib/python3.7/dist-packages/ipykernel_launcher.py:1: FutureWarning: Passing (type, 1) or '1type' as a synonym of type is deprecated; in a future version of numpy, it will be understood as (type, (1,)) / '(1,)type'.\n",
            "  \"\"\"Entry point for launching an IPython kernel.\n"
          ]
        },
        {
          "output_type": "execute_result",
          "data": {
            "text/plain": [
              "dtype([('r', 'u1'), ('g', 'u1'), ('b', 'u1'), ('a', 'u1')])"
            ]
          },
          "metadata": {},
          "execution_count": 154
        }
      ],
      "source": [
        "z=np.dtype([(\"r\",np.ubyte,1),(\"g\",np.ubyte,1),(\"b\",np.ubyte,1),(\"a\",np.ubyte,1)])\n",
        "z\n"
      ]
    },
    {
      "cell_type": "markdown",
      "metadata": {
        "id": "SDD6nS4s8aKz"
      },
      "source": [
        "#### 24. Multiply a 5x3 matrix by a 3x2 matrix (real matrix product) (★☆☆) \n",
        "(**hint**: np.dot | @)"
      ]
    },
    {
      "cell_type": "code",
      "execution_count": null,
      "metadata": {
        "colab": {
          "base_uri": "https://localhost:8080/"
        },
        "id": "TMyPaW5M8aKz",
        "outputId": "13fefa6f-479d-4dc6-a5e5-dd07ef0fe152"
      },
      "outputs": [
        {
          "output_type": "execute_result",
          "data": {
            "text/plain": [
              "array([[3., 3.],\n",
              "       [3., 3.],\n",
              "       [3., 3.],\n",
              "       [3., 3.],\n",
              "       [3., 3.]])"
            ]
          },
          "metadata": {},
          "execution_count": 161
        }
      ],
      "source": [
        "#z=np.dot(np.ones((5,3)),np.ones((3,2)))\n",
        "z=np.ones((5,3))@np.ones((3,2))\n",
        "z"
      ]
    },
    {
      "cell_type": "markdown",
      "metadata": {
        "id": "wx146XAd8aKz"
      },
      "source": [
        "#### 25. Given a 1D array, negate all elements which are between 3 and 8, in place. (★☆☆) \n",
        "(**hint**: >, <=)"
      ]
    },
    {
      "cell_type": "code",
      "execution_count": null,
      "metadata": {
        "colab": {
          "base_uri": "https://localhost:8080/"
        },
        "id": "dagXpZrC8aKz",
        "outputId": "bb19a479-5e7b-4304-9f3a-d0fd9058df1a"
      },
      "outputs": [
        {
          "output_type": "execute_result",
          "data": {
            "text/plain": [
              "array([ 0,  1,  2,  3, -4, -5, -6, -7, -8,  9, 10, 11, 12, 13, 14, 15, 16,\n",
              "       17, 18, 19])"
            ]
          },
          "metadata": {},
          "execution_count": 168
        }
      ],
      "source": [
        "z=np.arange(20)\n",
        "z[(z>3)&(z<=8)]*=-1\n",
        "z"
      ]
    },
    {
      "cell_type": "markdown",
      "metadata": {
        "id": "Gypx7wBO8aKz"
      },
      "source": [
        "#### 26. What is the output of the following script? (★☆☆) \n",
        "(**hint**: np.sum)"
      ]
    },
    {
      "cell_type": "markdown",
      "metadata": {
        "id": "97sqNyWS8aKz"
      },
      "source": [
        "```python\n",
        "# Author: Jake VanderPlas\n",
        "\n",
        "print(sum(range(5),-1))\n",
        "from numpy import *\n",
        "print(sum(range(5),-1))\n",
        "```"
      ]
    },
    {
      "cell_type": "code",
      "execution_count": null,
      "metadata": {
        "colab": {
          "base_uri": "https://localhost:8080/"
        },
        "id": "HMGo3dkt8aKz",
        "outputId": "2346006b-4ec8-4134-e0e0-aabf956871c8"
      },
      "outputs": [
        {
          "output_type": "stream",
          "name": "stdout",
          "text": [
            "9\n",
            "10\n"
          ]
        }
      ],
      "source": [
        "print(sum(range(5),-1))\n",
        "from numpy import *\n",
        "print(sum(range(5),-1))"
      ]
    },
    {
      "cell_type": "markdown",
      "metadata": {
        "id": "JOCRqwxi8aKz"
      },
      "source": [
        "#### 27. Consider an integer vector Z, which of these expressions are legal? (★☆☆)"
      ]
    },
    {
      "cell_type": "markdown",
      "metadata": {
        "id": "IYCf_OBg8aKz"
      },
      "source": [
        "```python\n",
        "Z**Z\n",
        "2 << Z >> 2\n",
        "Z <- Z\n",
        "1j*Z\n",
        "Z/1/1\n",
        "Z<Z>Z\n",
        "```"
      ]
    },
    {
      "cell_type": "code",
      "execution_count": null,
      "metadata": {
        "colab": {
          "base_uri": "https://localhost:8080/"
        },
        "id": "5l03ZkNy8aKz",
        "outputId": "2825b721-b579-45fe-ea03-b498e2d4ba9a"
      },
      "outputs": [
        {
          "output_type": "execute_result",
          "data": {
            "text/plain": [
              "array([0., 1., 2., 3., 4., 5., 6., 7., 8., 9.])"
            ]
          },
          "metadata": {},
          "execution_count": 174
        }
      ],
      "source": [
        "\n",
        "Z**Z\n",
        "2 << Z >> 2\n",
        "Z <- Z\n",
        "1j*Z\n",
        "Z/1/1\n"
      ]
    },
    {
      "cell_type": "markdown",
      "metadata": {
        "id": "1wq-SIRv8aKz"
      },
      "source": [
        "#### 28. What are the result of the following expressions?"
      ]
    },
    {
      "cell_type": "markdown",
      "metadata": {
        "id": "RYXs3j1m8aK0"
      },
      "source": [
        "```python\n",
        "np.array(0) / np.array(0)\n",
        "np.array(0) // np.array(0)\n",
        "np.array([np.nan]).astype(int).astype(float)\n",
        "```"
      ]
    },
    {
      "cell_type": "code",
      "execution_count": null,
      "metadata": {
        "colab": {
          "base_uri": "https://localhost:8080/"
        },
        "id": "sC1Sbg1e8aK0",
        "outputId": "c23c8e77-5849-451c-ab7c-e29cab70a412"
      },
      "outputs": [
        {
          "output_type": "stream",
          "name": "stdout",
          "text": [
            "nan\n",
            "0\n",
            "[-9.22337204e+18]\n"
          ]
        },
        {
          "output_type": "stream",
          "name": "stderr",
          "text": [
            "/usr/local/lib/python3.7/dist-packages/ipykernel_launcher.py:1: RuntimeWarning: invalid value encountered in true_divide\n",
            "  \"\"\"Entry point for launching an IPython kernel.\n",
            "/usr/local/lib/python3.7/dist-packages/ipykernel_launcher.py:2: RuntimeWarning: divide by zero encountered in floor_divide\n",
            "  \n"
          ]
        }
      ],
      "source": [
        "print(np.array(0) / np.array(0))\n",
        "print(np.array(0) // np.array(0))\n",
        "print(np.array([np.nan]).astype(int).astype(float))"
      ]
    },
    {
      "cell_type": "markdown",
      "metadata": {
        "id": "P2vb7Y7x8aK0"
      },
      "source": [
        "#### 29. How to round away from zero a float array ? (★☆☆) \n",
        "(**hint**: np.uniform, np.copysign, np.ceil, np.abs)"
      ]
    },
    {
      "cell_type": "code",
      "execution_count": null,
      "metadata": {
        "colab": {
          "base_uri": "https://localhost:8080/"
        },
        "id": "xe82JIfk8aK0",
        "outputId": "c879018d-96be-4951-800c-d70e2964f007"
      },
      "outputs": [
        {
          "output_type": "stream",
          "name": "stdout",
          "text": [
            "[ -5.  -9.   6.   9.  -9.   8.   2.  -7. -10.  -6.]\n"
          ]
        }
      ],
      "source": [
        "z = np.random.uniform(-10,+10,10)\n",
        "\n",
        "print (np.copysign(np.ceil(np.abs(z)),z))"
      ]
    },
    {
      "cell_type": "markdown",
      "metadata": {
        "id": "THQakvQO8aK0"
      },
      "source": [
        "#### 30. How to find common values between two arrays? (★☆☆) \n",
        "(**hint**: np.intersect1d)"
      ]
    },
    {
      "cell_type": "code",
      "execution_count": null,
      "metadata": {
        "colab": {
          "base_uri": "https://localhost:8080/"
        },
        "id": "JuQ5tfeh8aK0",
        "outputId": "e443230e-a576-4522-aa0e-723753de7075"
      },
      "outputs": [
        {
          "output_type": "execute_result",
          "data": {
            "text/plain": [
              "array([0, 1, 2])"
            ]
          },
          "metadata": {},
          "execution_count": 12
        }
      ],
      "source": [
        "#z=np.random.random((0,10,10))\n",
        "#x=np.random.random((0,10,10))\n",
        "z=np.arange(10)\n",
        "x=np.arange(3)\n",
        "y=np.intersect1d(z,x)\n",
        "y"
      ]
    },
    {
      "cell_type": "markdown",
      "metadata": {
        "id": "vU0dipoA8aK0"
      },
      "source": [
        "#### 31. How to ignore all numpy warnings (not recommended)? (★☆☆) \n",
        "(**hint**: np.seterr, np.errstate)"
      ]
    },
    {
      "cell_type": "code",
      "execution_count": null,
      "metadata": {
        "colab": {
          "base_uri": "https://localhost:8080/"
        },
        "id": "ReBomVeF8aK0",
        "outputId": "67f6d4b4-2335-49d1-fe8c-aa11769e3702"
      },
      "outputs": [
        {
          "output_type": "execute_result",
          "data": {
            "text/plain": [
              "array([inf])"
            ]
          },
          "metadata": {},
          "execution_count": 7
        }
      ],
      "source": [
        "z=np.seterr(all=\"ignore\")\n",
        "x=np.ones(1)/0\n",
        "x\n",
        "y=np.errstate(divide=\"ignore\")\n",
        "x"
      ]
    },
    {
      "cell_type": "markdown",
      "metadata": {
        "id": "33lvZ5L48aK0"
      },
      "source": [
        "#### 32. Is the following expressions true? (★☆☆) \n",
        "(**hint**: imaginary number)"
      ]
    },
    {
      "cell_type": "markdown",
      "metadata": {
        "id": "ZI27xrRD8aK0"
      },
      "source": [
        "```python\n",
        "np.sqrt(-1) == np.emath.sqrt(-1)\n",
        "```"
      ]
    },
    {
      "cell_type": "code",
      "execution_count": null,
      "metadata": {
        "colab": {
          "base_uri": "https://localhost:8080/"
        },
        "id": "Pq95D4ZX8aK0",
        "outputId": "a3ace67e-5228-4755-c18f-7b97d6895f77"
      },
      "outputs": [
        {
          "output_type": "stream",
          "name": "stderr",
          "text": [
            "/usr/local/lib/python3.7/dist-packages/ipykernel_launcher.py:1: RuntimeWarning: invalid value encountered in sqrt\n",
            "  \"\"\"Entry point for launching an IPython kernel.\n"
          ]
        },
        {
          "output_type": "execute_result",
          "data": {
            "text/plain": [
              "False"
            ]
          },
          "metadata": {},
          "execution_count": 13
        }
      ],
      "source": [
        "np.sqrt(-1) == np.emath.sqrt(-1)"
      ]
    },
    {
      "cell_type": "markdown",
      "metadata": {
        "id": "Co1HZdP38aK0"
      },
      "source": [
        "#### 33. How to get the dates of yesterday, today and tomorrow? (★☆☆) \n",
        "(**hint**: np.datetime64, np.timedelta64)"
      ]
    },
    {
      "cell_type": "code",
      "execution_count": null,
      "metadata": {
        "collapsed": true,
        "colab": {
          "base_uri": "https://localhost:8080/"
        },
        "id": "AMxW3Dnp8aK1",
        "outputId": "cf61edd8-ae22-4820-d898-ea80e05a2f00"
      },
      "outputs": [
        {
          "output_type": "stream",
          "name": "stdout",
          "text": [
            "2022-05-18\n",
            "2022-05-19\n",
            "2022-05-20\n"
          ]
        }
      ],
      "source": [
        "y=np.datetime64('today','D')-np.timedelta64(1,'D')\n",
        "t=np.datetime64('today','D')\n",
        "to=np.datetime64('today','D')+np.timedelta64(1,'D')\n",
        "print(y)\n",
        "print(t)\n",
        "print(to)"
      ]
    },
    {
      "cell_type": "markdown",
      "metadata": {
        "id": "0y_RGr4f8aK1"
      },
      "source": [
        "#### 34. How to get all the dates corresponding to the month of July 2016? (★★☆) \n",
        "(**hint**: np.arange(dtype=datetime64\\['D'\\]))"
      ]
    },
    {
      "cell_type": "code",
      "execution_count": null,
      "metadata": {
        "colab": {
          "base_uri": "https://localhost:8080/"
        },
        "id": "_dvqtuKt8aK1",
        "outputId": "90e1be26-cfaf-4ac4-c060-59fe36202d9d"
      },
      "outputs": [
        {
          "output_type": "execute_result",
          "data": {
            "text/plain": [
              "array(['2022-07-01', '2022-07-02', '2022-07-03', '2022-07-04',\n",
              "       '2022-07-05', '2022-07-06', '2022-07-07', '2022-07-08',\n",
              "       '2022-07-09', '2022-07-10', '2022-07-11', '2022-07-12',\n",
              "       '2022-07-13', '2022-07-14', '2022-07-15', '2022-07-16',\n",
              "       '2022-07-17', '2022-07-18', '2022-07-19', '2022-07-20',\n",
              "       '2022-07-21', '2022-07-22', '2022-07-23', '2022-07-24',\n",
              "       '2022-07-25', '2022-07-26', '2022-07-27', '2022-07-28',\n",
              "       '2022-07-29', '2022-07-30', '2022-07-31'], dtype='datetime64[D]')"
            ]
          },
          "metadata": {},
          "execution_count": 11
        }
      ],
      "source": [
        "y=np.arange('2022-07','2022-08',dtype='datetime64[D]')\n",
        "y"
      ]
    },
    {
      "cell_type": "markdown",
      "metadata": {
        "id": "8N6kd41R8aK1"
      },
      "source": [
        "#### 35. How to compute ((A+B)\\*(-A/2)) in place (without copy)? (★★☆) \n",
        "(**hint**: np.add(out=), np.negative(out=), np.multiply(out=), np.divide(out=))"
      ]
    },
    {
      "cell_type": "code",
      "execution_count": null,
      "metadata": {
        "colab": {
          "base_uri": "https://localhost:8080/"
        },
        "id": "A_T_yF7D8aK1",
        "outputId": "39d7432d-27af-4165-d973-3dbdfe53fb04"
      },
      "outputs": [
        {
          "output_type": "stream",
          "name": "stdout",
          "text": [
            "[2. 2. 2. 2.]\n"
          ]
        }
      ],
      "source": [
        "a=np.ones(4)*1\n",
        "b=np.ones(4)*2\n",
        "c=np.ones(4)*3\n",
        "z=np.add(a,b,out=b)\n",
        "x=np.negative(a,out=a)\n",
        "c=np.multiply(a,b,out=a)\n",
        "v=np.divide(a,2,out=a)\n",
        "print(z)\n",
        "print(x)\n",
        "print(c)\n",
        "print(v)"
      ]
    },
    {
      "cell_type": "markdown",
      "metadata": {
        "id": "bMUNF5hF8aK1"
      },
      "source": [
        "#### 36. Extract the integer part of a random array using 5 different methods (★★☆) \n",
        "(**hint**: %, np.floor, np.ceil, astype, np.trunc)"
      ]
    },
    {
      "cell_type": "code",
      "execution_count": null,
      "metadata": {
        "id": "5nU1xoPe8aK1",
        "outputId": "dd06a7c9-7cb1-4859-e6e6-bb90684d64e5",
        "colab": {
          "base_uri": "https://localhost:8080/"
        }
      },
      "outputs": [
        {
          "output_type": "stream",
          "name": "stdout",
          "text": [
            "[9. 0. 3. 0. 0. 0. 9. 4. 5. 1. 9. 6. 6. 7. 4. 7. 4. 9. 9. 8.]\n",
            "[9. 0. 3. 0. 0. 0. 9. 4. 5. 1. 9. 6. 6. 7. 4. 7. 4. 9. 9. 8.]\n",
            "[9. 0. 3. 0. 0. 0. 9. 4. 5. 1. 9. 6. 6. 7. 4. 7. 4. 9. 9. 8.]\n",
            "[9 0 3 0 0 0 9 4 5 1 9 6 6 7 4 7 4 9 9 8]\n",
            "[9. 0. 3. 0. 0. 0. 9. 4. 5. 1. 9. 6. 6. 7. 4. 7. 4. 9. 9. 8.]\n"
          ]
        }
      ],
      "source": [
        "z=np.random.uniform(0,10,20)\n",
        "print(z-z%1)\n",
        "print(np.floor(z))\n",
        "print(np.ceil(z)-1)\n",
        "print(z.astype(int))\n",
        "print(np.trunc(z))\n"
      ]
    },
    {
      "cell_type": "markdown",
      "metadata": {
        "id": "iGlmdI_S8aK1"
      },
      "source": [
        "#### 37. Create a 5x5 matrix with row values ranging from 0 to 4 (★★☆) \n",
        "(**hint**: np.arange)"
      ]
    },
    {
      "cell_type": "code",
      "execution_count": null,
      "metadata": {
        "id": "du-Zr0Pu8aK1",
        "outputId": "77075b6b-cdac-450f-a3c7-c61e18ae0a67",
        "colab": {
          "base_uri": "https://localhost:8080/"
        }
      },
      "outputs": [
        {
          "output_type": "execute_result",
          "data": {
            "text/plain": [
              "array([[0., 1., 2., 3., 4.],\n",
              "       [0., 1., 2., 3., 4.],\n",
              "       [0., 1., 2., 3., 4.],\n",
              "       [0., 1., 2., 3., 4.],\n",
              "       [0., 1., 2., 3., 4.]])"
            ]
          },
          "metadata": {},
          "execution_count": 15
        }
      ],
      "source": [
        "z=np.zeros((5,5))\n",
        "z+=np.arange(5)\n",
        "z"
      ]
    },
    {
      "cell_type": "markdown",
      "metadata": {
        "id": "-EiXfkMq8aK1"
      },
      "source": [
        "#### 38. Consider a generator function that generates 10 integers and use it to build an array (★☆☆) \n",
        "(**hint**: np.fromiter)"
      ]
    },
    {
      "cell_type": "code",
      "execution_count": null,
      "metadata": {
        "id": "R6j9n3yf8aK1",
        "outputId": "58fc1d4a-9e0f-4118-9e0a-7cba8b236b90",
        "colab": {
          "base_uri": "https://localhost:8080/"
        }
      },
      "outputs": [
        {
          "output_type": "execute_result",
          "data": {
            "text/plain": [
              "array([0., 1., 2., 3., 4., 5., 6., 7., 8., 9.])"
            ]
          },
          "metadata": {},
          "execution_count": 33
        }
      ],
      "source": [
        "def generator():\n",
        " for i in range(10):\n",
        "   yield i\n",
        "z=np.fromiter(generator(),dtype=float,count=-1)\n",
        "z   "
      ]
    },
    {
      "cell_type": "markdown",
      "metadata": {
        "id": "9Gv99pho8aK1"
      },
      "source": [
        "#### 39. Create a vector of size 10 with values ranging from 0 to 1, both excluded (★★☆) \n",
        "(**hint**: np.linspace)"
      ]
    },
    {
      "cell_type": "code",
      "execution_count": null,
      "metadata": {
        "id": "5IgkxRU78aK2",
        "outputId": "dbbf064f-7ef8-4e74-ee0e-0fda9ed91b41",
        "colab": {
          "base_uri": "https://localhost:8080/"
        }
      },
      "outputs": [
        {
          "output_type": "execute_result",
          "data": {
            "text/plain": [
              "array([0.09090909, 0.18181818, 0.27272727, 0.36363636, 0.45454545,\n",
              "       0.54545455, 0.63636364, 0.72727273, 0.81818182, 0.90909091])"
            ]
          },
          "metadata": {},
          "execution_count": 42
        }
      ],
      "source": [
        "z=np.linspace(0,1,num=12)[1:-1]\n",
        "z"
      ]
    },
    {
      "cell_type": "markdown",
      "metadata": {
        "id": "-gY6DuFk8aK2"
      },
      "source": [
        "#### 40. Create a random vector of size 10 and sort it (★★☆) \n",
        "(**hint**: sort)"
      ]
    },
    {
      "cell_type": "code",
      "execution_count": null,
      "metadata": {
        "id": "owwKvTRO8aK2",
        "outputId": "70d11d9a-4072-4ef4-8bb5-a496e53ba958",
        "colab": {
          "base_uri": "https://localhost:8080/"
        }
      },
      "outputs": [
        {
          "output_type": "execute_result",
          "data": {
            "text/plain": [
              "array([0.01551928, 0.03545876, 0.13374473, 0.20061529, 0.27083774,\n",
              "       0.33980955, 0.46617175, 0.63130128, 0.67487569, 0.67848022])"
            ]
          },
          "metadata": {},
          "execution_count": 47
        }
      ],
      "source": [
        "z=np.random.random(10)\n",
        "z.sort()\n",
        "z"
      ]
    },
    {
      "cell_type": "markdown",
      "metadata": {
        "id": "go0wsqX58aK2"
      },
      "source": [
        "#### 41. How to sum a small array faster than np.sum? (★★☆) \n",
        "(**hint**: np.add.reduce)"
      ]
    },
    {
      "cell_type": "code",
      "execution_count": null,
      "metadata": {
        "id": "IG7AseBQ8aK2",
        "outputId": "dfdc6ac3-3f52-4104-c5be-c1758734ef46",
        "colab": {
          "base_uri": "https://localhost:8080/"
        }
      },
      "outputs": [
        {
          "output_type": "execute_result",
          "data": {
            "text/plain": [
              "45"
            ]
          },
          "metadata": {},
          "execution_count": 48
        }
      ],
      "source": [
        "z=np.arange(10)\n",
        "np.add.reduce(z)"
      ]
    },
    {
      "cell_type": "markdown",
      "metadata": {
        "id": "WMP2pGRC8aK2"
      },
      "source": [
        "#### 42. Consider two random array A and B, check if they are equal (★★☆) \n",
        "(**hint**: np.allclose, np.array\\_equal)"
      ]
    },
    {
      "cell_type": "code",
      "execution_count": null,
      "metadata": {
        "id": "kOZ5NbsM8aK2",
        "outputId": "7f594a0c-dd85-4dbf-93f0-f0f444f8fbee",
        "colab": {
          "base_uri": "https://localhost:8080/"
        }
      },
      "outputs": [
        {
          "output_type": "stream",
          "name": "stdout",
          "text": [
            "True\n",
            "True\n"
          ]
        }
      ],
      "source": [
        "a=np.random.randint(1,5)\n",
        "b=np.random.randint(1,5)\n",
        "z=np.allclose(a,b)\n",
        "print(z)\n",
        "z=np.array_equal(a,b)\n",
        "print(z)"
      ]
    },
    {
      "cell_type": "markdown",
      "metadata": {
        "id": "ZZ8cnw-M8aK2"
      },
      "source": [
        "#### 43. Make an array immutable (read-only) (★★☆) \n",
        "(**hint**: flags.writeable)"
      ]
    },
    {
      "cell_type": "code",
      "execution_count": null,
      "metadata": {
        "id": "BeHT2Kcp8aK2",
        "outputId": "b89dc1e5-9906-4b71-e15a-cb3ab5050de1",
        "colab": {
          "base_uri": "https://localhost:8080/"
        }
      },
      "outputs": [
        {
          "output_type": "execute_result",
          "data": {
            "text/plain": [
              "array([1., 1., 1., 1., 1., 1., 1., 1., 1., 1.])"
            ]
          },
          "metadata": {},
          "execution_count": 62
        }
      ],
      "source": [
        "z=np.ones(10)\n",
        "z.flags.writeable=False\n",
        "#z[1]=5 if we include this statement it will returns error \n",
        "z"
      ]
    },
    {
      "cell_type": "markdown",
      "metadata": {
        "id": "4q9GqCZz8aK2"
      },
      "source": [
        "#### 44. Consider a random 10x2 matrix representing cartesian coordinates, convert them to polar coordinates (★★☆) \n",
        "(**hint**: np.sqrt, np.arctan2)"
      ]
    },
    {
      "cell_type": "code",
      "execution_count": null,
      "metadata": {
        "id": "dvhE8ua28aK2",
        "outputId": "2f2aedac-4eac-4b0c-d648-4c76fc478c2a",
        "colab": {
          "base_uri": "https://localhost:8080/"
        }
      },
      "outputs": [
        {
          "output_type": "stream",
          "name": "stdout",
          "text": [
            "[0.77720224 0.48612414 0.40131749 0.97391013 0.46895062 0.38196014\n",
            " 0.48409971 0.77613016 0.82038577 1.15736571]\n",
            "[0.04506379 0.84811011 0.39488081 1.22312172 0.73421387 0.58892135\n",
            " 0.3935511  0.89253081 1.51459423 0.90310137]\n"
          ]
        }
      ],
      "source": [
        "z=np.random.random((10,20))\n",
        "x,c=z[:,0],z[:,1]\n",
        "a=np.sqrt(x**2+c**2)\n",
        "print(a)\n",
        "b=np.arctan2(x,c)\n",
        "print(b)"
      ]
    },
    {
      "cell_type": "markdown",
      "metadata": {
        "id": "jBFww5_S8aK3"
      },
      "source": [
        "#### 45. Create random vector of size 10 and replace the maximum value by 0 (★★☆) \n",
        "(**hint**: argmax)"
      ]
    },
    {
      "cell_type": "code",
      "execution_count": null,
      "metadata": {
        "id": "Zn4L_xFu8aK3",
        "outputId": "379cd56e-0926-4333-e06c-0273fc8f819f",
        "colab": {
          "base_uri": "https://localhost:8080/"
        }
      },
      "outputs": [
        {
          "output_type": "stream",
          "name": "stdout",
          "text": [
            "[0.43719881 0.09340139 0.         0.02643063 0.69820693 0.16041746\n",
            " 0.83420074 0.09446187 0.52898147 0.22521661]\n"
          ]
        }
      ],
      "source": [
        "z=np.random.random(10)\n",
        "z[z.argmax()]=0\n",
        "print(z)\n"
      ]
    },
    {
      "cell_type": "markdown",
      "metadata": {
        "id": "0bLBf-td8aK3"
      },
      "source": [
        "#### 46. Create a structured array with `x` and `y` coordinates covering the \\[0,1\\]x\\[0,1\\] area (★★☆) \n",
        "(**hint**: np.meshgrid)"
      ]
    },
    {
      "cell_type": "code",
      "execution_count": null,
      "metadata": {
        "id": "hMpit_PE8aK3",
        "outputId": "d9b2d6f1-e68b-4422-e82a-bb38d4f52b18",
        "colab": {
          "base_uri": "https://localhost:8080/"
        }
      },
      "outputs": [
        {
          "output_type": "stream",
          "name": "stdout",
          "text": [
            "[[(0.  , 0.  ) (0.25, 0.  ) (0.5 , 0.  ) (0.75, 0.  ) (1.  , 0.  )]\n",
            " [(0.  , 0.25) (0.25, 0.25) (0.5 , 0.25) (0.75, 0.25) (1.  , 0.25)]\n",
            " [(0.  , 0.5 ) (0.25, 0.5 ) (0.5 , 0.5 ) (0.75, 0.5 ) (1.  , 0.5 )]\n",
            " [(0.  , 0.75) (0.25, 0.75) (0.5 , 0.75) (0.75, 0.75) (1.  , 0.75)]\n",
            " [(0.  , 1.  ) (0.25, 1.  ) (0.5 , 1.  ) (0.75, 1.  ) (1.  , 1.  )]]\n"
          ]
        }
      ],
      "source": [
        "z=np.zeros((5,5),[('x','float'),('y','float')])\n",
        "z['x'],z['y']=np.meshgrid(np.linspace(0,1,num=5),np.linspace(0,1,num=5))\n",
        "print(z)"
      ]
    },
    {
      "cell_type": "markdown",
      "metadata": {
        "id": "uv4BrQjC8aK3"
      },
      "source": [
        "####  47. Given two arrays, X and Y, construct the Cauchy matrix C (Cij =1/(xi - yj)) \n",
        "(**hint**: np.subtract.outer)"
      ]
    },
    {
      "cell_type": "code",
      "execution_count": null,
      "metadata": {
        "id": "1x_iuSlR8aK3",
        "outputId": "257e794b-9c3d-49eb-f72e-ffc9aa1aeb7a",
        "colab": {
          "base_uri": "https://localhost:8080/"
        }
      },
      "outputs": [
        {
          "output_type": "stream",
          "name": "stdout",
          "text": [
            "-85.11762642807601\n"
          ]
        }
      ],
      "source": [
        "z=np.arange(10)\n",
        "x=z+1.5\n",
        "c=1/np.subtract.outer(z,x)\n",
        "print(np.linalg.det(c))"
      ]
    },
    {
      "cell_type": "markdown",
      "metadata": {
        "id": "tcgAfOO38aK3"
      },
      "source": [
        "#### 48. Print the minimum and maximum representable value for each numpy scalar type (★★☆) \n",
        "(**hint**: np.iinfo, np.finfo, eps)"
      ]
    },
    {
      "cell_type": "code",
      "execution_count": null,
      "metadata": {
        "id": "dhyW8o2g8aK3",
        "outputId": "a2fa89f8-7d41-4955-d955-601e3aae35a8",
        "colab": {
          "base_uri": "https://localhost:8080/"
        }
      },
      "outputs": [
        {
          "output_type": "stream",
          "name": "stdout",
          "text": [
            "-32768\n",
            "32767\n",
            "-2147483648\n",
            "2147483647\n",
            "-9223372036854775808\n",
            "9223372036854775807\n",
            "-65500.0\n",
            "65500.0\n",
            "0.000977\n",
            "-3.4028235e+38\n",
            "3.4028235e+38\n",
            "1.1920929e-07\n",
            "-1.7976931348623157e+308\n",
            "1.7976931348623157e+308\n",
            "2.220446049250313e-16\n"
          ]
        }
      ],
      "source": [
        "for dtype in [np.int16,np.int32,np.int64]:\n",
        "  print(np.iinfo(dtype).min)\n",
        "  print(np.iinfo(dtype).max)\n",
        "for dtype in [np.float16,np.float32,np.float64]:\n",
        "  print(np.finfo(dtype).min) \n",
        "  print(np.finfo(dtype).max) \n",
        "  print(np.finfo(dtype).eps)\n"
      ]
    },
    {
      "cell_type": "markdown",
      "metadata": {
        "id": "cZHeIt8f8aK3"
      },
      "source": [
        "#### 49. How to print all the values of an array? (★★☆) \n",
        "(**hint**: np.set\\_printoptions)"
      ]
    },
    {
      "cell_type": "code",
      "execution_count": null,
      "metadata": {
        "id": "GMKaNCEI8aK3",
        "outputId": "4a6cb5cc-7cd8-4370-e45c-26ff83028c39",
        "colab": {
          "base_uri": "https://localhost:8080/"
        }
      },
      "outputs": [
        {
          "output_type": "stream",
          "name": "stdout",
          "text": [
            "[[1. 1. 1. 1. 1. 1. 1. 1. 1. 1. 1. 1. 1. 1. 1. 1.]\n",
            " [1. 1. 1. 1. 1. 1. 1. 1. 1. 1. 1. 1. 1. 1. 1. 1.]\n",
            " [1. 1. 1. 1. 1. 1. 1. 1. 1. 1. 1. 1. 1. 1. 1. 1.]\n",
            " [1. 1. 1. 1. 1. 1. 1. 1. 1. 1. 1. 1. 1. 1. 1. 1.]\n",
            " [1. 1. 1. 1. 1. 1. 1. 1. 1. 1. 1. 1. 1. 1. 1. 1.]\n",
            " [1. 1. 1. 1. 1. 1. 1. 1. 1. 1. 1. 1. 1. 1. 1. 1.]\n",
            " [1. 1. 1. 1. 1. 1. 1. 1. 1. 1. 1. 1. 1. 1. 1. 1.]\n",
            " [1. 1. 1. 1. 1. 1. 1. 1. 1. 1. 1. 1. 1. 1. 1. 1.]\n",
            " [1. 1. 1. 1. 1. 1. 1. 1. 1. 1. 1. 1. 1. 1. 1. 1.]\n",
            " [1. 1. 1. 1. 1. 1. 1. 1. 1. 1. 1. 1. 1. 1. 1. 1.]\n",
            " [1. 1. 1. 1. 1. 1. 1. 1. 1. 1. 1. 1. 1. 1. 1. 1.]\n",
            " [1. 1. 1. 1. 1. 1. 1. 1. 1. 1. 1. 1. 1. 1. 1. 1.]\n",
            " [1. 1. 1. 1. 1. 1. 1. 1. 1. 1. 1. 1. 1. 1. 1. 1.]\n",
            " [1. 1. 1. 1. 1. 1. 1. 1. 1. 1. 1. 1. 1. 1. 1. 1.]\n",
            " [1. 1. 1. 1. 1. 1. 1. 1. 1. 1. 1. 1. 1. 1. 1. 1.]\n",
            " [1. 1. 1. 1. 1. 1. 1. 1. 1. 1. 1. 1. 1. 1. 1. 1.]]\n"
          ]
        }
      ],
      "source": [
        "np.set_printoptions(threshold=np.sys.maxsize)\n",
        "z=np.ones((16,16))\n",
        "print(z)"
      ]
    },
    {
      "cell_type": "markdown",
      "metadata": {
        "id": "9IWIi3q98aK3"
      },
      "source": [
        "#### 50. How to find the closest value (to a given scalar) in a vector? (★★☆) \n",
        "(**hint**: argmin)"
      ]
    },
    {
      "cell_type": "code",
      "execution_count": null,
      "metadata": {
        "id": "Zq3iTFI58aK3",
        "outputId": "38c43451-873a-4639-c887-908f6d20267c",
        "colab": {
          "base_uri": "https://localhost:8080/"
        }
      },
      "outputs": [
        {
          "output_type": "stream",
          "name": "stdout",
          "text": [
            "14\n"
          ]
        }
      ],
      "source": [
        "z=np.arange(100)\n",
        "v=np.random.uniform(0,100)\n",
        "i=(np.abs(z-v)).argmin()\n",
        "print(z[i])"
      ]
    },
    {
      "cell_type": "markdown",
      "metadata": {
        "id": "Zv8K7MRF8aK3"
      },
      "source": [
        "#### 51. Create a structured array representing a position (x,y) and a color (r,g,b) (★★☆) \n",
        "(**hint**: dtype)"
      ]
    },
    {
      "cell_type": "code",
      "execution_count": null,
      "metadata": {
        "id": "97RoLhm48aK4",
        "outputId": "e8fab102-a86a-4d88-ed9f-e1210bd59c77",
        "colab": {
          "base_uri": "https://localhost:8080/"
        }
      },
      "outputs": [
        {
          "output_type": "execute_result",
          "data": {
            "text/plain": [
              "array([((0., 0.), (0., 0., 0.)), ((0., 0.), (0., 0., 0.)),\n",
              "       ((0., 0.), (0., 0., 0.)), ((0., 0.), (0., 0., 0.)),\n",
              "       ((0., 0.), (0., 0., 0.)), ((0., 0.), (0., 0., 0.)),\n",
              "       ((0., 0.), (0., 0., 0.)), ((0., 0.), (0., 0., 0.)),\n",
              "       ((0., 0.), (0., 0., 0.)), ((0., 0.), (0., 0., 0.))],\n",
              "      dtype=[('position', [('x', '<f8'), ('y', '<f8')]), ('color', [('r', '<f8'), ('g', '<f8'), ('b', '<f8')])])"
            ]
          },
          "metadata": {},
          "execution_count": 118
        }
      ],
      "source": [
        "z=np.zeros(10,[('position',[('x',float),('y',float)]),('color',[('r',float),('g',float),('b',float)])])\n",
        "z"
      ]
    },
    {
      "cell_type": "markdown",
      "metadata": {
        "id": "nTt4aC2Z8aK4"
      },
      "source": [
        "#### 52. Consider a random vector with shape (100,2) representing coordinates, find point by point distances (★★☆) \n",
        "(**hint**: np.atleast\\_2d, T, np.sqrt)"
      ]
    },
    {
      "cell_type": "code",
      "execution_count": 3,
      "metadata": {
        "id": "B_5aEzDd8aK4",
        "outputId": "089fe497-50f4-429c-9819-edd9d07965da",
        "colab": {
          "base_uri": "https://localhost:8080/"
        }
      },
      "outputs": [
        {
          "output_type": "stream",
          "name": "stdout",
          "text": [
            "[[0.         0.24633042 0.20918607 ... 0.09213855 0.56792289 0.79578613]\n",
            " [0.24633042 0.         0.33608597 ... 0.33473482 0.44659532 0.60687039]\n",
            " [0.20918607 0.33608597 0.         ... 0.24868887 0.44792343 0.71773993]\n",
            " ...\n",
            " [0.09213855 0.33473482 0.24868887 ... 0.         0.64950316 0.88522642]\n",
            " [0.56792289 0.44659532 0.44792343 ... 0.64950316 0.         0.28839867]\n",
            " [0.79578613 0.60687039 0.71773993 ... 0.88522642 0.28839867 0.        ]]\n"
          ]
        }
      ],
      "source": [
        "z=np.random.random((100,2))\n",
        "x,y=np.atleast_2d(z[:,0],z[:,1])\n",
        "d=np.sqrt((x-x.T)**2+(y-y.T)**2)\n",
        "print(d)"
      ]
    },
    {
      "cell_type": "markdown",
      "metadata": {
        "id": "T1Znl9LV8aK4"
      },
      "source": [
        "#### 53. How to convert a float (32 bits) array into an integer (32 bits) in place? \n",
        "(**hint**: astype(copy=False))"
      ]
    },
    {
      "cell_type": "code",
      "execution_count": 14,
      "metadata": {
        "id": "seY9IhXn8aK4",
        "outputId": "372f11e9-0778-42c1-8164-b463d7bf88bf",
        "colab": {
          "base_uri": "https://localhost:8080/"
        }
      },
      "outputs": [
        {
          "output_type": "execute_result",
          "data": {
            "text/plain": [
              "array([0, 1, 2, 3, 4, 5, 6, 7, 8, 9], dtype=int32)"
            ]
          },
          "metadata": {},
          "execution_count": 14
        }
      ],
      "source": [
        "z=np.arange(10,dtype=np.float32)\n",
        "z=z.astype(np.int32,copy=True)\n",
        "z"
      ]
    },
    {
      "cell_type": "markdown",
      "metadata": {
        "id": "fMGNJq4a8aK5"
      },
      "source": [
        "#### 54. How to read the following file? (★★☆) \n",
        "(**hint**: np.genfromtxt)"
      ]
    },
    {
      "cell_type": "markdown",
      "metadata": {
        "id": "eKzJWf338aK5"
      },
      "source": [
        "```\n",
        "1, 2, 3, 4, 5\n",
        "6,  ,  , 7, 8\n",
        " ,  , 9,10,11\n",
        "```"
      ]
    },
    {
      "cell_type": "code",
      "execution_count": 15,
      "metadata": {
        "id": "nj_A4Dml8aK5",
        "outputId": "54a49f49-5f1d-4b67-fa89-ca012e3b0381",
        "colab": {
          "base_uri": "https://localhost:8080/"
        }
      },
      "outputs": [
        {
          "output_type": "stream",
          "name": "stdout",
          "text": [
            "[[ 1  2  3  4  5]\n",
            " [ 6 -1 -1  7  8]\n",
            " [-1 -1  9 10 11]]\n"
          ]
        },
        {
          "output_type": "stream",
          "name": "stderr",
          "text": [
            "/usr/local/lib/python3.7/dist-packages/ipykernel_launcher.py:5: DeprecationWarning: `np.int` is a deprecated alias for the builtin `int`. To silence this warning, use `int` by itself. Doing this will not modify any behavior and is safe. When replacing `np.int`, you may wish to use e.g. `np.int64` or `np.int32` to specify the precision. If you wish to review your current use, check the release note link for additional information.\n",
            "Deprecated in NumPy 1.20; for more details and guidance: https://numpy.org/devdocs/release/1.20.0-notes.html#deprecations\n",
            "  \"\"\"\n"
          ]
        }
      ],
      "source": [
        "from io import StringIO\n",
        "s=StringIO(\"\"\"1, 2, 3, 4, 5\\n\n",
        "6, , , 7, 8\\n\n",
        ", , 9,10,11\\n\"\"\")\n",
        "z=np.genfromtxt(s,delimiter=\",\",dtype=np.int)\n",
        "print(z)"
      ]
    },
    {
      "cell_type": "markdown",
      "metadata": {
        "id": "VQ_plNjM8aK5"
      },
      "source": [
        "#### 55. What is the equivalent of enumerate for numpy arrays? (★★☆) \n",
        "(**hint**: np.ndenumerate, np.ndindex)"
      ]
    },
    {
      "cell_type": "code",
      "execution_count": 16,
      "metadata": {
        "id": "PQPcEAby8aK5",
        "outputId": "b6c2b952-a470-419d-e106-09274d6bafdf",
        "colab": {
          "base_uri": "https://localhost:8080/"
        }
      },
      "outputs": [
        {
          "output_type": "stream",
          "name": "stdout",
          "text": [
            "(0, 0) 0\n",
            "(0, 1) 1\n",
            "(0, 2) 2\n",
            "(1, 0) 3\n",
            "(1, 1) 4\n",
            "(1, 2) 5\n",
            "(2, 0) 6\n",
            "(2, 1) 7\n",
            "(2, 2) 8\n",
            "(0, 0) 0\n",
            "(0, 1) 1\n",
            "(0, 2) 2\n",
            "(1, 0) 3\n",
            "(1, 1) 4\n",
            "(1, 2) 5\n",
            "(2, 0) 6\n",
            "(2, 1) 7\n",
            "(2, 2) 8\n"
          ]
        }
      ],
      "source": [
        "z=np.arange(9).reshape(3,3)\n",
        "for index,value in np.ndenumerate(z):\n",
        "  print(index,value)\n",
        "for index in np.ndindex(z.shape):\n",
        "  print(index,z[index])"
      ]
    },
    {
      "cell_type": "markdown",
      "metadata": {
        "id": "RKUwFL8h8aK5"
      },
      "source": [
        "#### 56. Generate a generic 2D Gaussian-like array (★★☆) \n",
        "(**hint**: np.meshgrid, np.exp)"
      ]
    },
    {
      "cell_type": "code",
      "execution_count": 18,
      "metadata": {
        "id": "FKfdWWG_8aK5",
        "outputId": "0b5c69d6-6ef8-418d-d262-f49849ad3c21",
        "colab": {
          "base_uri": "https://localhost:8080/"
        }
      },
      "outputs": [
        {
          "output_type": "stream",
          "name": "stdout",
          "text": [
            "[[0.36787944 0.44822088 0.51979489 0.57375342 0.60279818 0.60279818\n",
            "  0.57375342 0.51979489 0.44822088 0.36787944]\n",
            " [0.44822088 0.54610814 0.63331324 0.69905581 0.73444367 0.73444367\n",
            "  0.69905581 0.63331324 0.54610814 0.44822088]\n",
            " [0.51979489 0.63331324 0.73444367 0.81068432 0.85172308 0.85172308\n",
            "  0.81068432 0.73444367 0.63331324 0.51979489]\n",
            " [0.57375342 0.69905581 0.81068432 0.89483932 0.9401382  0.9401382\n",
            "  0.89483932 0.81068432 0.69905581 0.57375342]\n",
            " [0.60279818 0.73444367 0.85172308 0.9401382  0.98773022 0.98773022\n",
            "  0.9401382  0.85172308 0.73444367 0.60279818]\n",
            " [0.60279818 0.73444367 0.85172308 0.9401382  0.98773022 0.98773022\n",
            "  0.9401382  0.85172308 0.73444367 0.60279818]\n",
            " [0.57375342 0.69905581 0.81068432 0.89483932 0.9401382  0.9401382\n",
            "  0.89483932 0.81068432 0.69905581 0.57375342]\n",
            " [0.51979489 0.63331324 0.73444367 0.81068432 0.85172308 0.85172308\n",
            "  0.81068432 0.73444367 0.63331324 0.51979489]\n",
            " [0.44822088 0.54610814 0.63331324 0.69905581 0.73444367 0.73444367\n",
            "  0.69905581 0.63331324 0.54610814 0.44822088]\n",
            " [0.36787944 0.44822088 0.51979489 0.57375342 0.60279818 0.60279818\n",
            "  0.57375342 0.51979489 0.44822088 0.36787944]]\n"
          ]
        }
      ],
      "source": [
        "x,y=np.meshgrid(np.linspace(-1,1,10), np.linspace(-1,1,10))\n",
        "d=np.sqrt(x*x+y*y)\n",
        "sigma,mu=1.0, 0.0\n",
        "g=np.exp(-((d-mu)**2/(2.0*sigma**2)))\n",
        "print(g)"
      ]
    },
    {
      "cell_type": "markdown",
      "metadata": {
        "id": "eTW5axal8aK5"
      },
      "source": [
        "#### 57. How to randomly place p elements in a 2D array? (★★☆) \n",
        "(**hint**: np.put, np.random.choice)"
      ]
    },
    {
      "cell_type": "code",
      "execution_count": 19,
      "metadata": {
        "id": "ILd-jj9B8aK6",
        "outputId": "048eb626-c51f-4635-dc1f-a1f8d300cba1",
        "colab": {
          "base_uri": "https://localhost:8080/"
        }
      },
      "outputs": [
        {
          "output_type": "stream",
          "name": "stdout",
          "text": [
            "[[0. 0. 0. 0. 0. 0. 1. 0. 0. 0.]\n",
            " [0. 0. 0. 0. 0. 0. 0. 0. 0. 0.]\n",
            " [0. 0. 0. 0. 0. 0. 0. 0. 0. 0.]\n",
            " [0. 0. 0. 0. 0. 0. 0. 0. 0. 0.]\n",
            " [0. 0. 0. 0. 0. 0. 0. 0. 0. 0.]\n",
            " [0. 0. 0. 1. 0. 0. 0. 0. 0. 0.]\n",
            " [0. 0. 0. 0. 0. 0. 0. 0. 0. 0.]\n",
            " [0. 0. 0. 0. 0. 0. 0. 0. 0. 0.]\n",
            " [0. 0. 0. 0. 0. 0. 0. 0. 0. 0.]\n",
            " [0. 0. 0. 1. 0. 0. 0. 0. 0. 0.]]\n"
          ]
        }
      ],
      "source": [
        "n=10\n",
        "p=3\n",
        "z=np.zeros((n,n))\n",
        "np.put(z,np.random.choice(range(n*n),p,replace=False),1)\n",
        "print(z)"
      ]
    },
    {
      "cell_type": "markdown",
      "metadata": {
        "id": "cWbncN5A8aK6"
      },
      "source": [
        "#### 58. Subtract the mean of each row of a matrix (★★☆) \n",
        "(**hint**: mean(axis=,keepdims=))"
      ]
    },
    {
      "cell_type": "code",
      "execution_count": 21,
      "metadata": {
        "id": "UHi9gU-B8aK6",
        "outputId": "55918c1e-1ac5-4530-c83b-aa9ec0004171",
        "colab": {
          "base_uri": "https://localhost:8080/"
        }
      },
      "outputs": [
        {
          "output_type": "execute_result",
          "data": {
            "text/plain": [
              "array([[ 0.30204199,  0.34145054, -0.05645011, -0.13525701, -0.05671112,\n",
              "        -0.23351499, -0.32094946, -0.11236575, -0.31394677,  0.58570269],\n",
              "       [ 0.39495031,  0.21836641, -0.37448128, -0.09890873,  0.15379149,\n",
              "         0.13357356, -0.33076185, -0.43816784,  0.47191067, -0.13027274],\n",
              "       [ 0.04376681, -0.00973038,  0.29515329, -0.27694866, -0.46108806,\n",
              "        -0.06811404,  0.00592715,  0.34137509,  0.0476298 ,  0.082029  ],\n",
              "       [ 0.09943827, -0.35370372, -0.33671271,  0.3545839 , -0.37447386,\n",
              "         0.24776513, -0.14496098, -0.3038437 ,  0.50105406,  0.3108536 ],\n",
              "       [ 0.3317987 ,  0.34041357,  0.55978376, -0.34878305,  0.14849199,\n",
              "        -0.12183112, -0.39016959, -0.35457129, -0.37262535,  0.20749237]])"
            ]
          },
          "metadata": {},
          "execution_count": 21
        }
      ],
      "source": [
        "x=np.random.rand(5,10)\n",
        "y=x-x.mean(axis=1,keepdims=True)\n",
        "y"
      ]
    },
    {
      "cell_type": "markdown",
      "metadata": {
        "id": "P2upPXuj8aK6"
      },
      "source": [
        "#### 59. How to sort an array by the nth column? (★★☆) \n",
        "(**hint**: argsort)"
      ]
    },
    {
      "cell_type": "code",
      "execution_count": 22,
      "metadata": {
        "id": "VGRdDFeV8aK6",
        "outputId": "6f87d274-5234-48e0-90f8-a3b8d3b2b9d3",
        "colab": {
          "base_uri": "https://localhost:8080/"
        }
      },
      "outputs": [
        {
          "output_type": "stream",
          "name": "stdout",
          "text": [
            "[[1 9 9]\n",
            " [3 8 7]\n",
            " [4 2 6]]\n",
            "[[4 2 6]\n",
            " [3 8 7]\n",
            " [1 9 9]]\n"
          ]
        }
      ],
      "source": [
        "z=np.random.randint(0,10,(3,3))\n",
        "print(z)\n",
        "print(z[z[:,1].argsort()])"
      ]
    },
    {
      "cell_type": "markdown",
      "metadata": {
        "id": "wHQcf7r18aK6"
      },
      "source": [
        "#### 60. How to tell if a given 2D array has null columns? (★★☆) \n",
        "(**hint**: any, ~)"
      ]
    },
    {
      "cell_type": "code",
      "execution_count": 25,
      "metadata": {
        "id": "V_eEa-OV8aK6",
        "outputId": "99b2bd9c-f249-46c5-91c1-ccd7eeb8a545",
        "colab": {
          "base_uri": "https://localhost:8080/"
        }
      },
      "outputs": [
        {
          "output_type": "stream",
          "name": "stdout",
          "text": [
            "False\n"
          ]
        }
      ],
      "source": [
        "z=np.random.randint(0,3,(3,10))\n",
        "print((~z.any(axis=0)).any())"
      ]
    },
    {
      "cell_type": "markdown",
      "metadata": {
        "id": "bSXbc_Uj8aK6"
      },
      "source": [
        "#### 61. Find the nearest value from a given value in an array (★★☆) \n",
        "(**hint**: np.abs, argmin, flat)"
      ]
    },
    {
      "cell_type": "code",
      "execution_count": 26,
      "metadata": {
        "id": "wbJlqA-T8aK6",
        "outputId": "44509e82-a5a6-4005-902e-15acded8ec4b",
        "colab": {
          "base_uri": "https://localhost:8080/"
        }
      },
      "outputs": [
        {
          "output_type": "stream",
          "name": "stdout",
          "text": [
            "0.4944958213497376\n"
          ]
        }
      ],
      "source": [
        "z1=np.random.uniform(0,1,10)\n",
        "z2=0.5\n",
        "m=z1.flat[np.abs(z1-z2).argmin()]\n",
        "print(m)"
      ]
    },
    {
      "cell_type": "markdown",
      "metadata": {
        "id": "-V0-WKOh8aK6"
      },
      "source": [
        "#### 62. Considering two arrays with shape (1,3) and (3,1), how to compute their sum using an iterator? (★★☆) \n",
        "(**hint**: np.nditer)"
      ]
    },
    {
      "cell_type": "code",
      "execution_count": 28,
      "metadata": {
        "id": "mqTUJJyz8aK6",
        "outputId": "bad8bac9-313d-466c-a520-846573be582d",
        "colab": {
          "base_uri": "https://localhost:8080/"
        }
      },
      "outputs": [
        {
          "output_type": "stream",
          "name": "stdout",
          "text": [
            "[[0 9 9]\n",
            " [3 8 7]\n",
            " [4 2 6]]\n",
            "[[0 1 9]\n",
            " [3 8 7]\n",
            " [4 2 6]]\n",
            "[[0 1 2]\n",
            " [3 8 7]\n",
            " [4 2 6]]\n",
            "[[0 1 2]\n",
            " [1 8 7]\n",
            " [4 2 6]]\n",
            "[[0 1 2]\n",
            " [1 2 7]\n",
            " [4 2 6]]\n",
            "[[0 1 2]\n",
            " [1 2 3]\n",
            " [4 2 6]]\n",
            "[[0 1 2]\n",
            " [1 2 3]\n",
            " [2 2 6]]\n",
            "[[0 1 2]\n",
            " [1 2 3]\n",
            " [2 3 6]]\n",
            "[[0 1 2]\n",
            " [1 2 3]\n",
            " [2 3 4]]\n"
          ]
        }
      ],
      "source": [
        "a=np.arange(3).reshape(3,1)\n",
        "b=np.arange(3).reshape(1,3)\n",
        "it=np.nditer([a,b,None])\n",
        "for x,y,z in it: \n",
        "  z[...] = x + y\n",
        "  print(it.operands[2])"
      ]
    },
    {
      "cell_type": "markdown",
      "metadata": {
        "id": "_HNp2IME8aK6"
      },
      "source": [
        "#### 63. Create an array class that has a name attribute (★★☆) \n",
        "(**hint**: class method)"
      ]
    },
    {
      "cell_type": "code",
      "execution_count": 32,
      "metadata": {
        "id": "wDw_TitT8aK6",
        "outputId": "f643bb7d-84b5-4543-e714-e9832f1f85c9",
        "colab": {
          "base_uri": "https://localhost:8080/"
        }
      },
      "outputs": [
        {
          "output_type": "stream",
          "name": "stdout",
          "text": [
            "range_10\n"
          ]
        }
      ],
      "source": [
        "class NamedArray(np.ndarray):\n",
        "  #obj=0\n",
        "\n",
        "  def __new__(cls, array, name=\"no name\"):\n",
        "\n",
        "    obj = np.asarray(array).view(cls)\n",
        "\n",
        "    obj.name = name\n",
        "\n",
        "    return obj\n",
        "\n",
        "  def __array_finalize__(self, obj):\n",
        "\n",
        "    if obj is None: \n",
        "      return\n",
        "\n",
        "      self.info = getattr(obj, 'name', \"no name\")\n",
        "\n",
        "Z = NamedArray(np.arange(10), \"range_10\")\n",
        "\n",
        "print (Z.name)"
      ]
    },
    {
      "cell_type": "markdown",
      "metadata": {
        "id": "i3j5Enmk8aK7"
      },
      "source": [
        "#### 64. Consider a given vector, how to add 1 to each element indexed by a second vector (be careful with repeated indices)? (★★★) \n",
        "(**hint**: np.bincount | np.add.at)"
      ]
    },
    {
      "cell_type": "code",
      "execution_count": 33,
      "metadata": {
        "id": "C1k5Dfio8aK7",
        "outputId": "38a15260-28d0-44a1-c23b-e3223fdd35f7",
        "colab": {
          "base_uri": "https://localhost:8080/"
        }
      },
      "outputs": [
        {
          "output_type": "stream",
          "name": "stdout",
          "text": [
            "[2. 1. 1. 3. 3. 2. 4. 6. 2. 6.]\n"
          ]
        }
      ],
      "source": [
        "Z = np.ones(10)\n",
        "I = np.random.randint(0,len(Z),20)\n",
        "Z += np.bincount(I, minlength=len(Z))\n",
        "print(Z)"
      ]
    },
    {
      "cell_type": "markdown",
      "metadata": {
        "id": "VpE11pbl8aK7"
      },
      "source": [
        "#### 65. How to accumulate elements of a vector (X) to an array (F) based on an index list (I)? (★★★) \n",
        "(**hint**: np.bincount)"
      ]
    },
    {
      "cell_type": "code",
      "execution_count": 37,
      "metadata": {
        "id": "2eaeAE6X8aK7",
        "outputId": "3e87b237-cee7-4a1e-a911-f3f437f36c30",
        "colab": {
          "base_uri": "https://localhost:8080/"
        }
      },
      "outputs": [
        {
          "output_type": "stream",
          "name": "stdout",
          "text": [
            "[0. 7. 0. 6. 5. 0. 0. 0. 0. 3.]\n"
          ]
        }
      ],
      "source": [
        "x = [1,2,3,4,5,6]\n",
        "i = [1,3,9,3,4,1]\n",
        "f = np.bincount(i,x)\n",
        "print(f)"
      ]
    },
    {
      "cell_type": "markdown",
      "metadata": {
        "id": "08PC2XI-8aK7"
      },
      "source": [
        "#### 66. Considering a (w,h,3) image of (dtype=ubyte), compute the number of unique colors (★★★) \n",
        "(**hint**: np.unique)"
      ]
    },
    {
      "cell_type": "code",
      "execution_count": 38,
      "metadata": {
        "id": "pqIPpKfd8aK7",
        "outputId": "91737db5-972f-474b-8cb4-d5f85ad8bb79",
        "colab": {
          "base_uri": "https://localhost:8080/"
        }
      },
      "outputs": [
        {
          "output_type": "stream",
          "name": "stdout",
          "text": [
            "[0 1]\n"
          ]
        }
      ],
      "source": [
        "w,h = 16,16\n",
        "I = np.random.randint(0,2,(h,w,3)).astype(np.ubyte)\n",
        "F = I[...,0]*256*256 + I[...,1]*256 +I[...,2]\n",
        "n = len(np.unique(F))\n",
        "print(np.unique(I))"
      ]
    },
    {
      "cell_type": "markdown",
      "metadata": {
        "id": "4bdJBfOi8aK7"
      },
      "source": [
        "#### 67. Considering a four dimensions array, how to get sum over the last two axis at once? (★★★) \n",
        "(**hint**: sum(axis=(-2,-1)))"
      ]
    },
    {
      "cell_type": "code",
      "execution_count": 39,
      "metadata": {
        "id": "cPZv-a918aK7",
        "outputId": "256f6cbb-e0c6-43bc-f40d-4863b87a8e23",
        "colab": {
          "base_uri": "https://localhost:8080/"
        }
      },
      "outputs": [
        {
          "output_type": "stream",
          "name": "stdout",
          "text": [
            "[[52 42 44 34]\n",
            " [50 51 51 50]\n",
            " [54 54 52 41]]\n"
          ]
        }
      ],
      "source": [
        "a = np.random.randint(0,10,(3,4,3,4))\n",
        "sum = a.sum(axis=(-2,-1))\n",
        "print(sum)"
      ]
    },
    {
      "cell_type": "markdown",
      "metadata": {
        "id": "VnxglNeG8aK7"
      },
      "source": [
        "#### 68. Considering a one-dimensional vector D, how to compute means of subsets of D using a vector S of same size describing subset  indices? (★★★) \n",
        "(**hint**: np.bincount)"
      ]
    },
    {
      "cell_type": "code",
      "execution_count": 40,
      "metadata": {
        "id": "5gPw50Yj8aK7",
        "outputId": "ef765117-ca97-4526-a291-9fd00832f179",
        "colab": {
          "base_uri": "https://localhost:8080/"
        }
      },
      "outputs": [
        {
          "output_type": "stream",
          "name": "stdout",
          "text": [
            "[0.54961432 0.6057714  0.36340506 0.48527542 0.4964538  0.37573926\n",
            " 0.37340672 0.51693857 0.53184739 0.5717597 ]\n"
          ]
        }
      ],
      "source": [
        "D = np.random.uniform(0,1,100)\n",
        "S = np.random.randint(0,10,100)\n",
        "D_sums = np.bincount(S, weights=D)\n",
        "D_counts = np.bincount(S)\n",
        "D_means = D_sums / D_counts\n",
        "print(D_means)"
      ]
    },
    {
      "cell_type": "markdown",
      "metadata": {
        "id": "u0SsrUkn8aK7"
      },
      "source": [
        "#### 69. How to get the diagonal of a dot product? (★★★) \n",
        "(**hint**: np.diag)"
      ]
    },
    {
      "cell_type": "code",
      "execution_count": 47,
      "metadata": {
        "id": "xNqwEWor8aK8",
        "outputId": "4a78a210-7b32-4982-eda7-d1fc3f737d06",
        "colab": {
          "base_uri": "https://localhost:8080/"
        }
      },
      "outputs": [
        {
          "output_type": "execute_result",
          "data": {
            "text/plain": [
              "array([2.30753791, 0.82030235, 1.63865849, 1.19842745, 0.40656365])"
            ]
          },
          "metadata": {},
          "execution_count": 47
        }
      ],
      "source": [
        "a=np.random.uniform(0,1,(5,5))\n",
        "b=np.random.uniform(0,1,(5,5))\n",
        "z= np.diag(np.dot(a,b))\n",
        "z"
      ]
    },
    {
      "cell_type": "markdown",
      "metadata": {
        "id": "OSvCD2398aK8"
      },
      "source": [
        "#### 70. Consider the vector \\[1, 2, 3, 4, 5\\], how to build a new vector with 3 consecutive zeros interleaved between each value? (★★★) \n",
        "(**hint**: array\\[::4\\])"
      ]
    },
    {
      "cell_type": "code",
      "execution_count": 48,
      "metadata": {
        "id": "MnvFXYwg8aK8",
        "outputId": "d3b8fe47-c866-4c7b-b7c6-770d7f829e75",
        "colab": {
          "base_uri": "https://localhost:8080/"
        }
      },
      "outputs": [
        {
          "output_type": "stream",
          "name": "stdout",
          "text": [
            "[1. 0. 0. 0. 2. 0. 0. 0. 3. 0. 0. 0. 4. 0. 0. 0. 5.]\n"
          ]
        }
      ],
      "source": [
        "Z = np.array([1,2,3,4,5])\n",
        "nz = 3\n",
        "Z0 = np.zeros(len(Z) + (len(Z)-1)*(nz))\n",
        "Z0[::nz+1] = Z\n",
        "print(Z0)"
      ]
    },
    {
      "cell_type": "markdown",
      "metadata": {
        "id": "66lD6r-48aK8"
      },
      "source": [
        "#### 71. Consider an array of dimension (5,5,3), how to mulitply it by an array with dimensions (5,5)? (★★★) \n",
        "(**hint**: array\\[:, :, None\\])"
      ]
    },
    {
      "cell_type": "code",
      "execution_count": 53,
      "metadata": {
        "collapsed": true,
        "id": "dLBvGO-t8aK8",
        "outputId": "985abe6f-5f4e-4bef-d2ab-d127de7addda",
        "colab": {
          "base_uri": "https://localhost:8080/"
        }
      },
      "outputs": [
        {
          "output_type": "stream",
          "name": "stdout",
          "text": [
            "[[[2. 2. 2.]\n",
            "  [2. 2. 2.]\n",
            "  [2. 2. 2.]\n",
            "  [2. 2. 2.]\n",
            "  [2. 2. 2.]]\n",
            "\n",
            " [[2. 2. 2.]\n",
            "  [2. 2. 2.]\n",
            "  [2. 2. 2.]\n",
            "  [2. 2. 2.]\n",
            "  [2. 2. 2.]]\n",
            "\n",
            " [[2. 2. 2.]\n",
            "  [2. 2. 2.]\n",
            "  [2. 2. 2.]\n",
            "  [2. 2. 2.]\n",
            "  [2. 2. 2.]]\n",
            "\n",
            " [[2. 2. 2.]\n",
            "  [2. 2. 2.]\n",
            "  [2. 2. 2.]\n",
            "  [2. 2. 2.]\n",
            "  [2. 2. 2.]]\n",
            "\n",
            " [[2. 2. 2.]\n",
            "  [2. 2. 2.]\n",
            "  [2. 2. 2.]\n",
            "  [2. 2. 2.]\n",
            "  [2. 2. 2.]]]\n"
          ]
        }
      ],
      "source": [
        "A = np.ones((5,5,3))\n",
        "B = 2*np.ones((5,5))\n",
        "print(A * B[:,:,None])"
      ]
    },
    {
      "cell_type": "markdown",
      "metadata": {
        "id": "0SEe_aSK8aK9"
      },
      "source": [
        "#### 72. How to swap two rows of an array? (★★★) \n",
        "(**hint**: array\\[\\[\\]\\] = array\\[\\[\\]\\])"
      ]
    },
    {
      "cell_type": "code",
      "execution_count": 54,
      "metadata": {
        "id": "sNwOCPDA8aK9",
        "outputId": "724ceafb-e1a9-4eee-81a8-782023eb4148",
        "colab": {
          "base_uri": "https://localhost:8080/"
        }
      },
      "outputs": [
        {
          "output_type": "stream",
          "name": "stdout",
          "text": [
            "[[ 5  6  7  8  9]\n",
            " [ 0  1  2  3  4]\n",
            " [10 11 12 13 14]\n",
            " [15 16 17 18 19]\n",
            " [20 21 22 23 24]]\n"
          ]
        }
      ],
      "source": [
        "A = np.arange(25).reshape(5,5)\n",
        "A[[0,1]] = A[[1,0]]\n",
        "print(A)"
      ]
    },
    {
      "cell_type": "markdown",
      "metadata": {
        "id": "m_BYA0Ka8aK9"
      },
      "source": [
        "#### 73. Consider a set of 10 triplets describing 10 triangles (with shared vertices), find the set of unique line segments composing all the  triangles (★★★) \n",
        "(**hint**: repeat, np.roll, np.sort, view, np.unique)"
      ]
    },
    {
      "cell_type": "code",
      "execution_count": 55,
      "metadata": {
        "id": "G1e0agDt8aK9",
        "outputId": "74f66611-d1f0-46f8-df42-e614703803a2",
        "colab": {
          "base_uri": "https://localhost:8080/"
        }
      },
      "outputs": [
        {
          "output_type": "stream",
          "name": "stdout",
          "text": [
            "[( 0,  8) ( 0, 51) ( 2,  2) ( 2, 65) ( 7, 20) ( 7, 60) ( 8, 51) (20, 60)\n",
            " (26, 29) (26, 39) (26, 90) (26, 92) (28, 65) (28, 97) (29, 90) (35, 56)\n",
            " (35, 79) (39, 92) (45, 62) (45, 74) (48, 92) (48, 94) (56, 79) (57, 60)\n",
            " (57, 73) (60, 73) (62, 74) (65, 97) (92, 94)]\n"
          ]
        }
      ],
      "source": [
        "faces = np.random.randint(0,100,(10,3))\n",
        "F = np.roll(faces.repeat(2,axis=1),-1,axis=1)\n",
        "F = F.reshape(len(F)*3,2)\n",
        "F = np.sort(F,axis=1)\n",
        "G = F.view( dtype=[('p0',F.dtype),('p1',F.dtype)] )\n",
        "G = np.unique(G)\n",
        "print(G)"
      ]
    },
    {
      "cell_type": "markdown",
      "metadata": {
        "id": "ipta2fUi8aK9"
      },
      "source": [
        "#### 74. Given an array C that is a bincount, how to produce an array A such that np.bincount(A) == C? (★★★) \n",
        "(**hint**: np.repeat)"
      ]
    },
    {
      "cell_type": "code",
      "execution_count": 56,
      "metadata": {
        "id": "3-R3Vhkg8aK-",
        "outputId": "97f10b31-47a0-480f-c505-e3d851819a76",
        "colab": {
          "base_uri": "https://localhost:8080/"
        }
      },
      "outputs": [
        {
          "output_type": "stream",
          "name": "stdout",
          "text": [
            "[1 1 2 3 4 4 6]\n"
          ]
        }
      ],
      "source": [
        "C = np.bincount([1,1,2,3,4,4,6])\n",
        "A = np.repeat(np.arange(len(C)), C)\n",
        "print(A)"
      ]
    },
    {
      "cell_type": "markdown",
      "metadata": {
        "id": "s2gUbwbL8aK-"
      },
      "source": [
        "#### 75. How to compute averages using a sliding window over an array? (★★★) \n",
        "(**hint**: np.cumsum)"
      ]
    },
    {
      "cell_type": "code",
      "execution_count": 57,
      "metadata": {
        "id": "SGy45voC8aK-",
        "outputId": "2d363b8b-3b89-42cf-a75b-ea45d6b80bea",
        "colab": {
          "base_uri": "https://localhost:8080/"
        }
      },
      "outputs": [
        {
          "output_type": "stream",
          "name": "stdout",
          "text": [
            "[ 1.  2.  3.  4.  5.  6.  7.  8.  9. 10. 11. 12. 13. 14. 15. 16. 17. 18.]\n"
          ]
        }
      ],
      "source": [
        "def moving_average(a, n=3) :\n",
        " ret = np.cumsum(a, dtype=float)\n",
        " ret[n:] = ret[n:] - ret[:-n]\n",
        " return ret[n - 1:] / n\n",
        "Z = np.arange(20)\n",
        "print(moving_average(Z, n=3))"
      ]
    },
    {
      "cell_type": "markdown",
      "metadata": {
        "id": "YM8PX3ST8aK-"
      },
      "source": [
        "#### 76. Consider a one-dimensional array Z, build a two-dimensional array whose first row is (Z\\[0\\],Z\\[1\\],Z\\[2\\]) and each subsequent row is  shifted by 1 (last row should be (Z\\[-3\\],Z\\[-2\\],Z\\[-1\\]) (★★★) \n",
        "(**hint**: from numpy.lib import stride_tricks)"
      ]
    },
    {
      "cell_type": "code",
      "execution_count": 58,
      "metadata": {
        "id": "OT0cFiuL8aK-",
        "outputId": "fa92f213-7303-4f04-9a18-f4fe69404037",
        "colab": {
          "base_uri": "https://localhost:8080/"
        }
      },
      "outputs": [
        {
          "output_type": "stream",
          "name": "stdout",
          "text": [
            "[[0 1 2]\n",
            " [1 2 3]\n",
            " [2 3 4]\n",
            " [3 4 5]\n",
            " [4 5 6]\n",
            " [5 6 7]\n",
            " [6 7 8]\n",
            " [7 8 9]]\n"
          ]
        }
      ],
      "source": [
        "from numpy.lib import stride_tricks\n",
        "def rolling(a, window):\n",
        " shape = (a.size - window + 1, window)\n",
        " strides = (a.itemsize, a.itemsize)\n",
        " return stride_tricks.as_strided(a, shape=shape, strides=strides)\n",
        "Z = rolling(np.arange(10), 3)\n",
        "print(Z)"
      ]
    },
    {
      "cell_type": "markdown",
      "metadata": {
        "id": "TxQng6zm8aK-"
      },
      "source": [
        "#### 77. How to negate a boolean, or to change the sign of a float inplace? (★★★) \n",
        "(**hint**: np.logical_not, np.negative)"
      ]
    },
    {
      "cell_type": "code",
      "execution_count": 59,
      "metadata": {
        "id": "VTWv3p7f8aK-",
        "outputId": "1a6cef1d-61ba-4cdf-afc0-a4a4d50c295f",
        "colab": {
          "base_uri": "https://localhost:8080/"
        }
      },
      "outputs": [
        {
          "output_type": "execute_result",
          "data": {
            "text/plain": [
              "array([ 0.23360568,  0.40735296,  0.0881021 ,  0.66289623,  0.62095885,\n",
              "       -0.10427595, -0.41825497, -0.22952239,  0.39369067, -0.42759048,\n",
              "        0.14479588,  0.04624856,  0.52018647,  0.62434365,  0.40214152,\n",
              "       -0.75149084,  0.19679554, -0.45283986,  0.35605173,  0.42985558,\n",
              "       -0.82092307, -0.05408901,  0.65976655, -0.76484907,  0.42298933,\n",
              "       -0.14983533,  0.12067055,  0.80911172, -0.42996417, -0.76456162,\n",
              "        0.75079047, -0.82556155,  0.54785489, -0.49842325, -0.71040329,\n",
              "        0.15650256, -0.24899091, -0.44505726, -0.69488973, -0.55048495,\n",
              "        0.45362955, -0.61700918,  0.14973588, -0.33031867, -0.50197691,\n",
              "       -0.46436413,  0.30757643, -0.31533687, -0.84816914,  0.29512214,\n",
              "        0.70228309,  0.37770941,  0.9761794 ,  0.22363318, -0.37219204,\n",
              "        0.76996465, -0.09429543, -0.85897442, -0.95548492,  0.0108716 ,\n",
              "        0.63974037,  0.25083066, -0.84671979, -0.33947798,  0.44248821,\n",
              "        0.42362014, -0.2237382 ,  0.83357942, -0.61528855,  0.74763483,\n",
              "        0.05298492, -0.0168861 ,  0.42642811, -0.17043485,  0.66236833,\n",
              "        0.29127927, -0.67539311, -0.11011622,  0.03951648, -0.49293709,\n",
              "       -0.60479211,  0.72170679,  0.31808537, -0.21420981, -0.0163938 ,\n",
              "       -0.9281254 , -0.39257379, -0.68686775,  0.32426148, -0.50460381,\n",
              "       -0.97295365,  0.04422021,  0.63879382, -0.46376384, -0.29898807,\n",
              "        0.90907616,  0.97466336, -0.66859102, -0.77180876, -0.64937129])"
            ]
          },
          "metadata": {},
          "execution_count": 59
        }
      ],
      "source": [
        "Z = np.random.randint(0,2,100)\n",
        "np.logical_not(Z, out=Z)\n",
        "Z = np.random.uniform(-1.0,1.0,100)\n",
        "np.negative(Z, out=Z)"
      ]
    },
    {
      "cell_type": "markdown",
      "metadata": {
        "id": "bHtgwtEo8aK-"
      },
      "source": [
        "#### 78. Consider 2 sets of points P0,P1 describing lines (2d) and a point p, how to compute distance from p to each line i  (P0\\[i\\],P1\\[i\\])? (★★★)"
      ]
    },
    {
      "cell_type": "code",
      "execution_count": 60,
      "metadata": {
        "id": "GGTGEvqZ8aK-",
        "outputId": "9738ee1b-4059-4cc0-b800-e67a7028f4ff",
        "colab": {
          "base_uri": "https://localhost:8080/"
        }
      },
      "outputs": [
        {
          "output_type": "stream",
          "name": "stdout",
          "text": [
            "[ 1.49004805  8.02046963  4.17291859 16.63486475  1.72891848 11.19369664\n",
            " 12.16896779 13.37498394  3.51918375  0.41945043]\n"
          ]
        }
      ],
      "source": [
        "def distance(P0, P1, p):\n",
        " T = P1 - P0\n",
        " L = (T**2).sum(axis=1)\n",
        " U = -((P0[:,0]-p[...,0])*T[:,0] + (P0[:,1]-p[...,1])*T[:,1]) / L\n",
        " U = U.reshape(len(U),1)\n",
        " D = P0 + U*T - p\n",
        " return np.sqrt((D**2).sum(axis=1))\n",
        "P0 = np.random.uniform(-10,10,(10,2))\n",
        "P1 = np.random.uniform(-10,10,(10,2))\n",
        "p = np.random.uniform(-10,10,( 1,2))\n",
        "print(distance(P0, P1, p))"
      ]
    },
    {
      "cell_type": "markdown",
      "metadata": {
        "id": "vxaTuVDg8aK-"
      },
      "source": [
        "#### 79. Consider 2 sets of points P0,P1 describing lines (2d) and a set of points P, how to compute distance from each point j (P\\[j\\]) to each line i (P0\\[i\\],P1\\[i\\])? (★★★)"
      ]
    },
    {
      "cell_type": "code",
      "execution_count": 61,
      "metadata": {
        "id": "jriwgXh58aK-",
        "outputId": "8cab4ecb-0fe9-46ea-d2f7-9a11184f895f",
        "colab": {
          "base_uri": "https://localhost:8080/"
        }
      },
      "outputs": [
        {
          "output_type": "stream",
          "name": "stdout",
          "text": [
            "[[ 4.82246044 17.99485974  3.00888914  6.32468304  9.99783575  0.08716401\n",
            "  12.49329312 10.11199527  8.53275522  1.11245952]\n",
            " [ 8.23018004  4.27124855  5.63739076  0.45224147  0.1867921   3.82868393\n",
            "   1.14955319  3.2758906   4.60961896  7.18646876]\n",
            " [ 4.85502091 10.20010811 10.16202992  7.17864383  8.06562612  3.16583305\n",
            "   8.87299397  0.71124891  0.73002604  8.41719656]\n",
            " [ 1.71270787 13.04420806  8.52400889  7.67467855  9.39574849  2.95310593\n",
            "  10.67866634  3.83280748  2.61978804  5.7670847 ]\n",
            " [ 5.87104262  5.51366473  2.45543842  2.28491307  0.81838698  6.23227399\n",
            "   0.70835459  1.12937656  7.86418125  3.9302412 ]\n",
            " [ 9.36869368  5.02561511 10.13341775  3.77612999  3.71056939  0.73405808\n",
            "   4.08731524  4.01298535  0.25504966 10.67870064]\n",
            " [ 4.69972638 11.17318753 11.9013927   9.25928256  9.99979383  5.24762832\n",
            "  10.63768892  1.04924929  0.88836934  9.46728448]\n",
            " [ 0.25631201 16.0541722  10.18221039 11.01788476 12.98479718  5.90555565\n",
            "  14.28110164  6.05979056  1.27938625  5.84831558]\n",
            " [ 2.22189912  7.75920681  1.75854929  4.32011296  1.64660195  9.13650633\n",
            "   0.67746645  2.26232917 12.23268739  0.64723491]\n",
            " [ 0.82149957 10.63472534  3.08056002  3.54098661  0.0869107   9.03857461\n",
            "   2.66970362  5.3123185  13.81428101  3.04234648]]\n"
          ]
        }
      ],
      "source": [
        "P0 = np.random.uniform(-10, 10, (10,2))\n",
        "P1 = np.random.uniform(-10,10,(10,2))\n",
        "p = np.random.uniform(-10, 10, (10,2))\n",
        "print(np.array([distance(P0,P1,p_i) for p_i in p]))"
      ]
    },
    {
      "cell_type": "markdown",
      "metadata": {
        "id": "HLrYzig48aK-"
      },
      "source": [
        "#### 80. Consider an arbitrary array, write a function that extract a subpart with a fixed shape and centered on a given element (pad with a `fill` value when necessary) (★★★) \n",
        "(**hint**: minimum, maximum)"
      ]
    },
    {
      "cell_type": "code",
      "execution_count": 62,
      "metadata": {
        "id": "S_GM2e8m8aK_",
        "outputId": "f1a42bb9-7218-4e81-9f9d-b590de37697c",
        "colab": {
          "base_uri": "https://localhost:8080/"
        }
      },
      "outputs": [
        {
          "output_type": "stream",
          "name": "stdout",
          "text": [
            "[[9 3 5 3 0 5 3 5 6 6]\n",
            " [2 8 1 6 5 6 8 5 4 4]\n",
            " [3 4 2 7 4 3 7 4 8 2]\n",
            " [2 8 3 6 8 4 3 7 4 1]\n",
            " [6 2 3 4 1 2 1 0 9 4]\n",
            " [8 0 1 2 8 3 4 3 0 2]\n",
            " [3 7 3 7 3 6 2 3 1 1]\n",
            " [9 9 5 1 0 8 2 2 0 6]\n",
            " [1 6 6 8 1 2 6 4 7 8]\n",
            " [8 0 6 1 3 0 5 6 7 2]]\n",
            "[[0 0 0 0 0]\n",
            " [0 9 3 5 3]\n",
            " [0 2 8 1 6]\n",
            " [0 3 4 2 7]\n",
            " [0 2 8 3 6]]\n"
          ]
        },
        {
          "output_type": "stream",
          "name": "stderr",
          "text": [
            "/usr/local/lib/python3.7/dist-packages/ipykernel_launcher.py:19: FutureWarning: Using a non-tuple sequence for multidimensional indexing is deprecated; use `arr[tuple(seq)]` instead of `arr[seq]`. In the future this will be interpreted as an array index, `arr[np.array(seq)]`, which will result either in an error or a different result.\n"
          ]
        }
      ],
      "source": [
        "Z = np.random.randint(0,10,(10,10))\n",
        "shape = (5,5)\n",
        "fill = 0\n",
        "position = (1,1)\n",
        "R = np.ones(shape, dtype=Z.dtype)*fill\n",
        "P = np.array(list(position)).astype(int)\n",
        "Rs = np.array(list(R.shape)).astype(int)\n",
        "Zs = np.array(list(Z.shape)).astype(int)\n",
        "R_start = np.zeros((len(shape),)).astype(int)\n",
        "R_stop = np.array(list(shape)).astype(int)\n",
        "Z_start = (P-Rs//2)\n",
        "Z_stop = (P+Rs//2)+Rs%2\n",
        "R_start = (R_start - np.minimum(Z_start,0)).tolist()\n",
        "Z_start = (np.maximum(Z_start,0)).tolist()\n",
        "R_stop = np.maximum(R_start, (R_stop - np.maximum(Z_stop-Zs,0))).tolist()\n",
        "Z_stop = (np.minimum(Z_stop,Zs)).tolist()\n",
        "r = [slice(start,stop) for start,stop in zip(R_start,R_stop)]\n",
        "z = [slice(start,stop) for start,stop in zip(Z_start,Z_stop)]\n",
        "R[r] = Z[z]\n",
        "print(Z)\n",
        "print(R)"
      ]
    },
    {
      "cell_type": "markdown",
      "metadata": {
        "id": "GxTe7h9l8aK_"
      },
      "source": [
        "#### 81. Consider an array Z = \\[1,2,3,4,5,6,7,8,9,10,11,12,13,14\\], how to generate an array R = \\[\\[1,2,3,4\\], \\[2,3,4,5\\], \\[3,4,5,6\\], ..., \\[11,12,13,14\\]\\]? (★★★) \n",
        "(**hint**: stride\\_tricks.as\\_strided)"
      ]
    },
    {
      "cell_type": "code",
      "execution_count": 63,
      "metadata": {
        "id": "PAzQpQV18aK_",
        "outputId": "a36f22ec-79cc-4884-ac22-e0c2373973e2",
        "colab": {
          "base_uri": "https://localhost:8080/"
        }
      },
      "outputs": [
        {
          "output_type": "stream",
          "name": "stdout",
          "text": [
            "[[ 1  2  3  4]\n",
            " [ 2  3  4  5]\n",
            " [ 3  4  5  6]\n",
            " [ 4  5  6  7]\n",
            " [ 5  6  7  8]\n",
            " [ 6  7  8  9]\n",
            " [ 7  8  9 10]\n",
            " [ 8  9 10 11]\n",
            " [ 9 10 11 12]\n",
            " [10 11 12 13]\n",
            " [11 12 13 14]]\n"
          ]
        }
      ],
      "source": [
        "Z = np.arange(1,15,dtype=np.uint32)\n",
        "R = stride_tricks.as_strided(Z,(11,4),(4,4))\n",
        "print(R)"
      ]
    },
    {
      "cell_type": "markdown",
      "metadata": {
        "id": "byarwMx28aK_"
      },
      "source": [
        "#### 82. Compute a matrix rank (★★★) \n",
        "(**hint**: np.linalg.svd) (suggestion: np.linalg.svd)"
      ]
    },
    {
      "cell_type": "code",
      "execution_count": 64,
      "metadata": {
        "id": "smCJtJQi8aK_",
        "outputId": "58980f16-3609-40f9-d03d-deec359c15f4",
        "colab": {
          "base_uri": "https://localhost:8080/"
        }
      },
      "outputs": [
        {
          "output_type": "stream",
          "name": "stdout",
          "text": [
            "10\n"
          ]
        }
      ],
      "source": [
        "Z = np.random.uniform(0,1,(10,10))\n",
        "U, S, V = np.linalg.svd(Z) \n",
        "rank = np.sum(S > 1e-10)\n",
        "print(rank)"
      ]
    },
    {
      "cell_type": "markdown",
      "metadata": {
        "id": "EkShUrye8aK_"
      },
      "source": [
        "#### 83. How to find the most frequent value in an array? \n",
        "(**hint**: np.bincount, argmax)"
      ]
    },
    {
      "cell_type": "code",
      "execution_count": 65,
      "metadata": {
        "id": "KHTTx2UR8aK_",
        "outputId": "058c53e5-ae01-496a-9423-2a7dba537ea0",
        "colab": {
          "base_uri": "https://localhost:8080/"
        }
      },
      "outputs": [
        {
          "output_type": "stream",
          "name": "stdout",
          "text": [
            "0\n"
          ]
        }
      ],
      "source": [
        "Z = np.random.randint(0,10,50)\n",
        "print(np.bincount(Z).argmax())"
      ]
    },
    {
      "cell_type": "markdown",
      "metadata": {
        "id": "c1Rk9nYI8aK_"
      },
      "source": [
        "#### 84. Extract all the contiguous 3x3 blocks from a random 10x10 matrix (★★★) \n",
        "(**hint**: stride\\_tricks.as\\_strided)"
      ]
    },
    {
      "cell_type": "code",
      "execution_count": 66,
      "metadata": {
        "id": "gWZ2Ee8U8aK_",
        "outputId": "f831ae0b-eb73-4218-c6b1-e253d9dc6796",
        "colab": {
          "base_uri": "https://localhost:8080/"
        }
      },
      "outputs": [
        {
          "output_type": "stream",
          "name": "stdout",
          "text": [
            "[[[[0 0 3]\n",
            "   [4 2 4]\n",
            "   [4 3 4]]\n",
            "\n",
            "  [[0 3 1]\n",
            "   [2 4 3]\n",
            "   [3 4 2]]\n",
            "\n",
            "  [[3 1 4]\n",
            "   [4 3 3]\n",
            "   [4 2 1]]\n",
            "\n",
            "  [[1 4 2]\n",
            "   [3 3 0]\n",
            "   [2 1 0]]\n",
            "\n",
            "  [[4 2 2]\n",
            "   [3 0 2]\n",
            "   [1 0 3]]\n",
            "\n",
            "  [[2 2 0]\n",
            "   [0 2 1]\n",
            "   [0 3 4]]\n",
            "\n",
            "  [[2 0 3]\n",
            "   [2 1 4]\n",
            "   [3 4 0]]\n",
            "\n",
            "  [[0 3 3]\n",
            "   [1 4 2]\n",
            "   [4 0 3]]]\n",
            "\n",
            "\n",
            " [[[4 2 4]\n",
            "   [4 3 4]\n",
            "   [1 4 1]]\n",
            "\n",
            "  [[2 4 3]\n",
            "   [3 4 2]\n",
            "   [4 1 3]]\n",
            "\n",
            "  [[4 3 3]\n",
            "   [4 2 1]\n",
            "   [1 3 1]]\n",
            "\n",
            "  [[3 3 0]\n",
            "   [2 1 0]\n",
            "   [3 1 2]]\n",
            "\n",
            "  [[3 0 2]\n",
            "   [1 0 3]\n",
            "   [1 2 0]]\n",
            "\n",
            "  [[0 2 1]\n",
            "   [0 3 4]\n",
            "   [2 0 3]]\n",
            "\n",
            "  [[2 1 4]\n",
            "   [3 4 0]\n",
            "   [0 3 0]]\n",
            "\n",
            "  [[1 4 2]\n",
            "   [4 0 3]\n",
            "   [3 0 1]]]\n",
            "\n",
            "\n",
            " [[[4 3 4]\n",
            "   [1 4 1]\n",
            "   [4 3 1]]\n",
            "\n",
            "  [[3 4 2]\n",
            "   [4 1 3]\n",
            "   [3 1 4]]\n",
            "\n",
            "  [[4 2 1]\n",
            "   [1 3 1]\n",
            "   [1 4 3]]\n",
            "\n",
            "  [[2 1 0]\n",
            "   [3 1 2]\n",
            "   [4 3 4]]\n",
            "\n",
            "  [[1 0 3]\n",
            "   [1 2 0]\n",
            "   [3 4 3]]\n",
            "\n",
            "  [[0 3 4]\n",
            "   [2 0 3]\n",
            "   [4 3 2]]\n",
            "\n",
            "  [[3 4 0]\n",
            "   [0 3 0]\n",
            "   [3 2 4]]\n",
            "\n",
            "  [[4 0 3]\n",
            "   [3 0 1]\n",
            "   [2 4 4]]]\n",
            "\n",
            "\n",
            " [[[1 4 1]\n",
            "   [4 3 1]\n",
            "   [4 4 0]]\n",
            "\n",
            "  [[4 1 3]\n",
            "   [3 1 4]\n",
            "   [4 0 3]]\n",
            "\n",
            "  [[1 3 1]\n",
            "   [1 4 3]\n",
            "   [0 3 2]]\n",
            "\n",
            "  [[3 1 2]\n",
            "   [4 3 4]\n",
            "   [3 2 3]]\n",
            "\n",
            "  [[1 2 0]\n",
            "   [3 4 3]\n",
            "   [2 3 0]]\n",
            "\n",
            "  [[2 0 3]\n",
            "   [4 3 2]\n",
            "   [3 0 1]]\n",
            "\n",
            "  [[0 3 0]\n",
            "   [3 2 4]\n",
            "   [0 1 4]]\n",
            "\n",
            "  [[3 0 1]\n",
            "   [2 4 4]\n",
            "   [1 4 3]]]\n",
            "\n",
            "\n",
            " [[[4 3 1]\n",
            "   [4 4 0]\n",
            "   [1 3 3]]\n",
            "\n",
            "  [[3 1 4]\n",
            "   [4 0 3]\n",
            "   [3 3 4]]\n",
            "\n",
            "  [[1 4 3]\n",
            "   [0 3 2]\n",
            "   [3 4 0]]\n",
            "\n",
            "  [[4 3 4]\n",
            "   [3 2 3]\n",
            "   [4 0 1]]\n",
            "\n",
            "  [[3 4 3]\n",
            "   [2 3 0]\n",
            "   [0 1 4]]\n",
            "\n",
            "  [[4 3 2]\n",
            "   [3 0 1]\n",
            "   [1 4 4]]\n",
            "\n",
            "  [[3 2 4]\n",
            "   [0 1 4]\n",
            "   [4 4 3]]\n",
            "\n",
            "  [[2 4 4]\n",
            "   [1 4 3]\n",
            "   [4 3 2]]]\n",
            "\n",
            "\n",
            " [[[4 4 0]\n",
            "   [1 3 3]\n",
            "   [2 0 2]]\n",
            "\n",
            "  [[4 0 3]\n",
            "   [3 3 4]\n",
            "   [0 2 0]]\n",
            "\n",
            "  [[0 3 2]\n",
            "   [3 4 0]\n",
            "   [2 0 1]]\n",
            "\n",
            "  [[3 2 3]\n",
            "   [4 0 1]\n",
            "   [0 1 3]]\n",
            "\n",
            "  [[2 3 0]\n",
            "   [0 1 4]\n",
            "   [1 3 3]]\n",
            "\n",
            "  [[3 0 1]\n",
            "   [1 4 4]\n",
            "   [3 3 3]]\n",
            "\n",
            "  [[0 1 4]\n",
            "   [4 4 3]\n",
            "   [3 3 1]]\n",
            "\n",
            "  [[1 4 3]\n",
            "   [4 3 2]\n",
            "   [3 1 4]]]\n",
            "\n",
            "\n",
            " [[[1 3 3]\n",
            "   [2 0 2]\n",
            "   [4 0 4]]\n",
            "\n",
            "  [[3 3 4]\n",
            "   [0 2 0]\n",
            "   [0 4 0]]\n",
            "\n",
            "  [[3 4 0]\n",
            "   [2 0 1]\n",
            "   [4 0 0]]\n",
            "\n",
            "  [[4 0 1]\n",
            "   [0 1 3]\n",
            "   [0 0 2]]\n",
            "\n",
            "  [[0 1 4]\n",
            "   [1 3 3]\n",
            "   [0 2 4]]\n",
            "\n",
            "  [[1 4 4]\n",
            "   [3 3 3]\n",
            "   [2 4 1]]\n",
            "\n",
            "  [[4 4 3]\n",
            "   [3 3 1]\n",
            "   [4 1 1]]\n",
            "\n",
            "  [[4 3 2]\n",
            "   [3 1 4]\n",
            "   [1 1 2]]]\n",
            "\n",
            "\n",
            " [[[2 0 2]\n",
            "   [4 0 4]\n",
            "   [3 1 4]]\n",
            "\n",
            "  [[0 2 0]\n",
            "   [0 4 0]\n",
            "   [1 4 3]]\n",
            "\n",
            "  [[2 0 1]\n",
            "   [4 0 0]\n",
            "   [4 3 3]]\n",
            "\n",
            "  [[0 1 3]\n",
            "   [0 0 2]\n",
            "   [3 3 2]]\n",
            "\n",
            "  [[1 3 3]\n",
            "   [0 2 4]\n",
            "   [3 2 1]]\n",
            "\n",
            "  [[3 3 3]\n",
            "   [2 4 1]\n",
            "   [2 1 4]]\n",
            "\n",
            "  [[3 3 1]\n",
            "   [4 1 1]\n",
            "   [1 4 0]]\n",
            "\n",
            "  [[3 1 4]\n",
            "   [1 1 2]\n",
            "   [4 0 0]]]]\n"
          ]
        }
      ],
      "source": [
        "Z = np.random.randint(0,5,(10,10))\n",
        "n = 3\n",
        "i = 1 + (Z.shape[0]-3)\n",
        "j = 1 + (Z.shape[1]-3)\n",
        "C = stride_tricks.as_strided(Z, shape=(i, j, n, n), strides=Z.strides + Z.strides)\n",
        "print(C)"
      ]
    },
    {
      "cell_type": "markdown",
      "metadata": {
        "id": "a34HToTi8aK_"
      },
      "source": [
        "#### 85. Create a 2D array subclass such that Z\\[i,j\\] == Z\\[j,i\\] (★★★) \n",
        "(**hint**: class method)"
      ]
    },
    {
      "cell_type": "code",
      "execution_count": 70,
      "metadata": {
        "id": "QdYzR4YW8aK_",
        "outputId": "0e011857-fd53-48ca-cafa-736f935c704a",
        "colab": {
          "base_uri": "https://localhost:8080/"
        }
      },
      "outputs": [
        {
          "output_type": "stream",
          "name": "stdout",
          "text": [
            "[5.08251654 1.3415347  1.15922871 0.98684153 0.96005225 0.87616742\n",
            " 0.59998427 0.41033981 0.34544314 0.01036136]\n"
          ]
        }
      ],
      "source": [
        "class Symetric(np.ndarray):\n",
        " def __setitem__(self, index, value):\n",
        "  i,j = index\n",
        "  super(Symetric, self).__setitem__((i,j), value)\n",
        "  super(Symetric, self).__setitem__((j,i), value)\n",
        " def symetric(Z):\n",
        "  return np.asarray(Z + Z.T - np.diag(Z.diagonal())).view(Symetric)\n",
        "  S = symetric(np.random.randint(0,10,(5,5)))\n",
        "  S[2,3] = 42\n",
        "print(S)"
      ]
    },
    {
      "cell_type": "markdown",
      "metadata": {
        "id": "JCp_kn1f8aLA"
      },
      "source": [
        "#### 86. Consider a set of p matrices wich shape (n,n) and a set of p vectors with shape (n,1). How to compute the sum of of the p matrix products at once? (result has shape (n,1)) (★★★) \n",
        "(**hint**: np.tensordot)"
      ]
    },
    {
      "cell_type": "code",
      "execution_count": 71,
      "metadata": {
        "id": "FnTxNMN38aLA",
        "outputId": "7ec69ebf-3e9e-4f86-bffd-41f35fbe414f",
        "colab": {
          "base_uri": "https://localhost:8080/"
        }
      },
      "outputs": [
        {
          "output_type": "stream",
          "name": "stdout",
          "text": [
            "[[200.]\n",
            " [200.]\n",
            " [200.]\n",
            " [200.]\n",
            " [200.]\n",
            " [200.]\n",
            " [200.]\n",
            " [200.]\n",
            " [200.]\n",
            " [200.]\n",
            " [200.]\n",
            " [200.]\n",
            " [200.]\n",
            " [200.]\n",
            " [200.]\n",
            " [200.]\n",
            " [200.]\n",
            " [200.]\n",
            " [200.]\n",
            " [200.]]\n"
          ]
        }
      ],
      "source": [
        "p, n = 10, 20\n",
        "M = np.ones((p,n,n))\n",
        "V = np.ones((p,n,1))\n",
        "S = np.tensordot(M, V, axes=[[0, 2], [0, 1]])\n",
        "print(S)"
      ]
    },
    {
      "cell_type": "markdown",
      "metadata": {
        "id": "woD87-ha8aLA"
      },
      "source": [
        "#### 87. Consider a 16x16 array, how to get the block-sum (block size is 4x4)? (★★★) \n",
        "(**hint**: np.add.reduceat)"
      ]
    },
    {
      "cell_type": "code",
      "execution_count": 72,
      "metadata": {
        "id": "b-XnPfHO8aLA",
        "outputId": "d88b9917-db76-4db2-f43e-cfe9f4461742",
        "colab": {
          "base_uri": "https://localhost:8080/"
        }
      },
      "outputs": [
        {
          "output_type": "stream",
          "name": "stdout",
          "text": [
            "[[16. 16. 16. 16.]\n",
            " [16. 16. 16. 16.]\n",
            " [16. 16. 16. 16.]\n",
            " [16. 16. 16. 16.]]\n"
          ]
        }
      ],
      "source": [
        "Z = np.ones((16,16))\n",
        "k = 4\n",
        "S = np.add.reduceat(np.add.reduceat(Z, np.arange(0, Z.shape[0], k), axis=0),\n",
        "np.arange(0, Z.shape[1], k), axis=1)\n",
        "print(S)"
      ]
    },
    {
      "cell_type": "markdown",
      "metadata": {
        "id": "7vdeDxV48aLA"
      },
      "source": [
        "#### 88. How to implement the Game of Life using numpy arrays? (★★★)"
      ]
    },
    {
      "cell_type": "code",
      "execution_count": 73,
      "metadata": {
        "id": "hflcV5OW8aLA",
        "outputId": "7808b5ee-c2b2-4a8c-9fd4-033443c231b8",
        "colab": {
          "base_uri": "https://localhost:8080/"
        }
      },
      "outputs": [
        {
          "output_type": "stream",
          "name": "stdout",
          "text": [
            "[[0 0 0 ... 0 0 0]\n",
            " [0 0 0 ... 0 0 0]\n",
            " [0 0 0 ... 0 0 0]\n",
            " ...\n",
            " [0 0 0 ... 0 0 0]\n",
            " [0 0 0 ... 0 0 0]\n",
            " [0 0 0 ... 0 0 0]]\n"
          ]
        }
      ],
      "source": [
        "def iterate(Z):\n",
        "  N = (Z[0:-2,0:-2] + Z[0:-2,1:-1] + Z[0:-2,2:] +\n",
        "  Z[1:-1,0:-2] + Z[1:-1,2:] +\n",
        "  Z[2: ,0:-2] + Z[2: ,1:-1] + Z[2: ,2:])\n",
        "  birth = (N==3) & (Z[1:-1,1:-1]==0)\n",
        "  survive = ((N==2) | (N==3)) & (Z[1:-1,1:-1]==1)\n",
        "  Z[...] = 0\n",
        "  Z[1:-1,1:-1][birth | survive] = 1\n",
        "  return Z\n",
        "Z = np.random.randint(0,2,(50,50))\n",
        "for i in range(100):\n",
        "   Z = iterate(Z)\n",
        "print(Z)"
      ]
    },
    {
      "cell_type": "markdown",
      "metadata": {
        "id": "Pfj2kh9z8aLA"
      },
      "source": [
        "#### 89. How to get the n largest values of an array (★★★) \n",
        "(**hint**: np.argsort | np.argpartition)"
      ]
    },
    {
      "cell_type": "code",
      "execution_count": 74,
      "metadata": {
        "id": "NOQaMA_J8aLA",
        "outputId": "b57571b7-61ae-4cde-a512-75176a3d4795",
        "colab": {
          "base_uri": "https://localhost:8080/"
        }
      },
      "outputs": [
        {
          "output_type": "stream",
          "name": "stdout",
          "text": [
            "[9995 9996 9997 9998 9999]\n",
            "[9999 9996 9998 9997 9995]\n"
          ]
        }
      ],
      "source": [
        "Z = np.arange(10000)\n",
        "np.random.shuffle(Z)\n",
        "n = 5\n",
        "print (Z[np.argsort(Z)[-n:]])\n",
        "print (Z[np.argpartition(-Z,n)[:n]])"
      ]
    },
    {
      "cell_type": "markdown",
      "metadata": {
        "id": "-fnWMJ-F8aLA"
      },
      "source": [
        "#### 90. Given an arbitrary number of vectors, build the cartesian product (every combinations of every item) (★★★) \n",
        "(**hint**: np.indices)"
      ]
    },
    {
      "cell_type": "code",
      "execution_count": 75,
      "metadata": {
        "scrolled": true,
        "id": "ZTq3oZkM8aLB",
        "outputId": "218a0df3-558f-4190-b5e0-6c7e62a252e7",
        "colab": {
          "base_uri": "https://localhost:8080/"
        }
      },
      "outputs": [
        {
          "output_type": "stream",
          "name": "stdout",
          "text": [
            "[[1 0 0]\n",
            " [1 0 1]\n",
            " [1 1 0]\n",
            " [1 1 1]\n",
            " [2 0 0]\n",
            " [2 0 1]\n",
            " [2 1 0]\n",
            " [2 1 1]\n",
            " [3 0 0]\n",
            " [3 0 1]\n",
            " [3 1 0]\n",
            " [3 1 1]]\n"
          ]
        }
      ],
      "source": [
        "def cartesian(arrays):\n",
        "   arrays = [np.asarray(a) for a in arrays]\n",
        "   shape = (len(x) for x in arrays)\n",
        "   ix = np.indices(shape, dtype=int)\n",
        "   ix = ix.reshape(len(arrays), -1).T\n",
        "   for n, arr in enumerate(arrays):\n",
        "       ix[:, n] = arrays[n][ix[:, n]]\n",
        "       return ix\n",
        "print(cartesian(([1, 2, 3], [4, 5], [6, 7])))"
      ]
    },
    {
      "cell_type": "markdown",
      "metadata": {
        "id": "DE6E0Iop8aLB"
      },
      "source": [
        "#### 91. How to create a record array from a regular array? (★★★) \n",
        "(**hint**: np.core.records.fromarrays)"
      ]
    },
    {
      "cell_type": "code",
      "execution_count": 76,
      "metadata": {
        "id": "9drWKOQY8aLB",
        "outputId": "a701c8be-ae84-45fd-f595-cee2b6497d2c",
        "colab": {
          "base_uri": "https://localhost:8080/"
        }
      },
      "outputs": [
        {
          "output_type": "stream",
          "name": "stdout",
          "text": [
            "[(b'Hello', 2.5, 3) (b'World', 3.6, 2)]\n"
          ]
        }
      ],
      "source": [
        "Z = np.array([(\"Hello\", 2.5, 3),\n",
        "(\"World\", 3.6, 2)])\n",
        "R = np.core.records.fromarrays(Z.T,\n",
        "names='col1, col2, col3',\n",
        "formats = 'S8, f8, i8')\n",
        "print(R)"
      ]
    },
    {
      "cell_type": "markdown",
      "metadata": {
        "id": "RHt7CqPS8aLB"
      },
      "source": [
        "#### 92. Consider a large vector Z, compute Z to the power of 3 using 3 different methods (★★★) \n",
        "(**hint**: np.power, \\*, np.einsum)"
      ]
    },
    {
      "cell_type": "code",
      "execution_count": 81,
      "metadata": {
        "id": "hdjv0Wqb8aLB",
        "outputId": "436dec4c-1823-4ce7-cada-45dc1a00c088",
        "colab": {
          "base_uri": "https://localhost:8080/"
        }
      },
      "outputs": [
        {
          "output_type": "stream",
          "name": "stdout",
          "text": [
            "1 loop, best of 5: 3.72 s per loop\n",
            "10 loops, best of 5: 135 ms per loop\n",
            "10 loops, best of 5: 117 ms per loop\n"
          ]
        }
      ],
      "source": [
        "x = np.random.rand(int(5e7))\n",
        "\n",
        "%timeit np.power(x,3)\n",
        "%timeit x*x*x\n",
        "%timeit np.einsum('i,i,i->i',x,x,x)"
      ]
    },
    {
      "cell_type": "markdown",
      "metadata": {
        "id": "EDKvgH_q8aLB"
      },
      "source": [
        "#### 93. Consider two arrays A and B of shape (8,3) and (2,2). How to find rows of A that contain elements of each row of B regardless of the order of the elements in B? (★★★) \n",
        "(**hint**: np.where)"
      ]
    },
    {
      "cell_type": "code",
      "execution_count": 82,
      "metadata": {
        "id": "MwEzzKlx8aLB",
        "outputId": "8aded20b-5e35-436e-b081-aa785effbc5a",
        "colab": {
          "base_uri": "https://localhost:8080/"
        }
      },
      "outputs": [
        {
          "output_type": "stream",
          "name": "stdout",
          "text": [
            "[0 1 2 3 4 5 6 7]\n"
          ]
        }
      ],
      "source": [
        "A = np.random.randint(0,5,(8,3))\n",
        "B = np.random.randint(0,5,(2,2))\n",
        "C = (A[..., np.newaxis, np.newaxis] == B)\n",
        "rows = (C.sum(axis=(1,2,3)) >= B.shape[1]).nonzero()[0]\n",
        "print(rows)"
      ]
    },
    {
      "cell_type": "markdown",
      "metadata": {
        "id": "6WiJc12x8aLB"
      },
      "source": [
        "#### 94. Considering a 10x3 matrix, extract rows with unequal values (e.g. \\[2,2,3\\]) (★★★)"
      ]
    },
    {
      "cell_type": "code",
      "execution_count": 83,
      "metadata": {
        "id": "e2UqHYJ_8aLC",
        "outputId": "334e3677-5c35-4c6a-bf1a-88b75dbb9bb4",
        "colab": {
          "base_uri": "https://localhost:8080/"
        }
      },
      "outputs": [
        {
          "output_type": "stream",
          "name": "stdout",
          "text": [
            "[[1 4 1]\n",
            " [0 0 1]\n",
            " [2 0 3]\n",
            " [4 0 2]\n",
            " [2 4 2]\n",
            " [2 2 4]\n",
            " [3 4 4]\n",
            " [4 1 3]\n",
            " [0 3 1]\n",
            " [1 0 1]]\n",
            "[[1 4 1]\n",
            " [0 0 1]\n",
            " [2 0 3]\n",
            " [4 0 2]\n",
            " [2 4 2]\n",
            " [2 2 4]\n",
            " [3 4 4]\n",
            " [4 1 3]\n",
            " [0 3 1]\n",
            " [1 0 1]]\n"
          ]
        }
      ],
      "source": [
        "Z = np.random.randint(0,5,(10,3))\n",
        "E = np.logical_and.reduce(Z[:,1:] == Z[:,:-1], axis=1)\n",
        "U = Z[~E]\n",
        "print(Z)\n",
        "print(U)"
      ]
    },
    {
      "cell_type": "markdown",
      "metadata": {
        "id": "J2ugLDMC8aLC"
      },
      "source": [
        "#### 95. Convert a vector of ints into a matrix binary representation (★★★) \n",
        "(**hint**: np.unpackbits)"
      ]
    },
    {
      "cell_type": "code",
      "execution_count": 84,
      "metadata": {
        "id": "VltX6jtF8aLC",
        "outputId": "f438d197-fe2d-4c1d-fb2f-1962b5c13197",
        "colab": {
          "base_uri": "https://localhost:8080/"
        }
      },
      "outputs": [
        {
          "output_type": "stream",
          "name": "stdout",
          "text": [
            "[[0 0 0 0 0 0 0 0]\n",
            " [0 0 0 0 0 0 0 1]\n",
            " [0 0 0 0 0 0 1 0]\n",
            " [0 0 0 0 0 0 1 1]\n",
            " [0 0 0 0 1 1 1 1]\n",
            " [0 0 0 1 0 0 0 0]\n",
            " [0 0 1 0 0 0 0 0]\n",
            " [0 1 0 0 0 0 0 0]\n",
            " [1 0 0 0 0 0 0 0]]\n",
            "[[0 0 0 0 0 0 0 0]\n",
            " [0 0 0 0 0 0 0 1]\n",
            " [0 0 0 0 0 0 1 0]\n",
            " [0 0 0 0 0 0 1 1]\n",
            " [0 0 0 0 1 1 1 1]\n",
            " [0 0 0 1 0 0 0 0]\n",
            " [0 0 1 0 0 0 0 0]\n",
            " [0 1 0 0 0 0 0 0]\n",
            " [1 0 0 0 0 0 0 0]]\n"
          ]
        }
      ],
      "source": [
        "I = np.array([0, 1, 2, 3, 15, 16, 32, 64, 128])\n",
        "B = ((I.reshape(-1,1) & (2**np.arange(8))) != 0).astype(int)\n",
        "print(B[:,::-1])\n",
        "I = np.array([0, 1, 2, 3, 15, 16, 32, 64, 128], dtype=np.uint8)\n",
        "print(np.unpackbits(I[:, np.newaxis], axis=1))"
      ]
    },
    {
      "cell_type": "markdown",
      "metadata": {
        "id": "iT_Tuywe8aLC"
      },
      "source": [
        "#### 96. Given a two dimensional array, how to extract unique rows? (★★★) \n",
        "(**hint**: np.ascontiguousarray)"
      ]
    },
    {
      "cell_type": "code",
      "execution_count": 85,
      "metadata": {
        "id": "v2nN0QEe8aLC",
        "outputId": "cc1ddc4a-65cb-49a7-aba3-9a4911d1550e",
        "colab": {
          "base_uri": "https://localhost:8080/"
        }
      },
      "outputs": [
        {
          "output_type": "stream",
          "name": "stdout",
          "text": [
            "[[0 0 0]\n",
            " [1 0 0]\n",
            " [1 0 1]]\n"
          ]
        }
      ],
      "source": [
        "Z = np.random.randint(0,2,(6,3))\n",
        "T = np.ascontiguousarray(Z).view(np.dtype((np.void, Z.dtype.itemsize * Z.shape[1])))\n",
        "_, idx = np.unique(T, return_index=True)\n",
        "uZ = Z[idx]\n",
        "print(uZ)"
      ]
    },
    {
      "cell_type": "markdown",
      "metadata": {
        "id": "3L_MWdZc8aLC"
      },
      "source": [
        "#### 97. Considering 2 vectors A & B, write the einsum equivalent of inner, outer, sum, and mul function (★★★) \n",
        "(**hint**: np.einsum)"
      ]
    },
    {
      "cell_type": "code",
      "execution_count": 86,
      "metadata": {
        "id": "As_0Suk28aLC",
        "outputId": "569f2c14-7f66-4540-8af0-c99afd438b3f",
        "colab": {
          "base_uri": "https://localhost:8080/"
        }
      },
      "outputs": [
        {
          "output_type": "execute_result",
          "data": {
            "text/plain": [
              "array([[3.79471650e-01, 4.18021621e-01, 4.54817985e-01, 7.59775842e-01,\n",
              "        2.93374951e-01, 2.80760141e-01, 2.38064447e-03, 8.23589783e-02,\n",
              "        7.72027439e-01, 4.24365197e-01],\n",
              "       [2.21460099e-01, 2.43957907e-01, 2.65432308e-01, 4.43406071e-01,\n",
              "        1.71213965e-01, 1.63851947e-01, 1.38934690e-03, 4.80647961e-02,\n",
              "        4.50556117e-01, 2.47660026e-01],\n",
              "       [1.30398932e-01, 1.43645969e-01, 1.56290409e-01, 2.61083952e-01,\n",
              "        1.00813276e-01, 9.64784126e-02, 8.18067688e-04, 2.83012520e-02,\n",
              "        2.65294004e-01, 1.45825830e-01],\n",
              "       [3.82511716e-01, 4.21370523e-01, 4.58461674e-01, 7.65862644e-01,\n",
              "        2.95725270e-01, 2.83009398e-01, 2.39971655e-03, 8.30187819e-02,\n",
              "        7.78212392e-01, 4.27764919e-01],\n",
              "       [8.32127644e-02, 9.16662276e-02, 9.97351497e-02, 1.66608094e-01,\n",
              "        6.43329764e-02, 6.15667269e-02, 5.22041652e-04, 1.80601588e-02,\n",
              "        1.69294695e-01, 9.30572841e-02],\n",
              "       [9.45908115e-02, 1.04200154e-01, 1.13372375e-01, 1.89389151e-01,\n",
              "        7.31295071e-02, 6.99850161e-02, 5.93422702e-04, 2.05296037e-02,\n",
              "        1.92443103e-01, 1.05781416e-01],\n",
              "       [4.19968949e-01, 4.62632981e-01, 5.03356261e-01, 8.40859289e-01,\n",
              "        3.24683991e-01, 3.10722925e-01, 2.63470737e-03, 9.11483468e-02,\n",
              "        8.54418379e-01, 4.69653545e-01],\n",
              "       [3.69615976e-01, 4.07164723e-01, 4.43005409e-01, 7.40042872e-01,\n",
              "        2.85755389e-01, 2.73468212e-01, 2.31881414e-03, 8.02199431e-02,\n",
              "        7.51976269e-01, 4.13343544e-01],\n",
              "       [4.26092317e-01, 4.69378413e-01, 5.10695460e-01, 8.53119460e-01,\n",
              "        3.29418055e-01, 3.15253429e-01, 2.67312279e-03, 9.24773376e-02,\n",
              "        8.66876248e-01, 4.76501341e-01],\n",
              "       [2.05571587e-01, 2.26455304e-01, 2.46389038e-01, 4.11594188e-01,\n",
              "        1.58930329e-01, 1.52096494e-01, 1.28966910e-03, 4.46164183e-02,\n",
              "        4.18231258e-01, 2.29891817e-01]])"
            ]
          },
          "metadata": {},
          "execution_count": 86
        }
      ],
      "source": [
        "A = np.random.uniform(0,1,10)\n",
        "B = np.random.uniform(0,1,10)\n",
        "np.einsum('i->', A) # np.sum(A)\n",
        "np.einsum('i,i->i', A, B) # A * B\n",
        "np.einsum('i,i', A, B) # np.inner(A, B)\n",
        "np.einsum('i,j', A, B) # np.outer(A, B)"
      ]
    },
    {
      "cell_type": "markdown",
      "metadata": {
        "id": "HU72Nx8a8aLC"
      },
      "source": [
        "#### 98. Considering a path described by two vectors (X,Y), how to sample it using equidistant samples (★★★)? \n",
        "(**hint**: np.cumsum, np.interp)"
      ]
    },
    {
      "cell_type": "code",
      "execution_count": 87,
      "metadata": {
        "collapsed": true,
        "id": "Qb-pxv9_8aLC"
      },
      "outputs": [],
      "source": [
        "phi = np.arange(0, 10*np.pi, 0.1)\n",
        "a = 1\n",
        "x = a*phi*np.cos(phi)\n",
        "y = a*phi*np.sin(phi)\n",
        "dr = (np.diff(x)**2 + np.diff(y)**2)**.5 \n",
        "r = np.zeros_like(x)\n",
        "r[1:] = np.cumsum(dr) \n",
        "r_int = np.linspace(0, r.max(), 200)\n",
        "x_int = np.interp(r_int, r, x) \n",
        "y_int = np.interp(r_int, r, y)"
      ]
    },
    {
      "cell_type": "markdown",
      "metadata": {
        "id": "-ZAngV-i8aLC"
      },
      "source": [
        "#### 99. Given an integer n and a 2D array X, select from X the rows which can be interpreted as draws from a multinomial distribution with n degrees, i.e., the rows which only contain integers and which sum to n. (★★★) \n",
        "(**hint**: np.logical\\_and.reduce, np.mod)"
      ]
    },
    {
      "cell_type": "code",
      "execution_count": 88,
      "metadata": {
        "id": "bsDvpKvq8aLC",
        "outputId": "0334794f-da3c-46ab-d891-0e604af36c04",
        "colab": {
          "base_uri": "https://localhost:8080/"
        }
      },
      "outputs": [
        {
          "output_type": "stream",
          "name": "stdout",
          "text": [
            "[[2. 0. 1. 1.]]\n"
          ]
        }
      ],
      "source": [
        "X = np.asarray([[1.0, 0.0, 3.0, 8.0],\n",
        "[2.0, 0.0, 1.0, 1.0],\n",
        "[1.5, 2.5, 1.0, 0.0]])\n",
        "n = 4\n",
        "M = np.logical_and.reduce(np.mod(X, 1) == 0, axis=-1)\n",
        "M &= (X.sum(axis=-1) == n)\n",
        "print(X[M])"
      ]
    },
    {
      "cell_type": "markdown",
      "metadata": {
        "id": "1sPnv_Zk8aLC"
      },
      "source": [
        "#### 100. Compute bootstrapped 95% confidence intervals for the mean of a 1D array X (i.e., resample the elements of an array with replacement N times, compute the mean of each sample, and then compute percentiles over the means). (★★★) \n",
        "(**hint**: np.percentile)"
      ]
    },
    {
      "cell_type": "code",
      "execution_count": 89,
      "metadata": {
        "id": "qMcr9rbk8aLC",
        "outputId": "7bf3a562-bbc2-44a4-844d-eb66cb737a59",
        "colab": {
          "base_uri": "https://localhost:8080/"
        }
      },
      "outputs": [
        {
          "output_type": "stream",
          "name": "stdout",
          "text": [
            "[-0.20679715  0.18774437]\n"
          ]
        }
      ],
      "source": [
        "X = np.random.randn(100) \n",
        "N = 1000 \n",
        "idx = np.random.randint(0, X.size, (N, X.size))\n",
        "means = X[idx].mean(axis=1)\n",
        "confint = np.percentile(means, [2.5, 97.5])\n",
        "print(confint)"
      ]
    }
  ],
  "metadata": {
    "kernelspec": {
      "display_name": "Python 3",
      "language": "python",
      "name": "python3"
    },
    "language_info": {
      "codemirror_mode": {
        "name": "ipython",
        "version": 3
      },
      "file_extension": ".py",
      "mimetype": "text/x-python",
      "name": "python",
      "nbconvert_exporter": "python",
      "pygments_lexer": "ipython3",
      "version": "3.8.3"
    },
    "colab": {
      "name": "Numpy_tasks.ipynb",
      "provenance": [],
      "include_colab_link": true
    }
  },
  "nbformat": 4,
  "nbformat_minor": 0
}